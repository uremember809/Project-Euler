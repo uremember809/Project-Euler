{
  "nbformat": 4,
  "nbformat_minor": 0,
  "metadata": {
    "colab": {
      "name": "Project Euler (26-30).ipynb",
      "version": "0.3.2",
      "provenance": [],
      "collapsed_sections": [],
      "include_colab_link": true
    },
    "kernelspec": {
      "display_name": "Python 3",
      "language": "python",
      "name": "python3"
    }
  },
  "cells": [
    {
      "cell_type": "markdown",
      "metadata": {
        "id": "view-in-github",
        "colab_type": "text"
      },
      "source": [
        "<a href=\"https://colab.research.google.com/github/uremember809/Project-Euler/blob/master/Project_Euler_(26_30).ipynb\" target=\"_parent\"><img src=\"https://colab.research.google.com/assets/colab-badge.svg\" alt=\"Open In Colab\"/></a>"
      ]
    },
    {
      "metadata": {
        "id": "mVJVNAeiEJb8",
        "colab_type": "code",
        "trusted": true,
        "colab": {}
      },
      "cell_type": "code",
      "source": [
        "%load_ext lab_black"
      ],
      "execution_count": 0,
      "outputs": []
    },
    {
      "metadata": {
        "colab_type": "text",
        "id": "Y6SyUInWZhIo"
      },
      "cell_type": "markdown",
      "source": [
        "<div id=\"content\">\n",
        "\n",
        "<h2>Reciprocal cycles</h2><div id=\"problem_info\"><h3>Problem 26 </h3></div>\n",
        "<div class=\"problem_content\" role=\"problem\">\n",
        "\n",
        "<p>A unit fraction contains 1 in the numerator. The decimal representation of the unit fractions with denominators 2 to 10 are given:</p>\n",
        "<blockquote>\n",
        "<table><tbody><tr><td><sup>1</sup>/<sub>2</sub></td><td>=&nbsp;</td><td>0.5</td>\n",
        "</tr><tr><td><sup>1</sup>/<sub>3</sub></td><td>=&nbsp;</td><td>0.(3)</td>\n",
        "</tr><tr><td><sup>1</sup>/<sub>4</sub></td><td>=&nbsp;</td><td>0.25</td>\n",
        "</tr><tr><td><sup>1</sup>/<sub>5</sub></td><td>=&nbsp;</td><td>0.2</td>\n",
        "</tr><tr><td><sup>1</sup>/<sub>6</sub></td><td>=&nbsp;</td><td>0.1(6)</td>\n",
        "</tr><tr><td><sup>1</sup>/<sub>7</sub></td><td>=&nbsp;</td><td>0.(142857)</td>\n",
        "</tr><tr><td><sup>1</sup>/<sub>8</sub></td><td>=&nbsp;</td><td>0.125</td>\n",
        "</tr><tr><td><sup>1</sup>/<sub>9</sub></td><td>=&nbsp;</td><td>0.(1)</td>\n",
        "</tr><tr><td><sup>1</sup>/<sub>10</sub></td><td>=&nbsp;</td><td>0.1</td>\n",
        "</tr></tbody></table></blockquote>\n",
        "<p>Where 0.1(6) means 0.166666..., and has a 1-digit recurring cycle. It can be seen that <sup>1</sup>/<sub>7</sub> has a 6-digit recurring cycle.</p>\n",
        "<p>Find the value of <i>d</i> &lt; 1000 for which <sup>1</sup>/<sub><i>d</i></sub> contains the longest recurring cycle in its decimal fraction part.</p>\n",
        "\n",
        "</div><br>\n",
        "<br></div>"
      ]
    },
    {
      "metadata": {
        "colab_type": "code",
        "id": "TddtsOsbZbdY",
        "trusted": true,
        "colab": {}
      },
      "cell_type": "code",
      "source": [
        "def reciprocal_cycles(x):\n",
        "\n",
        "    remainder_list = []\n",
        "    digital_part = []\n",
        "    remainder = 1\n",
        "\n",
        "    while remainder not in r:\n",
        "        r.append(remainder)\n",
        "        d.append(10 ** len(str(remainder)) * remainder // x)\n",
        "        remainder = 10 ** len(str(remainder)) * remainder % x\n",
        "    r.append(remainder)\n",
        "    while r[0] != r[-1]:\n",
        "        r.pop(0)\n",
        "\n",
        "    return r, \"\".join([str(i) for i in d])"
      ],
      "execution_count": 0,
      "outputs": []
    },
    {
      "metadata": {
        "colab_type": "code",
        "id": "FppnAASvdNrO",
        "outputId": "4778489e-e2fe-43fe-9f9f-babe4251aa68",
        "trusted": true,
        "colab": {
          "base_uri": "https://localhost:8080/",
          "height": 34
        }
      },
      "cell_type": "code",
      "source": [
        "%%time\n",
        "\n",
        "l = 0\n",
        "n = 1\n",
        "\n",
        "for i in range(1, 1000):\n",
        "\n",
        "    r, d = reciprocal_cycles(i)\n",
        "    if l < len(r):\n",
        "        l = len(r)\n",
        "        n = i\n",
        "        digits = d\n",
        "\n",
        "print(n, l - 1, digits)"
      ],
      "execution_count": 0,
      "outputs": [
        {
          "output_type": "stream",
          "text": [
            "971 341 01298661174047373841406179196704428424304840370751802265705458290422245108135942327497425334706488156539649845520823892893923789973124943357363542739443872296601441812564366632337796865087538619979426776519052523171987641606591143151393192584963954685890834191555978372811534505149330587236869270389598352214212152421853759113285272914521112255467971163748712667353244078269824922760411946446961894953656024716786817713697219361483072096282183316168898432543769399897013388259526261585993828329557157569515962924819773429454170957775489186457672502574665293511843463501544799176107106762109268795566426364572655612773398558187435633367662203913491246138025973223480947476828123583934088568486096874153604531410916580844490216271884654994850669412976313792996910416477857878475798146249886714727854788877445932028836251287332646755921730175077239958853553038105046343975283213182286302786385169927909371781668383110195674562306900102\n",
            "CPU times: user 126 ms, sys: 353 µs, total: 126 ms\n",
            "Wall time: 125 ms\n"
          ],
          "name": "stdout"
        }
      ]
    },
    {
      "metadata": {
        "id": "aVEO8FH5EJcH",
        "colab_type": "text"
      },
      "cell_type": "markdown",
      "source": [
        "\n",
        "<h2>Quadratic primes</h2><div id=\"problem_info\"><h3>Problem 27 <span style=\"float:right;\" class=\"info noprint\"></h3></div>\n",
        "<div class=\"problem_content\" role=\"problem\">\n",
        "<p>Euler discovered the remarkable quadratic formula:</p>\n",
        "<p style=\"text-align:center;\">$n^2 + n + 41$</p>\n",
        "<p>It turns out that the formula will produce 40 primes for the consecutive integer values $0 \\le n \\le 39$. However, when $n = 40, 40^2 + 40 + 41 = 40(40 + 1) + 41$ is divisible by 41, and certainly when $n = 41, 41^2 + 41 + 41$ is clearly divisible by 41.</p>\n",
        "<p>The incredible formula $n^2 - 79n + 1601$ was discovered, which produces 80 primes for the consecutive values $0 \\le n \\le 79$. The product of the coefficients, 79 and 1601, is 126479.</p>\n",
        "<p>Considering quadratics of the form:</p>\n",
        "<blockquote>\n",
        "$n^2 + an + b$, where $|a| <  1000$ and $|b| \\le 1000$<br /><br /><div>where $|n|$ is the modulus/absolute value of $n$<br />e.g. $|11| = 11$ and $|-4| = 4$</div>\n",
        "</blockquote>\n",
        "<p>Find the product of the coefficients, $a$ and $b$, for the quadratic expression that produces the maximum number of primes for consecutive values of $n$, starting with $n = 0$.</p>\n",
        "</div><br />\n",
        "<br /></div>\n"
      ]
    },
    {
      "metadata": {
        "id": "BwANkfHDEJcI",
        "colab_type": "code",
        "trusted": true,
        "colab": {}
      },
      "cell_type": "code",
      "source": [
        "import itertools"
      ],
      "execution_count": 0,
      "outputs": []
    },
    {
      "metadata": {
        "id": "Q-KRhATmEJcK",
        "colab_type": "code",
        "trusted": true,
        "colab": {}
      },
      "cell_type": "code",
      "source": [
        "def is_prime(n):\n",
        "\n",
        "    if n < 2:\n",
        "        return False\n",
        "    if n == 2:\n",
        "        return True\n",
        "\n",
        "    else:\n",
        "        for i in range(2, int(n ** .5) + 2):\n",
        "            if n % i == 0:\n",
        "                return False\n",
        "                break\n",
        "        return True"
      ],
      "execution_count": 0,
      "outputs": []
    },
    {
      "metadata": {
        "id": "-t2pJlnQEJcN",
        "colab_type": "code",
        "trusted": true,
        "colab": {}
      },
      "cell_type": "code",
      "source": [
        "def quadratic_primes(a, b):\n",
        "\n",
        "    n = 0\n",
        "    for num in itertools.count():\n",
        "\n",
        "        q = num ** 2 + a * num + b\n",
        "\n",
        "        if is_prime(q):\n",
        "            n = num\n",
        "        if not is_prime(q):\n",
        "            break\n",
        "\n",
        "    return n"
      ],
      "execution_count": 0,
      "outputs": []
    },
    {
      "metadata": {
        "id": "Ij7Z9LNxEJcP",
        "colab_type": "code",
        "outputId": "f75fe5e1-05e2-4866-84fc-1c01b1754b20",
        "trusted": true,
        "colab": {}
      },
      "cell_type": "code",
      "source": [
        "%%time\n",
        "\n",
        "n_ = 0\n",
        "for a, b in itertools.product(range(-1000, 1001), repeat=2):\n",
        "    if a != 1000 and a != -1000:\n",
        "        q = quadratic_primes(a, b)\n",
        "        if n_ < q:\n",
        "            n_ = q\n",
        "            result = a * b\n",
        "            m, n = a, b\n",
        "\n",
        "print(m, n, m * n)"
      ],
      "execution_count": 0,
      "outputs": [
        {
          "output_type": "stream",
          "text": [
            "-61 971 -59231\n",
            "CPU times: user 12.2 s, sys: 19.9 ms, total: 12.2 s\n",
            "Wall time: 12.2 s\n"
          ],
          "name": "stdout"
        }
      ]
    },
    {
      "metadata": {
        "id": "CbQhhe3kEJcS",
        "colab_type": "text"
      },
      "cell_type": "markdown",
      "source": [
        "<h2>Number spiral diagonals</h2><div id=\"problem_info\"><h3>Problem 28 <span style=\"float:right;\" class=\"info noprint\"></h3></div>\n",
        "<div class=\"problem_content\" role=\"problem\">\n",
        "<p>Starting with the number 1 and moving to the right in a clockwise direction a 5 by 5 spiral is formed as follows:</p>\n",
        "<p style=\"text-align:center;font-family:'courier new';\"><span style=\"color:#ff0000;font-family:'courier new';\"><b>21</b></span> 22 23 24 <span style=\"color:#ff0000;font-family:'courier new';\"><b>25</b></span><br />\n",
        "20  <span style=\"color:#ff0000;font-family:'courier new';\"><b>7 </b></span>  8   <span style=\"color:#ff0000;font-family:'courier new';\"><b>9</b></span> 10<br />\n",
        "19  6  <span style=\"color:#ff0000;font-family:'courier new';\"><b>1</b></span>  2 11<br />\n",
        "18  <span style=\"color:#ff0000;font-family:'courier new';\"><b>5</b></span>  4  <span style=\"color:#ff0000;font-family:'courier new';\"><b>3</b></span> 12<br /><span style=\"color:#ff0000;font-family:'courier new';\"><b>17</b></span> 16 15 14 <span style=\"color:#ff0000;font-family:'courier new';\"><b>13</b></span></p>\n",
        "<p>It can be verified that the sum of the numbers on the diagonals is 101.</p>\n",
        "<p>What is the sum of the numbers on the diagonals in a 1001 by 1001 spiral formed in the same way?</p>\n",
        "\n",
        "</div><br />"
      ]
    },
    {
      "metadata": {
        "id": "vEnafhSiEJcT",
        "colab_type": "code",
        "trusted": true,
        "colab": {}
      },
      "cell_type": "code",
      "source": [
        "def spiral(n):\n",
        "\n",
        "    if n == 1:\n",
        "        return [1]\n",
        "    elif n % 2 == 0:\n",
        "        return []\n",
        "    else:\n",
        "        num = n ** 2\n",
        "        return [num, num - (i - 1), num - (i - 1) * 2, num - (i - 1) * 3]"
      ],
      "execution_count": 0,
      "outputs": []
    },
    {
      "metadata": {
        "id": "Lmqek8-DEJcV",
        "colab_type": "code",
        "outputId": "2ee135d9-223a-42ac-f150-c9c2c249da0a",
        "trusted": true,
        "colab": {}
      },
      "cell_type": "code",
      "source": [
        "%%time\n",
        "sum_spiral = 0\n",
        "\n",
        "for i in range(1, 1002, 2):\n",
        "    sum_spiral += sum(spiral(i))\n",
        "\n",
        "print(sum_spiral)"
      ],
      "execution_count": 0,
      "outputs": [
        {
          "output_type": "stream",
          "text": [
            "669171001\n",
            "CPU times: user 2.45 ms, sys: 0 ns, total: 2.45 ms\n",
            "Wall time: 2.33 ms\n"
          ],
          "name": "stdout"
        }
      ]
    },
    {
      "metadata": {
        "id": "6Pg6c2BHEJcZ",
        "colab_type": "text"
      },
      "cell_type": "markdown",
      "source": [
        "<div id=\"content\">\n",
        "\n",
        "\n",
        "<h2>Distinct powers</h2><div id=\"problem_info\"><h3>Problem 29 <span style=\"float:right;\" class=\"info noprint\"></span></h3></div>\n",
        "<div class=\"problem_content\" role=\"problem\">\n",
        "\n",
        "<p>Consider all integer combinations of <i>a</i><sup><i>b</i></sup> for 2 $\\le$ <i>a</i> $\\le$ 5 and 2 $\\le$ <i>b</i> $\\le 5$:</p>\n",
        "<blockquote>2<sup>2</sup>=4, 2<sup>3</sup>=8, 2<sup>4</sup>=16, 2<sup>5</sup>=32<br>\n",
        "3<sup>2</sup>=9, 3<sup>3</sup>=27, 3<sup>4</sup>=81, 3<sup>5</sup>=243<br>\n",
        "4<sup>2</sup>=16, 4<sup>3</sup>=64, 4<sup>4</sup>=256, 4<sup>5</sup>=1024<br>\n",
        "5<sup>2</sup>=25, 5<sup>3</sup>=125, 5<sup>4</sup>=625, 5<sup>5</sup>=3125<br></blockquote>\n",
        "<p>If they are then placed in numerical order, with any repeats removed, we get the following sequence of 15 distinct terms:</p>\n",
        "<p style=\"text-align:center;\">4, 8, 9, 16, 25, 27, 32, 64, 81, 125, 243, 256, 625, 1024, 3125</p>\n",
        "<p>How many distinct terms are in the sequence generated by <i>a</i><sup><i>b</i></sup> for 2 $\\le$ <i>a</i> $\\le$ 100 and 2 $\\le$ <i>b</i> $\\le$ 100?</p>\n",
        "\n",
        "</div><br>\n",
        "<br></div>"
      ]
    },
    {
      "metadata": {
        "id": "kHKumJfrEJca",
        "colab_type": "code",
        "outputId": "ffcf7832-0600-4922-ce01-d9d21ed652ed",
        "trusted": true,
        "colab": {}
      },
      "cell_type": "code",
      "source": [
        "%%time\n",
        "distict_powers = set()\n",
        "\n",
        "for a, b in itertools.product(range(2, 101), repeat=2):\n",
        "    distict_powers.add((a ** b))\n",
        "\n",
        "print(len(distict_powers))"
      ],
      "execution_count": 0,
      "outputs": [
        {
          "output_type": "stream",
          "text": [
            "9183\n",
            "CPU times: user 15.6 ms, sys: 0 ns, total: 15.6 ms\n",
            "Wall time: 15.1 ms\n"
          ],
          "name": "stdout"
        }
      ]
    },
    {
      "metadata": {
        "id": "QXGMxKnjEJcc",
        "colab_type": "text"
      },
      "cell_type": "markdown",
      "source": [
        "<div id=\"content\">\n",
        "\n",
        "\n",
        "  <h2>Digit fifth powers</h2><h3>Problem 30</h3></div>\n",
        "<div class=\"problem_content\" role=\"problem\">\n",
        "\n",
        "<p>Surprisingly there are only three numbers that can be written as the sum of fourth powers of their digits:</p>\n",
        "<blockquote>1634 = 1<sup>4</sup> + 6<sup>4</sup> + 3<sup>4</sup> + 4<sup>4</sup><br>\n",
        "8208 = 8<sup>4</sup> + 2<sup>4</sup> + 0<sup>4</sup> + 8<sup>4</sup><br>\n",
        "9474 = 9<sup>4</sup> + 4<sup>4</sup> + 7<sup>4</sup> + 4<sup>4</sup></blockquote>\n",
        "<p class=\"info\">As 1 = 1<sup>4</sup> is not a sum it is not included.</p>\n",
        "<p>The sum of these numbers is 1634 + 8208 + 9474 = 19316.</p>\n",
        "<p>Find the sum of all the numbers that can be written as the sum of fifth powers of their digits.</p>\n",
        "\n",
        "</div><br>\n",
        "<br></div>"
      ]
    },
    {
      "metadata": {
        "id": "WrFdnXxeEJcc",
        "colab_type": "code",
        "outputId": "7dace1e3-cb21-4900-9519-9252e1cef78d",
        "trusted": true,
        "colab": {}
      },
      "cell_type": "code",
      "source": [
        "%%time\n",
        "def five_power():\n",
        "    l = []\n",
        "    for x in range(2, 355000):\n",
        "        y = str(x)\n",
        "        s = sum((int(i) ** 5 for i in y))\n",
        "        if x == s:\n",
        "            l.append(x)\n",
        "    return l\n",
        "\n",
        "\n",
        "f = five_power()\n",
        "print(f)\n",
        "sum_five = sum(f)\n",
        "sum_five"
      ],
      "execution_count": 0,
      "outputs": [
        {
          "output_type": "stream",
          "text": [
            "[4150, 4151, 54748, 92727, 93084, 194979]\n",
            "CPU times: user 1.54 s, sys: 3.99 ms, total: 1.55 s\n",
            "Wall time: 1.56 s\n"
          ],
          "name": "stdout"
        }
      ]
    },
    {
      "metadata": {
        "id": "NpdNhsWfEJcf",
        "colab_type": "code",
        "outputId": "a4a252e8-c491-4f4f-ffa9-c00bf95a7ffb",
        "trusted": true,
        "colab": {}
      },
      "cell_type": "code",
      "source": [
        "print(sum_five)"
      ],
      "execution_count": 0,
      "outputs": [
        {
          "output_type": "stream",
          "text": [
            "443839\n"
          ],
          "name": "stdout"
        }
      ]
    },
    {
      "metadata": {
        "id": "s_cXHjPvEJci",
        "colab_type": "code",
        "colab": {}
      },
      "cell_type": "code",
      "source": [
        ""
      ],
      "execution_count": 0,
      "outputs": []
    }
  ]
}