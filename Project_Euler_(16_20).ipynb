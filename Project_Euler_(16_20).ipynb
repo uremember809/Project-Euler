{
  "nbformat": 4,
  "nbformat_minor": 0,
  "metadata": {
    "colab": {
      "name": "Project Euler (16-20).ipynb",
      "version": "0.3.2",
      "provenance": [],
      "include_colab_link": true
    },
    "kernelspec": {
      "name": "python3",
      "display_name": "Python 3",
      "language": "python"
    }
  },
  "cells": [
    {
      "cell_type": "markdown",
      "metadata": {
        "id": "view-in-github",
        "colab_type": "text"
      },
      "source": [
        "<a href=\"https://colab.research.google.com/github/uremember809/Project-Euler/blob/master/Project_Euler_(16_20).ipynb\" target=\"_parent\"><img src=\"https://colab.research.google.com/assets/colab-badge.svg\" alt=\"Open In Colab\"/></a>"
      ]
    },
    {
      "metadata": {
        "id": "WzC2MNLBTbc_",
        "colab_type": "code",
        "trusted": true,
        "colab": {}
      },
      "cell_type": "code",
      "source": [
        "%load_ext lab_black"
      ],
      "execution_count": 0,
      "outputs": []
    },
    {
      "metadata": {
        "id": "I7Y8YSM4WXBj",
        "colab_type": "code",
        "trusted": true,
        "colab": {}
      },
      "cell_type": "code",
      "source": [
        "import numpy as np\n",
        "import itertools"
      ],
      "execution_count": 0,
      "outputs": []
    },
    {
      "metadata": {
        "id": "nxIWUxGeLiuV",
        "colab_type": "text"
      },
      "cell_type": "markdown",
      "source": [
        "<div id=\"content\">\n",
        "\n",
        "<h2>Power digit sum</h2><div id=\"problem_info\"><h3>Problem 16 </h3></div>\n",
        "<div class=\"problem_content\" role=\"problem\">\n",
        "\n",
        "<p>2<sup>15</sup> = 32768 and the sum of its digits is 3 + 2 + 7 + 6 + 8 = 26.</p>\n",
        "<p>What is the sum of the digits of the number 2<sup>1000</sup>?</p>\n",
        "\n",
        "</div></div>"
      ]
    },
    {
      "metadata": {
        "id": "8XKx-vPMLg7g",
        "colab_type": "code",
        "outputId": "ddd90a53-bf24-4fcb-c64a-a72bbce6c7f3",
        "trusted": true,
        "colab": {
          "base_uri": "https://localhost:8080/",
          "height": 34
        }
      },
      "cell_type": "code",
      "source": [
        "sum([int(x) for x in (str(2 ** 1000))])"
      ],
      "execution_count": 0,
      "outputs": [
        {
          "output_type": "execute_result",
          "data": {
            "text/plain": [
              "1366"
            ]
          },
          "metadata": {
            "tags": []
          },
          "execution_count": 3
        }
      ]
    },
    {
      "metadata": {
        "id": "tL56FkNrNMwG",
        "colab_type": "text"
      },
      "cell_type": "markdown",
      "source": [
        "<div id=\"content\">\n",
        "\n",
        "<h2>Number letter counts</h2><div id=\"problem_info\"><h3>Problem 17 </h3></div>\n",
        "<div class=\"problem_content\" role=\"problem\">\n",
        "<p>If the numbers 1 to 5 are written out in words: one, two, three, four, five, then there are 3 + 3 + 5 + 4 + 4 = 19 letters used in total.</p>\n",
        "<p>If all the numbers from 1 to 1000 (one thousand) inclusive were written out in words, how many letters would be used? </p>\n",
        "<br><p class=\"note\"><b>NOTE:</b> Do not count spaces or hyphens. For example, 342 (three hundred and forty-two) contains 23 letters and 115 (one hundred and fifteen) contains 20 letters. The use of \"and\" when writing out numbers is in compliance with British usage.</p>\n",
        "</div><br>\n",
        "<br></div>"
      ]
    },
    {
      "metadata": {
        "id": "GVvszq4PL2_D",
        "colab_type": "code",
        "trusted": true,
        "colab": {}
      },
      "cell_type": "code",
      "source": [
        "def number_to_word(n):\n",
        "\n",
        "    num = {\n",
        "        1: \"one\",\n",
        "        2: \"two\",\n",
        "        3: \"three\",\n",
        "        4: \"four\",\n",
        "        5: \"five\",\n",
        "        6: \"six\",\n",
        "        7: \"seven\",\n",
        "        8: \"eight\",\n",
        "        9: \"nine\",\n",
        "        10: \"ten\",\n",
        "        11: \"eleven\",\n",
        "        12: \"twelve\",\n",
        "        13: \"thirteen\",\n",
        "        14: \"fourteen\",\n",
        "        15: \"fifteen\",\n",
        "        16: \"sixteen\",\n",
        "        17: \"seventeen\",\n",
        "        18: \"eighteen\",\n",
        "        19: \"nineteen\",\n",
        "        20: \"twenty\",\n",
        "        30: \"thirty\",\n",
        "        40: \"forty\",\n",
        "        50: \"fifty\",\n",
        "        60: \"sixty\",\n",
        "        70: \"seventy\",\n",
        "        80: \"eighty\",\n",
        "        90: \"ninety\",\n",
        "        100: \"one hundred\",\n",
        "        1000: \"one thousand\",\n",
        "    }\n",
        "    if n in num:\n",
        "        return num[n]\n",
        "    elif n in range(21, 100):\n",
        "        if n % 10 != 0:\n",
        "            num[n] = num[n // 10 * 10] + \"-\" + num[n % 10]\n",
        "    elif n % 100 == 0:\n",
        "        num[n] = num[n // 100] + \" hundreds\"\n",
        "\n",
        "    elif n in range(101, 200):\n",
        "        num[n] = num[n // 100] + \" hundred and \" + number_to_word(n % 100)\n",
        "    elif n in range(201, 1000):\n",
        "        num[n] = num[n // 100] + \" hundreds and \" + number_to_word(n % 100)\n",
        "    else:\n",
        "        pass\n",
        "\n",
        "    return num[n]"
      ],
      "execution_count": 0,
      "outputs": []
    },
    {
      "metadata": {
        "id": "qIZ8u8-sT5Be",
        "colab_type": "code",
        "outputId": "547e7365-aad3-4b54-8bae-0d30ba3c5657",
        "trusted": true,
        "colab": {
          "base_uri": "https://localhost:8080/",
          "height": 68
        }
      },
      "cell_type": "code",
      "source": [
        "%%time\n",
        "\n",
        "l_all = 0\n",
        "\n",
        "for n in range(1, 1001):\n",
        "    l_all += len(number_to_word(n).replace(\" \", \"\").replace(\"-\", \"\"))\n",
        "\n",
        "print(l_all)"
      ],
      "execution_count": 0,
      "outputs": [
        {
          "output_type": "stream",
          "text": [
            "21924\n",
            "CPU times: user 10.4 ms, sys: 0 ns, total: 10.4 ms\n",
            "Wall time: 10.4 ms\n"
          ],
          "name": "stdout"
        }
      ]
    },
    {
      "metadata": {
        "id": "XMBHvduTjP_z",
        "colab_type": "text"
      },
      "cell_type": "markdown",
      "source": [
        "<div id=\"content\">\n",
        "\n",
        "<h2>Maximum path sum I</h2><div id=\"problem_info\"><h3>Problem 18</h3></div>\n",
        "<div class=\"problem_content\" role=\"problem\">\n",
        "<p>By starting at the top of the triangle below and moving to adjacent numbers on the row below, the maximum total from top to bottom is 23.</p>\n",
        "<p style=\"text-align:center;font-family:'courier new';font-size:12pt;\"><span style=\"color:#ff0000;\"><b>3</b></span><br><span style=\"color:#ff0000;\"><b>7</b></span> 4<br>\n",
        "2 <span style=\"color:#ff0000;\"><b>4</b></span> 6<br>\n",
        "8 5 <span style=\"color:#ff0000;\"><b>9</b></span> 3</p>\n",
        "<p>That is, 3 + 7 + 4 + 9 = 23.</p>\n",
        "<p>Find the maximum total from top to bottom of the triangle below:</p>\n",
        "<p style=\"text-align:center;font-family:'courier new';\">75<br>\n",
        "95 64<br>\n",
        "17 47 82<br>\n",
        "18 35 87 10<br>\n",
        "20 04 82 47 65<br>\n",
        "19 01 23 75 03 34<br>\n",
        "88 02 77 73 07 63 67<br>\n",
        "99 65 04 28 06 16 70 92<br>\n",
        "41 41 26 56 83 40 80 70 33<br>\n",
        "41 48 72 33 47 32 37 16 94 29<br>\n",
        "53 71 44 65 25 43 91 52 97 51 14<br>\n",
        "70 11 33 28 77 73 17 78 39 68 17 57<br>\n",
        "91 71 52 38 17 14 91 43 58 50 27 29 48<br>\n",
        "63 66 04 68 89 53 67 30 73 16 69 87 40 31<br>\n",
        "04 62 98 27 23 09 70 98 73 93 38 53 60 04 23</p>\n",
        "<p class=\"note\"><b>NOTE:</b> As there are only 16384 routes, it is possible to solve this problem by trying every route. However, <a href=\"problem=67\">Problem 67</a>, is the same challenge with a triangle containing one-hundred rows; it cannot be solved by brute force, and requires a clever method! ;o)</p>\n",
        "</div><br>\n",
        "<br></div>"
      ]
    },
    {
      "metadata": {
        "id": "m8qw5BNibahk",
        "colab_type": "code",
        "trusted": true,
        "colab": {}
      },
      "cell_type": "code",
      "source": [
        "x = \"\"\"75\n",
        "95 64\n",
        "17 47 82\n",
        "18 35 87 10\n",
        "20 04 82 47 65\n",
        "19 01 23 75 03 34\n",
        "88 02 77 73 07 63 67\n",
        "99 65 04 28 06 16 70 92\n",
        "41 41 26 56 83 40 80 70 33\n",
        "41 48 72 33 47 32 37 16 94 29\n",
        "53 71 44 65 25 43 91 52 97 51 14\n",
        "70 11 33 28 77 73 17 78 39 68 17 57\n",
        "91 71 52 38 17 14 91 43 58 50 27 29 48\n",
        "63 66 04 68 89 53 67 30 73 16 69 87 40 31\n",
        "04 62 98 27 23 09 70 98 73 93 38 53 60 04 23\"\"\""
      ],
      "execution_count": 0,
      "outputs": []
    },
    {
      "metadata": {
        "id": "5aqwY58FVOFb",
        "colab_type": "code",
        "trusted": true,
        "colab": {}
      },
      "cell_type": "code",
      "source": [
        "list_x = list(y.split() for y in x.split(\"\\n\"))"
      ],
      "execution_count": 0,
      "outputs": []
    },
    {
      "metadata": {
        "id": "qmlMh7qqVWY8",
        "colab_type": "code",
        "trusted": true,
        "colab": {}
      },
      "cell_type": "code",
      "source": [
        "arr_x = np.ones((15, 15), dtype=int)"
      ],
      "execution_count": 0,
      "outputs": []
    },
    {
      "metadata": {
        "id": "CcfzitjbV5OM",
        "colab_type": "code",
        "trusted": true,
        "colab": {}
      },
      "cell_type": "code",
      "source": [
        "for i, j in itertools.product(range(15), repeat=2):\n",
        "    try:\n",
        "        arr_x[i, j] = list_x[i][j]\n",
        "    except:\n",
        "        arr_x[i, j] = 0"
      ],
      "execution_count": 0,
      "outputs": []
    },
    {
      "metadata": {
        "id": "8_VGKw1CWqoc",
        "colab_type": "code",
        "outputId": "8fc96ea3-7786-41f0-a67b-92d982c0e27a",
        "trusted": true,
        "colab": {
          "base_uri": "https://localhost:8080/",
          "height": 272
        }
      },
      "cell_type": "code",
      "source": [
        "arr_x"
      ],
      "execution_count": 0,
      "outputs": [
        {
          "output_type": "execute_result",
          "data": {
            "text/plain": [
              "array([[75,  0,  0,  0,  0,  0,  0,  0,  0,  0,  0,  0,  0,  0,  0],\n",
              "       [95, 64,  0,  0,  0,  0,  0,  0,  0,  0,  0,  0,  0,  0,  0],\n",
              "       [17, 47, 82,  0,  0,  0,  0,  0,  0,  0,  0,  0,  0,  0,  0],\n",
              "       [18, 35, 87, 10,  0,  0,  0,  0,  0,  0,  0,  0,  0,  0,  0],\n",
              "       [20,  4, 82, 47, 65,  0,  0,  0,  0,  0,  0,  0,  0,  0,  0],\n",
              "       [19,  1, 23, 75,  3, 34,  0,  0,  0,  0,  0,  0,  0,  0,  0],\n",
              "       [88,  2, 77, 73,  7, 63, 67,  0,  0,  0,  0,  0,  0,  0,  0],\n",
              "       [99, 65,  4, 28,  6, 16, 70, 92,  0,  0,  0,  0,  0,  0,  0],\n",
              "       [41, 41, 26, 56, 83, 40, 80, 70, 33,  0,  0,  0,  0,  0,  0],\n",
              "       [41, 48, 72, 33, 47, 32, 37, 16, 94, 29,  0,  0,  0,  0,  0],\n",
              "       [53, 71, 44, 65, 25, 43, 91, 52, 97, 51, 14,  0,  0,  0,  0],\n",
              "       [70, 11, 33, 28, 77, 73, 17, 78, 39, 68, 17, 57,  0,  0,  0],\n",
              "       [91, 71, 52, 38, 17, 14, 91, 43, 58, 50, 27, 29, 48,  0,  0],\n",
              "       [63, 66,  4, 68, 89, 53, 67, 30, 73, 16, 69, 87, 40, 31,  0],\n",
              "       [ 4, 62, 98, 27, 23,  9, 70, 98, 73, 93, 38, 53, 60,  4, 23]])"
            ]
          },
          "metadata": {
            "tags": []
          },
          "execution_count": 10
        }
      ]
    },
    {
      "metadata": {
        "id": "Jb_vjoBCZ0Ud",
        "colab_type": "code",
        "trusted": true,
        "colab": {}
      },
      "cell_type": "code",
      "source": [
        "def path_sum(i, j):\n",
        "\n",
        "    arr_x_2 = arr_x.copy()\n",
        "\n",
        "    for x, y in itertools.product(range(i + 1), range(j + 1)):\n",
        "\n",
        "        if x != 0 and y != 0:\n",
        "            arr_x_2[x, y] = (\n",
        "                max(arr_x_2[x - 1, y - 1], arr_x_2[x - 1, y]) + arr_x_2[x, y]\n",
        "            )\n",
        "\n",
        "        elif y == 0 and x != 0:\n",
        "            arr_x_2[x, y] = arr_x_2[x - 1, y] + arr_x_2[x, y]\n",
        "\n",
        "    return arr_x_2[i, j]"
      ],
      "execution_count": 0,
      "outputs": []
    },
    {
      "metadata": {
        "id": "a_UaoDPyfBFf",
        "colab_type": "code",
        "outputId": "34e3bce8-aa8a-4d1b-e63a-6fc1a827178f",
        "trusted": true,
        "colab": {
          "base_uri": "https://localhost:8080/",
          "height": 34
        }
      },
      "cell_type": "code",
      "source": [
        "path_sum(1, 0)"
      ],
      "execution_count": 0,
      "outputs": [
        {
          "output_type": "execute_result",
          "data": {
            "text/plain": [
              "170"
            ]
          },
          "metadata": {
            "tags": []
          },
          "execution_count": 12
        }
      ]
    },
    {
      "metadata": {
        "id": "HUx5aBs9fFVv",
        "colab_type": "code",
        "outputId": "01b1b80b-75c8-4b62-e2cf-d1d878043827",
        "trusted": true,
        "colab": {
          "base_uri": "https://localhost:8080/",
          "height": 306
        }
      },
      "cell_type": "code",
      "source": [
        "   %%time\n",
        "\n",
        "for i in range(15):\n",
        "    print(path_sum(14, i))"
      ],
      "execution_count": 0,
      "outputs": [
        {
          "output_type": "stream",
          "text": [
            "794\n",
            "855\n",
            "891\n",
            "881\n",
            "927\n",
            "913\n",
            "1040\n",
            "1068\n",
            "1054\n",
            "1074\n",
            "977\n",
            "992\n",
            "994\n",
            "796\n",
            "724\n",
            "CPU times: user 5.69 ms, sys: 0 ns, total: 5.69 ms\n",
            "Wall time: 4.82 ms\n"
          ],
          "name": "stdout"
        }
      ]
    },
    {
      "metadata": {
        "id": "2Z4Yhymielii",
        "colab_type": "text"
      },
      "cell_type": "markdown",
      "source": [
        "<div id=\"content\">\n",
        "\n",
        "<h2>Counting Sundays</h2><div id=\"problem_info\"><h3>Problem 19 </h3></div>\n",
        "<div class=\"problem_content\" role=\"problem\">\n",
        "\n",
        "<p>You are given the following information, but you may prefer to do some research for yourself.</p>\n",
        "<ul><li>1 Jan 1900 was a Monday.</li>\n",
        "<li>Thirty days has September,<br>\n",
        "April, June and November.<br>\n",
        "All the rest have thirty-one,<br>\n",
        "Saving February alone,<br>\n",
        "Which has twenty-eight, rain or shine.<br>\n",
        "And on leap years, twenty-nine.</li>\n",
        "<li>A leap year occurs on any year evenly divisible by 4, but not on a century unless it is divisible by 400.</li>\n",
        "</ul><p>How many Sundays fell on the first of the month during the twentieth century (1 Jan 1901 to 31 Dec 2000)?</p>\n",
        "\n",
        "</div><br>\n",
        "<br></div>"
      ]
    },
    {
      "metadata": {
        "id": "AM_1pd4qgEs_",
        "colab_type": "code",
        "trusted": true,
        "colab": {}
      },
      "cell_type": "code",
      "source": [
        "def cal_gen(y=1900):\n",
        "\n",
        "    m = 1\n",
        "    d = 1\n",
        "\n",
        "    yield d, m, y\n",
        "\n",
        "    while 1:\n",
        "\n",
        "        if y % 4 == 0 and y % 100 == 0 and y % 400 != 0 and m == 2 and d == 28:\n",
        "            d = 1\n",
        "            m += 1\n",
        "\n",
        "        elif y % 4 == 0 and m == 2 and d == 29:\n",
        "            m += 1\n",
        "            d = 1\n",
        "\n",
        "        elif m == 2 and d == 28:\n",
        "            m += 1\n",
        "            d = 1\n",
        "\n",
        "        elif m in [9, 4, 6, 11] and d == 30:\n",
        "            d = 1\n",
        "            m += 1\n",
        "\n",
        "        elif d == 31 and m == 12:\n",
        "            d = 1\n",
        "            m = 1\n",
        "            y += 1\n",
        "\n",
        "        elif d == 31:\n",
        "            d = 1\n",
        "            m += 1\n",
        "\n",
        "        else:\n",
        "            d += 1\n",
        "\n",
        "        yield d, m, y"
      ],
      "execution_count": 0,
      "outputs": []
    },
    {
      "metadata": {
        "id": "dApNSlZKkNVe",
        "colab_type": "code",
        "outputId": "2fbcc697-eec8-439c-cc01-779f1e0be3bb",
        "trusted": true,
        "colab": {
          "base_uri": "https://localhost:8080/",
          "height": 68
        }
      },
      "cell_type": "code",
      "source": [
        "%%time\n",
        "\n",
        "day_week = itertools.cycle(range(1, 8))\n",
        "cal = cal_gen()\n",
        "count_ = 0\n",
        "\n",
        "while 1:\n",
        "    w = next(day_week)\n",
        "    d, m, y = next(cal)\n",
        "\n",
        "    if y in range(1901, 2001):\n",
        "        if d == 1 and w == 7:\n",
        "            count_ += 1\n",
        "    elif y > 2000:\n",
        "        break\n",
        "\n",
        "print(count_)"
      ],
      "execution_count": 0,
      "outputs": [
        {
          "output_type": "stream",
          "text": [
            "171\n",
            "CPU times: user 53.5 ms, sys: 3.75 ms, total: 57.2 ms\n",
            "Wall time: 56.5 ms\n"
          ],
          "name": "stdout"
        }
      ]
    },
    {
      "metadata": {
        "id": "eUQ-oVg_56h2",
        "colab_type": "text"
      },
      "cell_type": "markdown",
      "source": [
        "<div id=\"content\">\n",
        "\n",
        "<h2>Factorial digit sum</h2><div id=\"problem_info\"><h3>Problem 20 </h3></div>\n",
        "<div class=\"problem_content\" role=\"problem\">\n",
        "<p><i>n</i>! means <i>n</i> X (<i>n</i> - 1) X ... X 3 X 2 X 1</p>\n",
        "<p>For example, 10! = 10 X 9 X ... X 3 X 2 X 1 = 3628800,<br>and the sum of the digits in the number 10! is 3 + 6 + 2 + 8 + 8 + 0 + 0 = 27.</p>\n",
        "<p>Find the sum of the digits in the number 100!</p>\n",
        "\n",
        "</div><br>\n",
        "<br></div>"
      ]
    },
    {
      "metadata": {
        "id": "UGeAZHGfp543",
        "colab_type": "code",
        "trusted": true,
        "colab": {}
      },
      "cell_type": "code",
      "source": [
        "def prod(x):\n",
        "    from operator import mul\n",
        "    from functools import reduce\n",
        "\n",
        "    return reduce(mul, list((x for x in range(1, x + 1))), 1)"
      ],
      "execution_count": 0,
      "outputs": []
    },
    {
      "metadata": {
        "id": "eG94SSZhx9j_",
        "colab_type": "code",
        "outputId": "150b9aa1-e3a2-458d-9cc5-1132181c26a7",
        "trusted": true,
        "colab": {
          "base_uri": "https://localhost:8080/",
          "height": 68
        }
      },
      "cell_type": "code",
      "source": [
        "%time sum(list(int(x) for x in str(prod(100))))"
      ],
      "execution_count": 0,
      "outputs": [
        {
          "output_type": "stream",
          "text": [
            "CPU times: user 172 ÃÂµs, sys: 17 ÃÂµs, total: 189 ÃÂµs\n",
            "Wall time: 196 ÃÂµs\n"
          ],
          "name": "stdout"
        },
        {
          "output_type": "execute_result",
          "data": {
            "text/plain": [
              "648"
            ]
          },
          "metadata": {
            "tags": []
          },
          "execution_count": 17
        }
      ]
    },
    {
      "metadata": {
        "id": "gtHlELXZyVLw",
        "colab_type": "code",
        "colab": {}
      },
      "cell_type": "code",
      "source": [
        ""
      ],
      "execution_count": 0,
      "outputs": []
    }
  ]
}