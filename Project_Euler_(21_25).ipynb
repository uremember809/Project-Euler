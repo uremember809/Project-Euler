{
  "nbformat": 4,
  "nbformat_minor": 0,
  "metadata": {
    "colab": {
      "name": "Project Euler (21-25).ipynb",
      "version": "0.3.2",
      "provenance": [],
      "include_colab_link": true
    },
    "kernelspec": {
      "name": "python3",
      "display_name": "Python 3",
      "language": "python"
    }
  },
  "cells": [
    {
      "cell_type": "markdown",
      "metadata": {
        "id": "view-in-github",
        "colab_type": "text"
      },
      "source": [
        "<a href=\"https://colab.research.google.com/github/uremember809/Project-Euler/blob/master/Project_Euler_(21_25).ipynb\" target=\"_parent\"><img src=\"https://colab.research.google.com/assets/colab-badge.svg\" alt=\"Open In Colab\"/></a>"
      ]
    },
    {
      "metadata": {
        "trusted": true,
        "id": "6dKB9uNoQ_R5",
        "colab_type": "code",
        "colab": {}
      },
      "cell_type": "code",
      "source": [
        "%load_ext lab_black"
      ],
      "execution_count": 0,
      "outputs": []
    },
    {
      "metadata": {
        "id": "8uVqyqL4phi6",
        "colab_type": "text"
      },
      "cell_type": "markdown",
      "source": [
        "<div id=\"content\">\n",
        "\n",
        "\n",
        "<h2>Amicable numbers</h2><div id=\"problem_info\"><h3>Problem 21 </h3></div>\n",
        "<div class=\"problem_content\" role=\"problem\">\n",
        "<p>Let d(<i>n</i>) be defined as the sum of proper divisors of <i>n</i> (numbers less than <i>n</i> which divide evenly into <i>n</i>).<br>\n",
        "If d(<i>a</i>) = <i>b</i> and d(<i>b</i>) = <i>a</i>, where <i>a</i> $\\ne$  <i>b</i>, then <i>a</i> and <i>b</i> are an amicable pair and each of <i>a</i> and <i>b</i> are called amicable numbers.</p>\n",
        "<p>For example, the proper divisors of 220 are 1, 2, 4, 5, 10, 11, 20, 22, 44, 55 and 110; therefore d(220) = 284. The proper divisors of 284 are 1, 2, 4, 71 and 142; so d(284) = 220.</p>\n",
        "<p>Evaluate the sum of all the amicable numbers under 10000.</p>\n",
        "</div><br>\n",
        "<br></div>"
      ]
    },
    {
      "metadata": {
        "id": "YoduvWrNmu3d",
        "colab_type": "code",
        "trusted": true,
        "colab": {}
      },
      "cell_type": "code",
      "source": [
        "def fact_sum(n):  # slow way\n",
        "    sum_ = 0\n",
        "    for i in range(1, n // 2 + 1):\n",
        "        if n % i == 0:\n",
        "            sum_ += i\n",
        "    return sum_"
      ],
      "execution_count": 0,
      "outputs": []
    },
    {
      "metadata": {
        "id": "ahE8dT-KrhKb",
        "colab_type": "code",
        "trusted": true,
        "colab": {}
      },
      "cell_type": "code",
      "source": [
        "def fact_sum2(n):  # right way\n",
        "\n",
        "    sum_ = 1\n",
        "\n",
        "    for i in range(2, int(n ** .5 + 1)):\n",
        "        if n % i == 0:\n",
        "            if n // i == i:\n",
        "                sum_ += i\n",
        "            else:\n",
        "                sum_ += i\n",
        "                sum_ += n // i\n",
        "\n",
        "    return sum_"
      ],
      "execution_count": 0,
      "outputs": []
    },
    {
      "metadata": {
        "id": "pKUjR0qUXYGo",
        "colab_type": "code",
        "outputId": "af459589-afd3-4a52-ca00-c09e400dfeba",
        "trusted": true,
        "colab": {
          "base_uri": "https://localhost:8080/",
          "height": 153
        }
      },
      "cell_type": "code",
      "source": [
        "%%time\n",
        "\n",
        "sum_10000 = 0\n",
        "for n in range(1, 10000):\n",
        "    if (fact_sum2(fact_sum2(n))) == n and n < (fact_sum2(n)):\n",
        "        print(n, \":\", fact_sum2(n))\n",
        "        sum_10000 += n + (fact_sum2(n))\n",
        "print(sum_10000)"
      ],
      "execution_count": 0,
      "outputs": [
        {
          "output_type": "stream",
          "text": [
            "220 : 284\n",
            "1184 : 1210\n",
            "2620 : 2924\n",
            "5020 : 5564\n",
            "6232 : 6368\n",
            "31626\n",
            "CPU times: user 113 ms, sys: 8.02 ms, total: 121 ms\n",
            "Wall time: 117 ms\n"
          ],
          "name": "stdout"
        }
      ]
    },
    {
      "metadata": {
        "id": "SJJ_FxQ0u1Ti",
        "colab_type": "text"
      },
      "cell_type": "markdown",
      "source": [
        "<div id=\"content\">\n",
        "\n",
        "\n",
        "<h2>Names scores</h2><div id=\"problem_info\"><h3>Problem 22</h3></div>\n",
        "<div class=\"problem_content\" role=\"problem\">\n",
        "<p>Using <a href=\"https://projecteuler.net/project/resources/p022_names.txt\">names.txt</a> (right click and 'Save Link/Target As...'), a 46K text file containing over five-thousand first names, begin by sorting it into alphabetical order. Then working out the alphabetical value for each name, multiply this value by its alphabetical position in the list to obtain a name score.</p>\n",
        "<p>For example, when the list is sorted into alphabetical order, COLIN, which is worth 3 + 15 + 12 + 9 + 14 = 53, is the 938th name in the list. So, COLIN would obtain a score of 938 X 53 = 49714.</p>\n",
        "<p>What is the total of all the name scores in the file?</p>\n",
        "\n",
        "</div><br>\n",
        "<br></div>"
      ]
    },
    {
      "metadata": {
        "id": "vZc5So7vmkOH",
        "colab_type": "code",
        "outputId": "414e77a5-9564-4a4d-826c-594d82633dc1",
        "trusted": true,
        "colab": {
          "base_uri": "https://localhost:8080/",
          "height": 34
        }
      },
      "cell_type": "code",
      "source": [
        "%%time\n",
        "\n",
        "import requests\n",
        "\n",
        "a_to_1_map = {a: i + 1 for i, a in enumerate(\"ABCDEFGHIJKLMNOPQRSTUVWXYZ\")}\n",
        "\n",
        "\n",
        "def a_to_1(x):\n",
        "    return a_to_1_map[x]\n",
        "\n",
        "\n",
        "file = requests.get(\"https://projecteuler.net/project/resources/p022_names.txt\")\n",
        "f = file.content.decode(\"utf-8\")\n",
        "f = f.strip('\"').split('\",\"')\n",
        "f.sort()\n",
        "\n",
        "f_list = [list(i) for i in f]  # name to list ['m', 'i', 'k', 'e']\n",
        "num_list = [list(map(a_to_1, li)) for li in f_list]\n",
        "name_score = [sum(x) * (i + 1) for i, x in enumerate(num_list)]\n",
        "\n",
        "print(sum(name_score))"
      ],
      "execution_count": 0,
      "outputs": [
        {
          "output_type": "stream",
          "text": [
            "871198282\n",
            "CPU times: user 168 ms, sys: 16.2 ms, total: 184 ms\n",
            "Wall time: 951 ms\n"
          ],
          "name": "stdout"
        }
      ]
    },
    {
      "metadata": {
        "id": "OEIQkXrDILO9",
        "colab_type": "text"
      },
      "cell_type": "markdown",
      "source": [
        "<div id=\"content\">\n",
        "\n",
        "\n",
        "<h2>Non-abundant sums</h2><div id=\"problem_info\"><h3>Problem 23 </h3></div>\n",
        "<div class=\"problem_content\" role=\"problem\">\n",
        "<p>A perfect number is a number for which the sum of its proper divisors is exactly equal to the number. For example, the sum of the proper divisors of 28 would be 1 + 2 + 4 + 7 + 14 = 28, which means that 28 is a perfect number.</p>\n",
        "<p>A number <var>n</var> is called deficient if the sum of its proper divisors is less than <var>n</var> and it is called abundant if this sum exceeds <var>n</var>.</p>\n",
        "\n",
        "<p>As 12 is the smallest abundant number, 1 + 2 + 3 + 4 + 6 = 16, the smallest number that can be written as the sum of two abundant numbers is 24. By mathematical analysis, it can be shown that all integers greater than 28123 can be written as the sum of two abundant numbers. However, this upper limit cannot be reduced any further by analysis even though it is known that the greatest number that cannot be expressed as the sum of two abundant numbers is less than this limit.</p>\n",
        "<p>Find the sum of all the positive integers which cannot be written as the sum of two abundant numbers.</p>\n",
        "\n",
        "</div><br>\n",
        "<br></div>"
      ]
    },
    {
      "metadata": {
        "id": "w4OiK3-Xn_Qd",
        "colab_type": "code",
        "outputId": "d24c1ea7-593a-4316-ed78-1e37dac6fe34",
        "trusted": true,
        "colab": {
          "base_uri": "https://localhost:8080/",
          "height": 34
        }
      },
      "cell_type": "code",
      "source": [
        "%%time\n",
        "import itertools\n",
        "\n",
        "\n",
        "def abundant_gen():\n",
        "    for i in range(12, 28124):\n",
        "        if fact_sum2(i) > i:\n",
        "            yield i\n",
        "\n",
        "\n",
        "sum__ = (1 + 28123) * 28123 // 2\n",
        "abundant = list(i for i in abundant_gen())\n",
        "\n",
        "abundant_2_sum = itertools.combinations_with_replacement(abundant, 2)\n",
        "\n",
        "abundatable_list = set(sum(x) for x in abundant_2_sum if sum(x) < 28124)\n",
        "\n",
        "print(sum__ - sum((abundatable_list)))"
      ],
      "execution_count": 0,
      "outputs": [
        {
          "output_type": "stream",
          "text": [
            "4179871\n",
            "CPU times: user 10.1 s, sys: 11.1 ms, total: 10.1 s\n",
            "Wall time: 10.1 s\n"
          ],
          "name": "stdout"
        }
      ]
    },
    {
      "metadata": {
        "id": "xIP45IsaK8Sm",
        "colab_type": "code",
        "trusted": true,
        "colab": {}
      },
      "cell_type": "code",
      "source": [
        "def abundantable():\n",
        "    for x in abundant_2_sum:\n",
        "        yield sum(x)"
      ],
      "execution_count": 0,
      "outputs": []
    },
    {
      "metadata": {
        "id": "yHrCqM2E4Vjx",
        "colab_type": "text"
      },
      "cell_type": "markdown",
      "source": [
        "<div id=\"content\">\n",
        "\n",
        "<h2>Lexicographic permutations</h2><div id=\"problem_info\"><h3>Problem 24 </h3></div>\n",
        "<div class=\"problem_content\" role=\"problem\">\n",
        "<p>A permutation is an ordered arrangement of objects. For example, 3124 is one possible permutation of the digits 1, 2, 3 and 4. If all of the permutations are listed numerically or alphabetically, we call it lexicographic order. The lexicographic permutations of 0, 1 and 2 are:</p>\n",
        "<p style=\"text-align:center;\">012&nbsp; &nbsp;021&nbsp; &nbsp;102&nbsp; &nbsp;120&nbsp; &nbsp;201&nbsp; &nbsp;210</p>\n",
        "<p>What is the millionth lexicographic permutation of the digits 0, 1, 2, 3, 4, 5, 6, 7, 8 and 9?</p>\n",
        "\n",
        "</div><br>\n",
        "<br></div>"
      ]
    },
    {
      "metadata": {
        "id": "QCnVjWlNokem",
        "colab_type": "code",
        "trusted": true,
        "colab": {}
      },
      "cell_type": "code",
      "source": [
        "lexi = itertools.permutations(list(\"0123456789\"))"
      ],
      "execution_count": 0,
      "outputs": []
    },
    {
      "metadata": {
        "id": "Yuvpyzor5qhr",
        "colab_type": "code",
        "outputId": "ed1fc890-9d4d-4dae-c942-a55e1c0ab986",
        "trusted": true,
        "colab": {
          "base_uri": "https://localhost:8080/",
          "height": 68
        }
      },
      "cell_type": "code",
      "source": [
        "%%time\n",
        "for i, l in enumerate(lexi):\n",
        "    if i == (1000000 - 1):\n",
        "        print(i + 1, int(\"\".join(list(l))))\n",
        "        break"
      ],
      "execution_count": 0,
      "outputs": [
        {
          "output_type": "stream",
          "text": [
            "1000000 2783915460\n",
            "CPU times: user 194 ms, sys: 0 ns, total: 194 ms\n",
            "Wall time: 196 ms\n"
          ],
          "name": "stdout"
        }
      ]
    },
    {
      "metadata": {
        "id": "flJV8_9aBgtj",
        "colab_type": "text"
      },
      "cell_type": "markdown",
      "source": [
        "<div id=\"content\">\n",
        "\n",
        "<h2>1000-digit Fibonacci number</h2><div id=\"problem_info\"><h3>Problem 25 </h3></div>\n",
        "<div class=\"problem_content\" role=\"problem\">\n",
        "<p>The Fibonacci sequence is defined by the recurrence relation:</p>\n",
        "<blockquote>F<sub><i>n</i></sub> = F<sub><i>n</i>-1</sub> + F<sub><i>n</i>-2</sub>, where F<sub>1</sub> = 1 and F<sub>2</sub> = 1.</blockquote>\n",
        "<p>Hence the first 12 terms will be:</p>\n",
        "<blockquote>F<sub>1</sub> = 1<br>\n",
        "F<sub>2</sub> = 1<br>\n",
        "F<sub>3</sub> = 2<br>\n",
        "F<sub>4</sub> = 3<br>\n",
        "F<sub>5</sub> = 5<br>\n",
        "F<sub>6</sub> = 8<br>\n",
        "F<sub>7</sub> = 13<br>\n",
        "F<sub>8</sub> = 21<br>\n",
        "F<sub>9</sub> = 34<br>\n",
        "F<sub>10</sub> = 55<br>\n",
        "F<sub>11</sub> = 89<br>\n",
        "F<sub>12</sub> = 144</blockquote>\n",
        "<p>The 12th term, F<sub>12</sub>, is the first term to contain three digits.</p>\n",
        "<p>What is the index of the first term in the Fibonacci sequence to contain 1000 digits?</p>\n",
        "\n",
        "</div><br>\n",
        "<br></div>"
      ]
    },
    {
      "metadata": {
        "id": "Do81N-7p9a5k",
        "colab_type": "code",
        "trusted": true,
        "colab": {}
      },
      "cell_type": "code",
      "source": [
        "    def fib_gen(i=1, j=1):\n",
        "      yield 1\n",
        "      yield 1\n",
        "\n",
        "      while 1:\n",
        "        i, j = i+j, i\n",
        "        yield i"
      ],
      "execution_count": 0,
      "outputs": []
    },
    {
      "metadata": {
        "id": "DFL-TL5jF8NP",
        "colab_type": "code",
        "outputId": "f40f73ef-7fb6-4d19-d22b-3b81b5e695a8",
        "trusted": true,
        "colab": {
          "base_uri": "https://localhost:8080/",
          "height": 54
        }
      },
      "cell_type": "code",
      "source": [
        "    %%time\n",
        "    for i, f in enumerate(fib_gen()):\n",
        "        if f > (10**999-1):\n",
        "          print(i+1, f)\n",
        "          break"
      ],
      "execution_count": 0,
      "outputs": [
        {
          "output_type": "stream",
          "text": [
            "4782 1070066266382758936764980584457396885083683896632151665013235203375314520604694040621889147582489792657804694888177591957484336466672569959512996030461262748092482186144069433051234774442750273781753087579391666192149259186759553966422837148943113074699503439547001985432609723067290192870526447243726117715821825548491120525013201478612965931381792235559657452039506137551467837543229119602129934048260706175397706847068202895486902666185435124521900369480641357447470911707619766945691070098024393439617474103736912503231365532164773697023167755051595173518460579954919410967778373229665796581646513903488154256310184224190259846088000110186255550245493937113651657039447629584714548523425950428582425306083544435428212611008992863795048006894330309773217834864543113205765659868456288616808718693835297350643986297640660000723562917905207051164077614812491885830945940566688339109350944456576357666151619317753792891661581327159616877487983821820492520348473874384736771934512787029218636250627816\n",
            "CPU times: user 37 ms, sys: 0 ns, total: 37 ms\n",
            "Wall time: 36.4 ms\n"
          ],
          "name": "stdout"
        }
      ]
    },
    {
      "metadata": {
        "colab_type": "code",
        "outputId": "731fda8d-5c19-40ea-9cca-4428737bd862",
        "id": "y5PqQs_-NGXp",
        "trusted": true,
        "colab": {
          "base_uri": "https://localhost:8080/",
          "height": 258
        }
      },
      "cell_type": "code",
      "source": [
        "%%time\n",
        "\n",
        "for i, f in enumerate(fib_gen()):\n",
        "    if len(str(f)) == 1000:\n",
        "        print(i + 1, f)\n",
        "        break"
      ],
      "execution_count": 0,
      "outputs": [
        {
          "output_type": "stream",
          "text": [
            "4782 1070066266382758936764980584457396885083683896632151665013235203375314520604694040621889147582489792657804694888177591957484336466672569959512996030461262748092482186144069433051234774442750273781753087579391666192149259186759553966422837148943113074699503439547001985432609723067290192870526447243726117715821825548491120525013201478612965931381792235559657452039506137551467837543229119602129934048260706175397706847068202895486902666185435124521900369480641357447470911707619766945691070098024393439617474103736912503231365532164773697023167755051595173518460579954919410967778373229665796581646513903488154256310184224190259846088000110186255550245493937113651657039447629584714548523425950428582425306083544435428212611008992863795048006894330309773217834864543113205765659868456288616808718693835297350643986297640660000723562917905207051164077614812491885830945940566688339109350944456576357666151619317753792891661581327159616877487983821820492520348473874384736771934512787029218636250627816\n",
            "CPU times: user 70.7 ms, sys: 0 ns, total: 70.7 ms\n",
            "Wall time: 70.4 ms\n"
          ],
          "name": "stdout"
        }
      ]
    },
    {
      "metadata": {
        "id": "WbEkhg_uGKJG",
        "colab_type": "code",
        "colab": {}
      },
      "cell_type": "code",
      "source": [
        ""
      ],
      "execution_count": 0,
      "outputs": []
    }
  ]
}