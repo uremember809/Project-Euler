{
  "nbformat": 4,
  "nbformat_minor": 0,
  "metadata": {
    "colab": {
      "name": "Project Euler (46-50).ipynb",
      "version": "0.3.2",
      "provenance": [],
      "collapsed_sections": [],
      "include_colab_link": true
    },
    "kernelspec": {
      "name": "python3",
      "display_name": "Python 3",
      "language": "python"
    }
  },
  "cells": [
    {
      "cell_type": "markdown",
      "metadata": {
        "id": "view-in-github",
        "colab_type": "text"
      },
      "source": [
        "<a href=\"https://colab.research.google.com/github/uremember809/Project-Euler/blob/master/Project_Euler_(46_50).ipynb\" target=\"_parent\"><img src=\"https://colab.research.google.com/assets/colab-badge.svg\" alt=\"Open In Colab\"/></a>"
      ]
    },
    {
      "metadata": {
        "trusted": true,
        "id": "bSqigSHrpM3V",
        "colab_type": "code",
        "colab": {}
      },
      "cell_type": "code",
      "source": [
        "%load_ext lab_black"
      ],
      "execution_count": 0,
      "outputs": []
    },
    {
      "metadata": {
        "trusted": true,
        "id": "zyTOrMYTpM3Y",
        "colab_type": "code",
        "colab": {}
      },
      "cell_type": "code",
      "source": [
        "import itertools"
      ],
      "execution_count": 0,
      "outputs": []
    },
    {
      "metadata": {
        "id": "l26_7r61kEFc",
        "colab_type": "text"
      },
      "cell_type": "markdown",
      "source": [
        "<div id=\"content\">\n",
        "\n",
        "<h2>Goldbach's other conjecture</h2><div id=\"problem_info\"><h3>Problem 46</h3></div>\n",
        "<div class=\"problem_content\" role=\"problem\">\n",
        "<p>It was proposed by Christian Goldbach that every odd composite number can be written as the sum of a prime and twice a square.</p>\n",
        "<p style=\"margin-left:10px;\">9 = 7 + 2 X 1<sup>2</sup><br>\n",
        "15 = 7 + 2 X 2<sup>2</sup><br>\n",
        "21 = 3 + 2 X 3<sup>2</sup><br>\n",
        "25 = 7 + 2 X 3<sup>2</sup><br>\n",
        "27 = 19 + 2 X 2<sup>2</sup><br>\n",
        "33 = 31 + 2 X 1<sup>2</sup></p>\n",
        "<p>It turns out that the conjecture was false.</p>\n",
        "<p>What is the smallest odd composite that cannot be written as the sum of a prime and twice a square?</p>\n",
        "\n",
        "</div></div>"
      ]
    },
    {
      "metadata": {
        "id": "tfl4ckiTkEFd",
        "colab_type": "code",
        "outputId": "12c3fdb6-f2f7-4f7d-a441-03b5c7cd7777",
        "trusted": true,
        "colab": {
          "base_uri": "https://localhost:8080/",
          "height": 153485
        }
      },
      "cell_type": "code",
      "source": [
        "%%time\n",
        "\n",
        "\n",
        "def odd_composite_gen():\n",
        "    for i in itertools.count(9, 2):\n",
        "        e = int(i ** .5) + 1\n",
        "        for j in range(3, e + 1):\n",
        "            if i % j == 0:\n",
        "                yield i\n",
        "                break\n",
        "\n",
        "\n",
        "def prime_gen(n):\n",
        "    yield 2\n",
        "    for i in range(3, n + 1, 2):\n",
        "        e = int(i ** .5) + 1\n",
        "        for j in range(2, e + 1):\n",
        "            if i % j == 0:\n",
        "                break\n",
        "        else:\n",
        "            yield i\n",
        "\n",
        "\n",
        "def goldbach_conj():\n",
        "    for n in odd_composite_gen():\n",
        "        for p, s in itertools.product(prime_gen(n), range(1, int(n ** .5) + 2)):\n",
        "            # print(n, p, s)\n",
        "            if n == p + s ** 2 * 2:\n",
        "                # print(f\"{n} = {p} + 2 X ({s}**2)\")\n",
        "                yield n\n",
        "                break\n",
        "\n",
        "        else:\n",
        "            print(f\"got you: {n}\")\n",
        "            break\n",
        "\n",
        "\n",
        "for i in goldbach_conj():\n",
        "    pass"
      ],
      "execution_count": 0,
      "outputs": [
        {
          "output_type": "stream",
          "text": [
            "got you: 5777\n",
            "CPU times: user 8.25 s, sys: 3.85 ms, total: 8.25 s\n",
            "Wall time: 8.26 s\n"
          ],
          "name": "stdout"
        }
      ]
    },
    {
      "metadata": {
        "id": "Od0KcVY-pM3f",
        "colab_type": "text"
      },
      "cell_type": "markdown",
      "source": [
        "<div id=\"content\">\n",
        "\n",
        "<h2>Distinct primes factors</h2><div id=\"problem_info\"><h3>Problem 47</h3></div>\n",
        "<div class=\"problem_content\" role=\"problem\">\n",
        "<p>The first two consecutive numbers to have two distinct prime factors are:</p>\n",
        "<p style=\"margin-left:100px;\">14 = 2 X 7<br>15 = 3 X 5</p>\n",
        "<p>The first three consecutive numbers to have three distinct prime factors are:</p>\n",
        "<p style=\"margin-left:100px;\">644 = 2² X 7 X 23<br>645 = 3 X 5 X 43<br>646 = 2 X 17 X 19.</p>\n",
        "<p>Find the first four consecutive integers to have four distinct prime factors each. What is the first of these numbers?</p>\n",
        "\n",
        "</div></div>"
      ]
    },
    {
      "metadata": {
        "trusted": true,
        "id": "ogWHi0LlpM3g",
        "colab_type": "code",
        "colab": {}
      },
      "cell_type": "code",
      "source": [
        "def factors(n):\n",
        "    m = n\n",
        "    s = []\n",
        "    for i in range(2, int(n ** .5) + 2):\n",
        "        while n % i == 0:\n",
        "            n //= i\n",
        "            s.append(i)\n",
        "    else:\n",
        "        if n > i:\n",
        "            s.append(n)\n",
        "    return m, len(set(s)), s"
      ],
      "execution_count": 0,
      "outputs": []
    },
    {
      "metadata": {
        "trusted": true,
        "id": "5tOMBK9wpM3l",
        "colab_type": "code",
        "colab": {},
        "outputId": "7f046835-2459-475a-e348-b1313c1a54d2"
      },
      "cell_type": "code",
      "source": [
        "%%time\n",
        "\n",
        "l = []\n",
        "for x in (m for m, i, s in (factors(n) for n in itertools.count(1)) if i == 4):\n",
        "    l.append(x)\n",
        "    try:\n",
        "        if l[-1] != l[-2] + 1:\n",
        "            l = [l[-1]]\n",
        "    except:\n",
        "        pass\n",
        "\n",
        "    if len(l) == 4:\n",
        "        print(l)\n",
        "        break"
      ],
      "execution_count": 0,
      "outputs": [
        {
          "output_type": "stream",
          "text": [
            "[134043, 134044, 134045, 134046]\n",
            "CPU times: user 2.76 s, sys: 7.95 ms, total: 2.77 s\n",
            "Wall time: 2.78 s\n"
          ],
          "name": "stdout"
        }
      ]
    },
    {
      "metadata": {
        "id": "MJRUNhkHpM3p",
        "colab_type": "text"
      },
      "cell_type": "markdown",
      "source": [
        "<div id=\"content\">\n",
        "\n",
        "<h2>Self powers</h2><div id=\"problem_info\"><h3>Problem 48</h3></div>\n",
        "<div class=\"problem_content\" role=\"problem\">\n",
        "\n",
        "<p>The series, 1<sup>1</sup> + 2<sup>2</sup> + 3<sup>3</sup> + ... + 10<sup>10</sup> = 10405071317.</p>\n",
        "<p>Find the last ten digits of the series, 1<sup>1</sup> + 2<sup>2</sup> + 3<sup>3</sup> + ... + 1000<sup>1000</sup>.</p>\n",
        "\n",
        "</div><br>\n",
        "<br></div>"
      ]
    },
    {
      "metadata": {
        "trusted": true,
        "id": "YysUuCmNpM3p",
        "colab_type": "code",
        "colab": {},
        "outputId": "9e120c29-e6dd-47e3-9401-fcdbfecc3c21"
      },
      "cell_type": "code",
      "source": [
        "%%time\n",
        "str(sum(list(i ** i for i in range(1, 1001))))[-10:]"
      ],
      "execution_count": 0,
      "outputs": [
        {
          "output_type": "stream",
          "text": [
            "CPU times: user 13.5 ms, sys: 14 µs, total: 13.5 ms\n",
            "Wall time: 13.7 ms\n"
          ],
          "name": "stdout"
        },
        {
          "output_type": "execute_result",
          "data": {
            "text/plain": [
              "'9110846700'"
            ]
          },
          "metadata": {
            "tags": []
          },
          "execution_count": 6
        }
      ]
    },
    {
      "metadata": {
        "id": "RFPGIrxlpM3u",
        "colab_type": "text"
      },
      "cell_type": "markdown",
      "source": [
        "<div id=\"content\">\n",
        "\n",
        "<h2>Prime permutations</h2><div id=\"problem_info\"><h3>Problem 49</h3></div>\n",
        "<div class=\"problem_content\" role=\"problem\">\n",
        "<p>The arithmetic sequence, 1487, 4817, 8147, in which each of the terms increases by 3330, is unusual in two ways: (i) each of the three terms are prime, and, (ii) each of the 4-digit numbers are permutations of one another.</p>\n",
        "<p>There are no arithmetic sequences made up of three 1-, 2-, or 3-digit primes, exhibiting this property, but there is one other 4-digit increasing sequence.</p>\n",
        "<p>What 12-digit number do you form by concatenating the three terms in this sequence?</p>\n",
        "\n",
        "</div></div>"
      ]
    },
    {
      "metadata": {
        "trusted": true,
        "id": "w8_DfyTapM3u",
        "colab_type": "code",
        "colab": {}
      },
      "cell_type": "code",
      "source": [
        "def prime_gen_4():\n",
        "    for i in range(1001, 10000, 2):\n",
        "        e = int(i ** .5) + 1\n",
        "        for j in range(2, e + 1):\n",
        "            if i % j == 0:\n",
        "                break\n",
        "        else:\n",
        "            yield i"
      ],
      "execution_count": 0,
      "outputs": []
    },
    {
      "metadata": {
        "trusted": true,
        "id": "GbG3rlFepM3w",
        "colab_type": "code",
        "colab": {}
      },
      "cell_type": "code",
      "source": [
        "def is_prime(n):\n",
        "    if n < 2:\n",
        "        return False\n",
        "    if n < 4:\n",
        "        return True\n",
        "    e = int(n ** .5) + 1\n",
        "    for i in range(2, e + 1):\n",
        "        if n % i == 0:\n",
        "            return False\n",
        "    else:\n",
        "        return True"
      ],
      "execution_count": 0,
      "outputs": []
    },
    {
      "metadata": {
        "trusted": true,
        "id": "N-39j5yIpM3y",
        "colab_type": "code",
        "colab": {}
      },
      "cell_type": "code",
      "source": [
        "def pri_perm(n):\n",
        "    l = list(str(n))\n",
        "    l = list(itertools.permutations(l))\n",
        "    l = [\"\".join(i) for i in l]\n",
        "    l = [int(i.lstrip(\"0\")) for i in l]\n",
        "\n",
        "    return l"
      ],
      "execution_count": 0,
      "outputs": []
    },
    {
      "metadata": {
        "trusted": true,
        "id": "v7_zrfdfpM3z",
        "colab_type": "code",
        "colab": {},
        "outputId": "6d38a4ba-f8d7-40c4-f4ef-56c801fa3415"
      },
      "cell_type": "code",
      "source": [
        "%%time\n",
        "\n",
        "for i in prime_gen_4():\n",
        "    l = list(set(pri_perm(i)))\n",
        "    l.sort()\n",
        "    for a, b, c in itertools.combinations(l, 3):\n",
        "        if (\n",
        "            a > 1000\n",
        "            and b - a == c - b\n",
        "            and is_prime(a)\n",
        "            and is_prime(b)\n",
        "            and is_prime(c)\n",
        "        ):\n",
        "            print(a, b, c)"
      ],
      "execution_count": 0,
      "outputs": [
        {
          "output_type": "stream",
          "text": [
            "1487 4817 8147\n",
            "1487 4817 8147\n",
            "2969 6299 9629\n",
            "2969 6299 9629\n",
            "1487 4817 8147\n",
            "1487 4817 8147\n",
            "2969 6299 9629\n",
            "1487 4817 8147\n",
            "1487 4817 8147\n",
            "1487 4817 8147\n",
            "1487 4817 8147\n",
            "2969 6299 9629\n",
            "CPU times: user 405 ms, sys: 4.01 ms, total: 409 ms\n",
            "Wall time: 405 ms\n"
          ],
          "name": "stdout"
        }
      ]
    },
    {
      "metadata": {
        "trusted": true,
        "id": "RvnWJmsCpM31",
        "colab_type": "code",
        "colab": {},
        "outputId": "4d1a5da8-7391-4752-b73e-004c5dfc0561"
      },
      "cell_type": "code",
      "source": [
        "%%time\n",
        "\n",
        "\n",
        "def prime_gen_4_():\n",
        "    for i in range(1001, 10000, 2):\n",
        "        e = int(i ** .5) + 1\n",
        "        for j in range(2, e + 1):\n",
        "            if i % j == 0:\n",
        "                break\n",
        "        else:\n",
        "            l_ = list(str(i))\n",
        "            l_ = itertools.permutations(l_)\n",
        "            l_ = list(set(\"\".join(m) for m in l_))\n",
        "            l_.sort()\n",
        "            l_ = list(int(num_str.lstrip(\"0\")) for num_str in l_)\n",
        "            l_ = list(num for num in l_ if (num > 1000 and is_prime(num)))\n",
        "            yield l_\n",
        "\n",
        "\n",
        "s = set(tuple(x) for x in list(l for l in prime_gen_4_() if len(l) > 2))\n",
        "\n",
        "for t in s:\n",
        "    for a, b, c in itertools.combinations(t, 3):\n",
        "        if b - a == c - b:\n",
        "            print(a, b, c)"
      ],
      "execution_count": 0,
      "outputs": [
        {
          "output_type": "stream",
          "text": [
            "2969 6299 9629\n",
            "1487 4817 8147\n",
            "CPU times: user 94.7 ms, sys: 3.99 ms, total: 98.7 ms\n",
            "Wall time: 97.1 ms\n"
          ],
          "name": "stdout"
        }
      ]
    },
    {
      "metadata": {
        "id": "6UNngKClpM33",
        "colab_type": "text"
      },
      "cell_type": "markdown",
      "source": [
        "<div id=\"content\">\n",
        "\n",
        "<h2>Consecutive prime sum</h2><div id=\"problem_info\"><h3>Problem 50 </h3></div>\n",
        "<div class=\"problem_content\" role=\"problem\">\n",
        "<p>The prime 41, can be written as the sum of six consecutive primes:</p>\n",
        "<div style=\"text-align:center;\">41 = 2 + 3 + 5 + 7 + 11 + 13</div>\n",
        "<p>This is the longest sum of consecutive primes that adds to a prime below one-hundred.</p>\n",
        "<p>The longest sum of consecutive primes below one-thousand that adds to a prime, contains 21 terms, and is equal to 953.</p>\n",
        "<p>Which prime, below one-million, can be written as the sum of the most consecutive primes?</p>\n",
        "</div></div>"
      ]
    },
    {
      "metadata": {
        "trusted": true,
        "id": "jRfMQZ86pM35",
        "colab_type": "code",
        "colab": {},
        "outputId": "56c340df-ff9a-4c0a-a028-d0da51fc8750"
      },
      "cell_type": "code",
      "source": [
        "%%time\n",
        "\n",
        "\n",
        "def prime_1m():\n",
        "    yield 2\n",
        "    for i in range(3, 1000000, 2):\n",
        "        e = int(i ** .5) + 1\n",
        "        for j in range(2, e + 1):\n",
        "            if i % j == 0:\n",
        "                break\n",
        "        else:\n",
        "            yield i\n",
        "\n",
        "\n",
        "p1m = list(i for i in prime_1m())\n",
        "\n",
        "lenth_1m = len(p1m)"
      ],
      "execution_count": 0,
      "outputs": [
        {
          "output_type": "stream",
          "text": [
            "CPU times: user 5.29 s, sys: 20 ms, total: 5.31 s\n",
            "Wall time: 5.32 s\n"
          ],
          "name": "stdout"
        }
      ]
    },
    {
      "metadata": {
        "trusted": true,
        "id": "89hc4nF0pM37",
        "colab_type": "code",
        "colab": {},
        "outputId": "d95ad233-74a1-4475-f712-7eff167ff34a"
      },
      "cell_type": "code",
      "source": [
        "lenth_1m"
      ],
      "execution_count": 0,
      "outputs": [
        {
          "output_type": "execute_result",
          "data": {
            "text/plain": [
              "78498"
            ]
          },
          "metadata": {
            "tags": []
          },
          "execution_count": 13
        }
      ]
    },
    {
      "metadata": {
        "trusted": true,
        "id": "BkNXPx8TpM39",
        "colab_type": "code",
        "colab": {},
        "outputId": "65417daf-f515-4043-f66a-6f81b00c3aba"
      },
      "cell_type": "code",
      "source": [
        "%%time\n",
        "\n",
        "sum_ = 0\n",
        "\n",
        "for i in range(lenth_1m):\n",
        "\n",
        "    if is_prime(sum_):\n",
        "        break\n",
        "    else:\n",
        "        sum_ = 0\n",
        "\n",
        "    for j in range(i, lenth_1m):\n",
        "        if sum_ < 1000000:\n",
        "            sum_ += p1m[j]\n",
        "        else:\n",
        "            sum_ -= p1m[j - 1]\n",
        "            print(f\"[{i}:{j-1}], {j-1-i} numbers with a sum of {sum_}\")\n",
        "            break"
      ],
      "execution_count": 0,
      "outputs": [
        {
          "output_type": "stream",
          "text": [
            "[0:546], 546 numbers with a sum of 997661\n",
            "[1:546], 545 numbers with a sum of 997659\n",
            "[2:546], 544 numbers with a sum of 997656\n",
            "[3:546], 543 numbers with a sum of 997651\n",
            "CPU times: user 1.48 ms, sys: 0 ns, total: 1.48 ms\n",
            "Wall time: 1.27 ms\n"
          ],
          "name": "stdout"
        }
      ]
    },
    {
      "metadata": {
        "trusted": true,
        "id": "DoAsp_ynpM3-",
        "colab_type": "code",
        "colab": {}
      },
      "cell_type": "code",
      "source": [
        "import numpy as np"
      ],
      "execution_count": 0,
      "outputs": []
    },
    {
      "metadata": {
        "trusted": true,
        "id": "1Rip38eipM3_",
        "colab_type": "code",
        "colab": {},
        "outputId": "d2cb9b7f-efd6-4399-c4aa-ca7465faece0"
      },
      "cell_type": "code",
      "source": [
        "%%time\n",
        "\n",
        "arr = np.array(p1m)\n",
        "for i in range(lenth_1m):\n",
        "    a = arr[i:].cumsum()\n",
        "    a = a[a < 1000000]\n",
        "    sum__ = a[-1]\n",
        "    if is_prime(sum__):\n",
        "        print(sum__, i, len(a))\n",
        "        break"
      ],
      "execution_count": 0,
      "outputs": [
        {
          "output_type": "stream",
          "text": [
            "997651 3 543\n",
            "CPU times: user 12.8 ms, sys: 0 ns, total: 12.8 ms\n",
            "Wall time: 12.2 ms\n"
          ],
          "name": "stdout"
        }
      ]
    },
    {
      "metadata": {
        "trusted": true,
        "id": "KRqfJUWNpM4C",
        "colab_type": "code",
        "colab": {},
        "outputId": "f2d48516-eaa5-4a29-a6f4-c4bb27aa0011"
      },
      "cell_type": "code",
      "source": [
        "for i in range(77950, lenth_1m):\n",
        "    if is_prime(sum_):\n",
        "        print(f\"{i},\\t {j}\\t{len(p1m[j : lenth_1m +j - i])}\\t{sum_}\")\n",
        "\n",
        "        break\n",
        "    for j in range(0, i):\n",
        "        sum_ = sum(p1m[j : lenth_1m + j - i])\n",
        "        if sum_ < 1000000:\n",
        "            print(f\"{i},\\t {j}\\t{len(p1m[j : lenth_1m +j - i])}\\t{sum_}\")\n",
        "            break"
      ],
      "execution_count": 0,
      "outputs": [
        {
          "output_type": "stream",
          "text": [
            "77950,\t 547\t548\t997651\n"
          ],
          "name": "stdout"
        }
      ]
    },
    {
      "metadata": {
        "id": "8TleUsKvpM4E",
        "colab_type": "text"
      },
      "cell_type": "markdown",
      "source": [
        "The last one is the result of a failed idea"
      ]
    }
  ]
}