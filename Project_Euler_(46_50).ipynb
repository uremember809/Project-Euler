{
  "nbformat": 4,
  "nbformat_minor": 0,
  "metadata": {
    "colab": {
      "name": "Project Euler (46-50).ipynb",
      "version": "0.3.2",
      "provenance": [],
      "collapsed_sections": [],
      "include_colab_link": true
    },
    "kernelspec": {
      "name": "python3",
      "display_name": "Python 3",
      "language": "python"
    }
  },
  "cells": [
    {
      "cell_type": "markdown",
      "metadata": {
        "id": "view-in-github",
        "colab_type": "text"
      },
      "source": [
        "<a href=\"https://colab.research.google.com/github/uremember809/Project-Euler/blob/master/Project_Euler_(46_50).ipynb\" target=\"_parent\"><img src=\"https://colab.research.google.com/assets/colab-badge.svg\" alt=\"Open In Colab\"/></a>"
      ]
    },
    {
      "metadata": {
        "id": "Bcbsxp9dqIiU",
        "colab_type": "code",
        "trusted": true,
        "colab": {}
      },
      "cell_type": "code",
      "source": [
        "%load_ext lab_black"
      ],
      "execution_count": 0,
      "outputs": []
    },
    {
      "metadata": {
        "id": "o9IFsMYLqIii",
        "colab_type": "code",
        "trusted": true,
        "colab": {}
      },
      "cell_type": "code",
      "source": [
        "import itertools"
      ],
      "execution_count": 0,
      "outputs": []
    },
    {
      "metadata": {
        "id": "l26_7r61kEFc",
        "colab_type": "text"
      },
      "cell_type": "markdown",
      "source": [
        "<div id=\"content\">\n",
        "\n",
        "<h2>Goldbach's other conjecture</h2><div id=\"problem_info\"><h3>Problem 46</h3></div>\n",
        "<div class=\"problem_content\" role=\"problem\">\n",
        "<p>It was proposed by Christian Goldbach that every odd composite number can be written as the sum of a prime and twice a square.</p>\n",
        "<p style=\"margin-left:10px;\">9 = 7 + 2 X 1<sup>2</sup><br>\n",
        "15 = 7 + 2 X 2<sup>2</sup><br>\n",
        "21 = 3 + 2 X 3<sup>2</sup><br>\n",
        "25 = 7 + 2 X 3<sup>2</sup><br>\n",
        "27 = 19 + 2 X 2<sup>2</sup><br>\n",
        "33 = 31 + 2 X 1<sup>2</sup></p>\n",
        "<p>It turns out that the conjecture was false.</p>\n",
        "<p>What is the smallest odd composite that cannot be written as the sum of a prime and twice a square?</p>\n",
        "\n",
        "</div></div>"
      ]
    },
    {
      "metadata": {
        "id": "tfl4ckiTkEFd",
        "colab_type": "code",
        "outputId": "aac7c9a1-2489-4336-f7d3-493c1b2306b8",
        "trusted": true,
        "colab": {
          "base_uri": "https://localhost:8080/",
          "height": 70
        }
      },
      "cell_type": "code",
      "source": [
        "%%time\n",
        "\n",
        "\n",
        "def odd_composite_gen():\n",
        "    for i in itertools.count(9, 2):\n",
        "        e = int(i ** .5) + 1\n",
        "        for j in range(3, e + 1):\n",
        "            if i % j == 0:\n",
        "                yield i\n",
        "                break\n",
        "\n",
        "\n",
        "def prime_gen(n):\n",
        "    yield 2\n",
        "    for i in range(3, n + 1, 2):\n",
        "        e = int(i ** .5) + 1\n",
        "        for j in range(2, e + 1):\n",
        "            if i % j == 0:\n",
        "                break\n",
        "        else:\n",
        "            yield i\n",
        "\n",
        "\n",
        "def goldbach_conj():\n",
        "    for n in odd_composite_gen():\n",
        "        for p, s in itertools.product(prime_gen(n), range(1, int(n ** .5) + 2)):\n",
        "            # print(n, p, s)\n",
        "            if n == p + s ** 2 * 2:\n",
        "                # print(f\"{n} = {p} + 2 X ({s}**2)\")\n",
        "                yield n\n",
        "                break\n",
        "\n",
        "        else:\n",
        "            print(f\"got you: {n}\")\n",
        "            break\n",
        "\n",
        "\n",
        "for i in goldbach_conj():\n",
        "    pass"
      ],
      "execution_count": 3,
      "outputs": [
        {
          "output_type": "stream",
          "text": [
            "got you: 5777\n",
            "CPU times: user 8.99 s, sys: 2.81 ms, total: 8.99 s\n",
            "Wall time: 8.99 s\n"
          ],
          "name": "stdout"
        }
      ]
    },
    {
      "metadata": {
        "id": "Qdtg-71WqIjD",
        "colab_type": "text"
      },
      "cell_type": "markdown",
      "source": [
        "<div id=\"content\">\n",
        "\n",
        "<h2>Distinct primes factors</h2><div id=\"problem_info\"><h3>Problem 47</h3></div>\n",
        "<div class=\"problem_content\" role=\"problem\">\n",
        "<p>The first two consecutive numbers to have two distinct prime factors are:</p>\n",
        "<p style=\"margin-left:100px;\">14 = 2 X 7<br>15 = 3 X 5</p>\n",
        "<p>The first three consecutive numbers to have three distinct prime factors are:</p>\n",
        "<p style=\"margin-left:100px;\">644 = 2ÃÂ² X 7 X 23<br>645 = 3 X 5 X 43<br>646 = 2 X 17 X 19.</p>\n",
        "<p>Find the first four consecutive integers to have four distinct prime factors each. What is the first of these numbers?</p>\n",
        "\n",
        "</div></div>"
      ]
    },
    {
      "metadata": {
        "id": "tsKiGE4ZqIjF",
        "colab_type": "code",
        "trusted": true,
        "colab": {}
      },
      "cell_type": "code",
      "source": [
        "def factors(n):\n",
        "    m = n\n",
        "    s = []\n",
        "    for i in range(2, int(n ** .5) + 2):\n",
        "        while n % i == 0:\n",
        "            n //= i\n",
        "            s.append(i)\n",
        "    else:\n",
        "        if n > i:\n",
        "            s.append(n)\n",
        "    return m, len(set(s)), s"
      ],
      "execution_count": 0,
      "outputs": []
    },
    {
      "metadata": {
        "id": "UusY4KOsqIjP",
        "colab_type": "code",
        "outputId": "e0a3340d-1682-41f0-9f27-83f0e8952e06",
        "trusted": true,
        "colab": {
          "base_uri": "https://localhost:8080/",
          "height": 70
        }
      },
      "cell_type": "code",
      "source": [
        "%%time\n",
        "\n",
        "l = []\n",
        "for x in (m for m, i, s in (factors(n) for n in itertools.count(1)) if i == 4):\n",
        "    l.append(x)\n",
        "    try:\n",
        "        if l[-1] != l[-2] + 1:\n",
        "            l = [l[-1]]\n",
        "    except:\n",
        "        pass\n",
        "\n",
        "    if len(l) == 4:\n",
        "        print(l)\n",
        "        break"
      ],
      "execution_count": 5,
      "outputs": [
        {
          "output_type": "stream",
          "text": [
            "[134043, 134044, 134045, 134046]\n",
            "CPU times: user 3.36 s, sys: 53 µs, total: 3.36 s\n",
            "Wall time: 3.36 s\n"
          ],
          "name": "stdout"
        }
      ]
    },
    {
      "metadata": {
        "id": "jXmfjRNRqIja",
        "colab_type": "text"
      },
      "cell_type": "markdown",
      "source": [
        "<div id=\"content\">\n",
        "\n",
        "<h2>Self powers</h2><div id=\"problem_info\"><h3>Problem 48</h3></div>\n",
        "<div class=\"problem_content\" role=\"problem\">\n",
        "\n",
        "<p>The series, 1<sup>1</sup> + 2<sup>2</sup> + 3<sup>3</sup> + ... + 10<sup>10</sup> = 10405071317.</p>\n",
        "<p>Find the last ten digits of the series, 1<sup>1</sup> + 2<sup>2</sup> + 3<sup>3</sup> + ... + 1000<sup>1000</sup>.</p>\n",
        "\n",
        "</div><br>\n",
        "<br></div>"
      ]
    },
    {
      "metadata": {
        "id": "jqxGSRwAqIjc",
        "colab_type": "code",
        "outputId": "109bb7e3-62ba-47d1-951f-27fb3309f5b0",
        "trusted": true,
        "colab": {
          "base_uri": "https://localhost:8080/",
          "height": 70
        }
      },
      "cell_type": "code",
      "source": [
        "%%time\n",
        "str(sum(list(i ** i for i in range(1, 1001))))[-10:]"
      ],
      "execution_count": 6,
      "outputs": [
        {
          "output_type": "stream",
          "text": [
            "CPU times: user 12.2 ms, sys: 1.01 ms, total: 13.2 ms\n",
            "Wall time: 14 ms\n"
          ],
          "name": "stdout"
        },
        {
          "output_type": "execute_result",
          "data": {
            "text/plain": [
              "'9110846700'"
            ]
          },
          "metadata": {
            "tags": []
          },
          "execution_count": 6
        }
      ]
    },
    {
      "metadata": {
        "id": "jGsnDvzMqIjk",
        "colab_type": "text"
      },
      "cell_type": "markdown",
      "source": [
        "<div id=\"content\">\n",
        "\n",
        "<h2>Prime permutations</h2><div id=\"problem_info\"><h3>Problem 49</h3></div>\n",
        "<div class=\"problem_content\" role=\"problem\">\n",
        "<p>The arithmetic sequence, 1487, 4817, 8147, in which each of the terms increases by 3330, is unusual in two ways: (i) each of the three terms are prime, and, (ii) each of the 4-digit numbers are permutations of one another.</p>\n",
        "<p>There are no arithmetic sequences made up of three 1-, 2-, or 3-digit primes, exhibiting this property, but there is one other 4-digit increasing sequence.</p>\n",
        "<p>What 12-digit number do you form by concatenating the three terms in this sequence?</p>\n",
        "\n",
        "</div></div>"
      ]
    },
    {
      "metadata": {
        "id": "ea7TISx0qIjl",
        "colab_type": "code",
        "trusted": true,
        "colab": {}
      },
      "cell_type": "code",
      "source": [
        "def prime_gen_4():\n",
        "    for i in range(1001, 10000, 2):\n",
        "        e = int(i ** .5) + 1\n",
        "        for j in range(2, e + 1):\n",
        "            if i % j == 0:\n",
        "                break\n",
        "        else:\n",
        "            yield i"
      ],
      "execution_count": 0,
      "outputs": []
    },
    {
      "metadata": {
        "id": "iLrenXBSqIjo",
        "colab_type": "code",
        "trusted": true,
        "colab": {}
      },
      "cell_type": "code",
      "source": [
        "def is_prime(n):\n",
        "    if n < 2:\n",
        "        return False\n",
        "    if n < 4:\n",
        "        return True\n",
        "    e = int(n ** .5) + 1\n",
        "    for i in range(2, e + 1):\n",
        "        if n % i == 0:\n",
        "            return False\n",
        "    else:\n",
        "        return True"
      ],
      "execution_count": 0,
      "outputs": []
    },
    {
      "metadata": {
        "id": "KS_2n64hqIjr",
        "colab_type": "code",
        "trusted": true,
        "colab": {}
      },
      "cell_type": "code",
      "source": [
        "def pri_perm(n):\n",
        "    l = list(str(n))\n",
        "    l = list(itertools.permutations(l))\n",
        "    l = [\"\".join(i) for i in l]\n",
        "    l = [int(i.lstrip(\"0\")) for i in l]\n",
        "\n",
        "    return l"
      ],
      "execution_count": 0,
      "outputs": []
    },
    {
      "metadata": {
        "id": "sHnJnelHqIju",
        "colab_type": "code",
        "outputId": "707e93b4-0edb-4200-aa6f-ed8665141887",
        "trusted": true,
        "colab": {
          "base_uri": "https://localhost:8080/",
          "height": 87
        }
      },
      "cell_type": "code",
      "source": [
        "%%time\n",
        "r_list = []\n",
        "for i in prime_gen_4():\n",
        "    l = list(set(pri_perm(i)))\n",
        "    l.sort()\n",
        "    for a, b, c in itertools.combinations(l, 3):\n",
        "        if (\n",
        "            [a, b, c] not in r_list\n",
        "            and a > 1000\n",
        "            and b - a == c - b\n",
        "            and is_prime(a)\n",
        "            and is_prime(b)\n",
        "            and is_prime(c)\n",
        "        ):\n",
        "            r_list += [[a, b, c]]\n",
        "            print(a, b, c)"
      ],
      "execution_count": 10,
      "outputs": [
        {
          "output_type": "stream",
          "text": [
            "1487 4817 8147\n",
            "2969 6299 9629\n",
            "CPU times: user 561 ms, sys: 2.01 ms, total: 563 ms\n",
            "Wall time: 571 ms\n"
          ],
          "name": "stdout"
        }
      ]
    },
    {
      "metadata": {
        "id": "IiULSn5sqIjy",
        "colab_type": "code",
        "outputId": "d331dfb3-4094-454a-8311-654410c0a350",
        "trusted": true,
        "colab": {
          "base_uri": "https://localhost:8080/",
          "height": 87
        }
      },
      "cell_type": "code",
      "source": [
        "%%time\n",
        "\n",
        "\n",
        "def prime_gen_4_():\n",
        "    for i in range(1001, 10000, 2):\n",
        "        e = int(i ** .5) + 1\n",
        "        for j in range(2, e + 1):\n",
        "            if i % j == 0:\n",
        "                break\n",
        "        else:\n",
        "            l_ = list(str(i))\n",
        "            l_ = itertools.permutations(l_)\n",
        "            l_ = list(set(\"\".join(m) for m in l_))\n",
        "            l_.sort()\n",
        "            l_ = list(int(num_str.lstrip(\"0\")) for num_str in l_)\n",
        "            l_ = list(num for num in l_ if (num > 1000 and is_prime(num)))\n",
        "            yield l_\n",
        "            # filter the generator saved a lot of time when we run the real checking processes\n",
        "\n",
        "\n",
        "s = set(tuple(x) for x in list(l for l in prime_gen_4_() if len(l) > 2))\n",
        "\n",
        "for t in s:\n",
        "    for a, b, c in itertools.combinations(t, 3):\n",
        "        if b - a == c - b:\n",
        "            print(a, b, c)"
      ],
      "execution_count": 11,
      "outputs": [
        {
          "output_type": "stream",
          "text": [
            "2969 6299 9629\n",
            "1487 4817 8147\n",
            "CPU times: user 92.3 ms, sys: 12 µs, total: 92.4 ms\n",
            "Wall time: 92.4 ms\n"
          ],
          "name": "stdout"
        }
      ]
    },
    {
      "metadata": {
        "id": "00pLvvviqIj2",
        "colab_type": "text"
      },
      "cell_type": "markdown",
      "source": [
        "<div id=\"content\">\n",
        "\n",
        "<h2>Consecutive prime sum</h2><div id=\"problem_info\"><h3>Problem 50 </h3></div>\n",
        "<div class=\"problem_content\" role=\"problem\">\n",
        "<p>The prime 41, can be written as the sum of six consecutive primes:</p>\n",
        "<div style=\"text-align:center;\">41 = 2 + 3 + 5 + 7 + 11 + 13</div>\n",
        "<p>This is the longest sum of consecutive primes that adds to a prime below one-hundred.</p>\n",
        "<p>The longest sum of consecutive primes below one-thousand that adds to a prime, contains 21 terms, and is equal to 953.</p>\n",
        "<p>Which prime, below one-million, can be written as the sum of the most consecutive primes?</p>\n",
        "</div></div>"
      ]
    },
    {
      "metadata": {
        "id": "fPVA2w_FqIj2",
        "colab_type": "code",
        "outputId": "34c85a02-ee6c-45b7-bc33-aee3d5883167",
        "trusted": true,
        "colab": {
          "base_uri": "https://localhost:8080/",
          "height": 52
        }
      },
      "cell_type": "code",
      "source": [
        "%%time\n",
        "\n",
        "\n",
        "def prime_1m():\n",
        "    yield 2\n",
        "    for i in range(3, 1000000, 2):\n",
        "        e = int(i ** .5) + 1\n",
        "        for j in range(2, e + 1):\n",
        "            if i % j == 0:\n",
        "                break\n",
        "        else:\n",
        "            yield i"
      ],
      "execution_count": 12,
      "outputs": [
        {
          "output_type": "stream",
          "text": [
            "CPU times: user 6 µs, sys: 0 ns, total: 6 µs\n",
            "Wall time: 45.1 µs\n"
          ],
          "name": "stdout"
        }
      ]
    },
    {
      "metadata": {
        "id": "m6sYJmW_qIj9",
        "colab_type": "code",
        "outputId": "1d152008-ccc4-4dcf-8a3e-ae1d26ad59e1",
        "trusted": true,
        "colab": {
          "base_uri": "https://localhost:8080/",
          "height": 122
        }
      },
      "cell_type": "code",
      "source": [
        "%%time\n",
        "p1m = [i for i in prime_1m()]\n",
        "sum_ = 0\n",
        "for i in range(1000000):\n",
        "\n",
        "    if is_prime(sum_):\n",
        "        break\n",
        "    else:\n",
        "        sum_ = 0\n",
        "\n",
        "    for j in range(i, 1000000):\n",
        "        if sum_ < 1000000:\n",
        "            sum_ += p1m[j]\n",
        "        else:\n",
        "            sum_ -= p1m[j - 1]\n",
        "            print(f\"[{i}:{j-1}], {j-1-i} numbers with a sum of {sum_}\")\n",
        "            break"
      ],
      "execution_count": 13,
      "outputs": [
        {
          "output_type": "stream",
          "text": [
            "[0:546], 546 numbers with a sum of 997661\n",
            "[1:546], 545 numbers with a sum of 997659\n",
            "[2:546], 544 numbers with a sum of 997656\n",
            "[3:546], 543 numbers with a sum of 997651\n",
            "CPU times: user 6.1 s, sys: 18.1 ms, total: 6.12 s\n",
            "Wall time: 6.13 s\n"
          ],
          "name": "stdout"
        }
      ]
    },
    {
      "metadata": {
        "id": "vwoPynFqu_Er",
        "colab_type": "code",
        "colab": {
          "base_uri": "https://localhost:8080/",
          "height": 122
        },
        "outputId": "67630f73-8fb5-4315-86e9-0299f438587b"
      },
      "cell_type": "code",
      "source": [
        "%%time\n",
        "\n",
        "pg = prime_1m()\n",
        "# on the fly generator saved a lot of time by skipping the 1m list generation\n",
        "\n",
        "sum_ = 0\n",
        "p1m = []\n",
        "for i in range(1000000):\n",
        "\n",
        "    if is_prime(sum_):\n",
        "        break\n",
        "    else:\n",
        "        sum_ = 0\n",
        "\n",
        "    for j in range(i, 1000000):\n",
        "        p1m += [next(pg)]\n",
        "        if sum_ < 1000000:\n",
        "            sum_ += p1m[j]\n",
        "        else:\n",
        "            sum_ -= p1m[j - 1]\n",
        "            print(f\"[{i}:{j-1}], {j-1-i} numbers with a sum of {sum_}\")\n",
        "            break"
      ],
      "execution_count": 14,
      "outputs": [
        {
          "output_type": "stream",
          "text": [
            "[0:546], 546 numbers with a sum of 997661\n",
            "[1:546], 545 numbers with a sum of 997659\n",
            "[2:546], 544 numbers with a sum of 997656\n",
            "[3:546], 543 numbers with a sum of 997651\n",
            "CPU times: user 37.4 ms, sys: 960 µs, total: 38.4 ms\n",
            "Wall time: 37.8 ms\n"
          ],
          "name": "stdout"
        }
      ]
    },
    {
      "metadata": {
        "id": "pmrJfr_GqIkA",
        "colab_type": "code",
        "trusted": true,
        "colab": {}
      },
      "cell_type": "code",
      "source": [
        "import numpy as np"
      ],
      "execution_count": 0,
      "outputs": []
    },
    {
      "metadata": {
        "id": "59hfoiE8qIkC",
        "colab_type": "code",
        "trusted": true,
        "colab": {
          "base_uri": "https://localhost:8080/",
          "height": 70
        },
        "outputId": "32230948-f5dd-44df-e44f-c03a55db8a85"
      },
      "cell_type": "code",
      "source": [
        "%%time\n",
        "\n",
        "arr = np.array(p1m)\n",
        "for i in range(1000000):\n",
        "    a = arr[i:].cumsum()\n",
        "    a = a[a < 1000000]\n",
        "    sum__ = a[-1]\n",
        "    if is_prime(sum__):\n",
        "        print(sum__, i, len(a))\n",
        "        break"
      ],
      "execution_count": 19,
      "outputs": [
        {
          "output_type": "stream",
          "text": [
            "997651 3 543\n",
            "CPU times: user 1.17 ms, sys: 952 µs, total: 2.12 ms\n",
            "Wall time: 1.5 ms\n"
          ],
          "name": "stdout"
        }
      ]
    },
    {
      "metadata": {
        "id": "H0FWTo5yqIkH",
        "colab_type": "code",
        "trusted": true,
        "colab": {}
      },
      "cell_type": "code",
      "source": [
        "for i in range(77950, lenth_1m):\n",
        "    if is_prime(sum_):\n",
        "        print(f\"{i},\\t {j}\\t{len(p1m[j : lenth_1m +j - i])}\\t{sum_}\")\n",
        "\n",
        "        break\n",
        "    for j in range(0, i):\n",
        "        sum_ = sum(p1m[j : lenth_1m + j - i])\n",
        "        if sum_ < 1000000:\n",
        "            print(f\"{i},\\t {j}\\t{len(p1m[j : lenth_1m +j - i])}\\t{sum_}\")\n",
        "            break"
      ],
      "execution_count": 0,
      "outputs": []
    },
    {
      "metadata": {
        "id": "cHvxfvXlqIkN",
        "colab_type": "text"
      },
      "cell_type": "markdown",
      "source": [
        "The last one is the result of a failed idea"
      ]
    }
  ]
}