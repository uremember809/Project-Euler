{
  "nbformat": 4,
  "nbformat_minor": 0,
  "metadata": {
    "colab": {
      "name": "Project Euler (36-40).ipynb",
      "version": "0.3.2",
      "provenance": [],
      "collapsed_sections": [],
      "include_colab_link": true
    },
    "kernelspec": {
      "name": "python3",
      "display_name": "Python 3",
      "language": "python"
    }
  },
  "cells": [
    {
      "cell_type": "markdown",
      "metadata": {
        "id": "view-in-github",
        "colab_type": "text"
      },
      "source": [
        "<a href=\"https://colab.research.google.com/github/uremember809/Project-Euler/blob/master/Project_Euler_(36_40).ipynb\" target=\"_parent\"><img src=\"https://colab.research.google.com/assets/colab-badge.svg\" alt=\"Open In Colab\"/></a>"
      ]
    },
    {
      "metadata": {
        "trusted": true,
        "id": "x2i0TUe785r9",
        "colab_type": "code",
        "colab": {}
      },
      "cell_type": "code",
      "source": [
        "%load_ext lab_black"
      ],
      "execution_count": 0,
      "outputs": []
    },
    {
      "metadata": {
        "id": "Fdb7e62LKCD3",
        "colab_type": "text"
      },
      "cell_type": "markdown",
      "source": [
        "<div id=\"content\">\n",
        "\n",
        "<h2>Double-base palindromes</h2><div id=\"problem_info\"><h3>Problem 36</h3></div>\n",
        "<div class=\"problem_content\" role=\"problem\">\n",
        "\n",
        "<p>The decimal number, 585 = 1001001001<sub>2</sub> (binary), is palindromic in both bases.</p>\n",
        "<p>Find the sum of all numbers, less than one million, which are palindromic in base 10 and base 2.</p>\n",
        "<p class=\"info\">(Please note that the palindromic number, in either base, may not include leading zeros.)</p>\n",
        "\n",
        "</div><br>\n",
        "<br></div>"
      ]
    },
    {
      "metadata": {
        "trusted": true,
        "id": "hMQCr7of85sB",
        "colab_type": "code",
        "colab": {}
      },
      "cell_type": "code",
      "source": [
        "import itertools\n",
        "import functools\n",
        "import pandas as pd"
      ],
      "execution_count": 0,
      "outputs": []
    },
    {
      "metadata": {
        "id": "zv4whABWZORH",
        "colab_type": "code",
        "trusted": true,
        "colab": {}
      },
      "cell_type": "code",
      "source": [
        "def double_palin(n):\n",
        "\n",
        "    l_n = list(str(n))\n",
        "    l_n_r = l_n.copy()\n",
        "    l_n_r.reverse()\n",
        "    # print(l_n, l_n_r)\n",
        "\n",
        "    l_b = list(bin(n)[2:])\n",
        "    l_b_r = l_b.copy()\n",
        "    l_b_r.reverse()\n",
        "    # print(l_b, l_b_r)\n",
        "\n",
        "    return l_n == l_n_r and l_b == l_b_r"
      ],
      "execution_count": 0,
      "outputs": []
    },
    {
      "metadata": {
        "id": "oyPEmuxCg8mQ",
        "colab_type": "code",
        "outputId": "327f419d-fd42-4f4b-ed74-94acc4aee786",
        "trusted": true,
        "colab": {
          "base_uri": "https://localhost:8080/",
          "height": 435
        }
      },
      "cell_type": "code",
      "source": [
        "%%time\n",
        "\n",
        "n = 0\n",
        "\n",
        "for i in range(1000000):\n",
        "    if double_palin(i):\n",
        "        print(i)\n",
        "        n += i\n",
        "else:\n",
        "    print(f\"the total is {n}\")"
      ],
      "execution_count": 0,
      "outputs": [
        {
          "output_type": "stream",
          "text": [
            "0\n",
            "1\n",
            "3\n",
            "5\n",
            "7\n",
            "9\n",
            "33\n",
            "99\n",
            "313\n",
            "585\n",
            "717\n",
            "7447\n",
            "9009\n",
            "15351\n",
            "32223\n",
            "39993\n",
            "53235\n",
            "53835\n",
            "73737\n",
            "585585\n",
            "the total is 872187\n",
            "CPU times: user 2.49 s, sys: 8.03 ms, total: 2.5 s\n",
            "Wall time: 2.5 s\n"
          ],
          "name": "stdout"
        }
      ]
    },
    {
      "metadata": {
        "id": "qsewgSWjKSmS",
        "colab_type": "text"
      },
      "cell_type": "markdown",
      "source": [
        "<div id=\"content\">\n",
        "\n",
        "<h2>Truncatable primes</h2><div id=\"problem_info\"><h3>Problem 37 </h3></div>\n",
        "<div class=\"problem_content\" role=\"problem\">\n",
        "\n",
        "<p>The number 3797 has an interesting property. Being prime itself, it is possible to continuously remove digits from left to right, and remain prime at each stage: 3797, 797, 97, and 7. Similarly we can work from right to left: 3797, 379, 37, and 3.</p>\n",
        "<p>Find the sum of the only eleven primes that are both truncatable from left to right and right to left.</p>\n",
        "<p class=\"info\">NOTE: 2, 3, 5, and 7 are not considered to be truncatable primes.</p>\n",
        "\n",
        "</div><br>\n",
        "<br></div>"
      ]
    },
    {
      "metadata": {
        "id": "XcpGZ-OZ7pz4",
        "colab_type": "code",
        "trusted": true,
        "colab": {}
      },
      "cell_type": "code",
      "source": [
        "def prime_gen():\n",
        "    import itertools\n",
        "\n",
        "    yield 2\n",
        "    yield 3\n",
        "    for i in itertools.count(5, 2):\n",
        "        e = int(i ** .5) + 1\n",
        "        for j in range(3, e + 1):\n",
        "            if i % j == 0:\n",
        "                break\n",
        "        else:\n",
        "            yield i"
      ],
      "execution_count": 0,
      "outputs": []
    },
    {
      "metadata": {
        "id": "AvpdsA7v_5hh",
        "colab_type": "code",
        "trusted": true,
        "colab": {}
      },
      "cell_type": "code",
      "source": [
        "def is_prime(n):\n",
        "\n",
        "    if n == 1:\n",
        "        return False\n",
        "    if n == 2 or n == 3:\n",
        "        return True\n",
        "\n",
        "    e = int(n ** .5) + 1\n",
        "\n",
        "    for i in range(2, e + 1):\n",
        "        if n % i == 0:\n",
        "            return False\n",
        "    else:\n",
        "        return True"
      ],
      "execution_count": 0,
      "outputs": []
    },
    {
      "metadata": {
        "id": "kduUTLlC_QYf",
        "colab_type": "code",
        "outputId": "a4827f37-2333-4d67-9b4a-d221ad0d5873",
        "trusted": true,
        "colab": {
          "base_uri": "https://localhost:8080/",
          "height": 35
        }
      },
      "cell_type": "code",
      "source": [
        "def trunc_prime(i):\n",
        "\n",
        "    if i > 10:\n",
        "        s = str(i)\n",
        "        for l in range(1, len(s)):\n",
        "            if is_prime(int(s[l:])) and is_prime(int(s[: -1 * l])):\n",
        "                continue  # print(s[l:], s[: -1 * l])\n",
        "            else:\n",
        "                break\n",
        "\n",
        "        else:\n",
        "            print(i)\n",
        "            return i\n",
        "    return -1\n",
        "\n",
        "\n",
        "trunc_prime(125874)"
      ],
      "execution_count": 0,
      "outputs": [
        {
          "output_type": "execute_result",
          "data": {
            "text/plain": [
              "-1"
            ]
          },
          "metadata": {
            "tags": []
          },
          "execution_count": 7
        }
      ]
    },
    {
      "metadata": {
        "id": "rIjs_8fJKxgr",
        "colab_type": "code",
        "outputId": "2ad8034f-4165-4667-9a45-c0cef08a2130",
        "trusted": true,
        "colab": {
          "base_uri": "https://localhost:8080/",
          "height": 272
        }
      },
      "cell_type": "code",
      "source": [
        "%%time\n",
        "\n",
        "trunc_list = []\n",
        "for i in prime_gen():\n",
        "    truncan = trunc_prime(i)\n",
        "    if truncan > 0:\n",
        "        trunc_list.append(truncan)\n",
        "\n",
        "    try:\n",
        "        if i > trunc_list[10]:\n",
        "            break\n",
        "    except:\n",
        "        pass\n",
        "\n",
        "print(f\"the sum is: {sum(trunc_list)}\")"
      ],
      "execution_count": 0,
      "outputs": [
        {
          "output_type": "stream",
          "text": [
            "23\n",
            "37\n",
            "53\n",
            "73\n",
            "313\n",
            "317\n",
            "373\n",
            "797\n",
            "3137\n",
            "3797\n",
            "739397\n",
            "the sum is: 748317\n",
            "CPU times: user 3.94 s, sys: 11.9 ms, total: 3.95 s\n",
            "Wall time: 3.97 s\n"
          ],
          "name": "stdout"
        }
      ]
    },
    {
      "metadata": {
        "id": "-XozzSWxfXq_",
        "colab_type": "text"
      },
      "cell_type": "markdown",
      "source": [
        "<div id=\"content\">\n",
        "\n",
        "<h2>Pandigital multiples</h2><div id=\"problem_info\"><h3>Problem 38 </h3></div>\n",
        "<div class=\"problem_content\" role=\"problem\">\n",
        "<p>Take the number 192 and multiply it by each of 1, 2, and 3:</p>\n",
        "<blockquote>192 X 1 = 192<br>\n",
        "192 X 2 = 384<br>\n",
        "192 X 3 = 576</blockquote>\n",
        "<p>By concatenating each product we get the 1 to 9 pandigital, 192384576. We will call 192384576 the concatenated product of 192 and (1,2,3)</p>\n",
        "<p>The same can be achieved by starting with 9 and multiplying by 1, 2, 3, 4, and 5, giving the pandigital, 918273645, which is the concatenated product of 9 and (1,2,3,4,5).</p>\n",
        "<p>What is the largest 1 to 9 pandigital 9-digit number that can be formed as the concatenated product of an integer with (1,2, ... , <var>n</var>) where <var>n</var> &gt; 1?</p>\n",
        "\n",
        "</div><br>\n",
        "<br></div>"
      ]
    },
    {
      "metadata": {
        "id": "XVUmYKWLPZpT",
        "colab_type": "code",
        "trusted": true,
        "colab": {},
        "outputId": "8c0ea601-ba86-477e-c75d-ac0b52f2dbce"
      },
      "cell_type": "code",
      "source": [
        "%%time\n",
        "\n",
        "l_ = [[i for i in range(1, j + 1)] for j in range(0, 10)]\n",
        "\n",
        "\"\"\"[ [],\n",
        "         [1],\n",
        "         [1, 2],\n",
        "         [1, 2, 3],\n",
        "         [1, 2, 3, 4],\n",
        "         [1, 2, 3, 4, 5],\n",
        "         [1, 2, 3, 4, 5, 6],\n",
        "         [1, 2, 3, 4, 5, 6, 7],\n",
        "         [1, 2, 3, 4, 5, 6, 7, 8],\n",
        "         [1, 2, 3, 4, 5, 6, 7, 8, 9]]\n",
        "\"\"\"\n",
        "\n",
        "for i in range(1, 500):\n",
        "    for j in range(1, 10):\n",
        "        mul_ = [m * i for m in l_[j]]\n",
        "        mul_ = [str(m) for m in mul_]\n",
        "        mul_ = functools.reduce((lambda a, b: a + b), mul_)\n",
        "        if sorted(mul_) == list(\"123456789\"):\n",
        "            print(f\"{mul_} = {i} X {j}\")"
      ],
      "execution_count": 0,
      "outputs": [
        {
          "output_type": "stream",
          "text": [
            "123456789 = 1 X 9\n",
            "918273645 = 9 X 5\n",
            "192384576 = 192 X 3\n",
            "219438657 = 219 X 3\n",
            "273546819 = 273 X 3\n",
            "327654981 = 327 X 3\n",
            "CPU times: user 31.6 ms, sys: 3.79 ms, total: 35.3 ms\n",
            "Wall time: 34.8 ms\n"
          ],
          "name": "stdout"
        }
      ]
    },
    {
      "metadata": {
        "id": "NLutdFB485sa",
        "colab_type": "text"
      },
      "cell_type": "markdown",
      "source": [
        "<div id=\"content\">\n",
        "\n",
        "<h2>Integer right triangles</h2><div id=\"problem_info\"><h3>Problem 39 </h3></div>\n",
        "<div class=\"problem_content\" role=\"problem\">\n",
        "<p>If <i>p</i> is the perimeter of a right angle triangle with integral length sides, {<i>a</i>,<i>b</i>,<i>c</i>}, there are exactly three solutions for <i>p</i> = 120.</p>\n",
        "<p>{20,48,52}, {24,45,51}, {30,40,50}</p>\n",
        "<p>For which value of <i>p</i> less or equal 1000, is the number of solutions maximised?</p>\n",
        "\n",
        "</div><br>\n",
        "<br></div>"
      ]
    },
    {
      "metadata": {
        "trusted": true,
        "id": "jiZCdsuy85sc",
        "colab_type": "code",
        "colab": {},
        "outputId": "dfb9e32a-824a-4796-b3aa-6e0dd94c11cf"
      },
      "cell_type": "code",
      "source": [
        "%%time\n",
        "\n",
        "l_ = []\n",
        "for a in range(1, 334):\n",
        "    for b in range(a + 1, 501):\n",
        "        for c in range(b + 1, 501):\n",
        "            if a + b + c < 1001 and a ** 2 + b ** 2 == c ** 2:\n",
        "                l_.append(a + b + c)\n",
        "g_ = sorted(l_)\n",
        "\n",
        "df = pd.DataFrame(l_)\n",
        "df.groupby(0)\n",
        "\n",
        "s_ = df.groupby(0).size()\n",
        "\n",
        "print(s_.sort_values(ascending=False).head(1))"
      ],
      "execution_count": 0,
      "outputs": [
        {
          "output_type": "stream",
          "text": [
            "0\n",
            "840    8\n",
            "dtype: int64\n",
            "CPU times: user 18.9 s, sys: 8.12 ms, total: 18.9 s\n",
            "Wall time: 18.9 s\n"
          ],
          "name": "stdout"
        }
      ]
    },
    {
      "metadata": {
        "trusted": true,
        "id": "ogthvWNH85se",
        "colab_type": "code",
        "colab": {},
        "outputId": "1d6d61d6-19ea-405f-d2b0-b32ab62b030c"
      },
      "cell_type": "code",
      "source": [
        "%%time\n",
        "\n",
        "l__ = {}\n",
        "for a in range(1, 334):\n",
        "    for b in range(a + 1, 501):\n",
        "        for c in range(b + 1, 501):\n",
        "            if a + b + c < 1001 and a ** 2 + b ** 2 == c ** 2:\n",
        "                try:\n",
        "                    l__[a + b + c] += [(a, b, c)]\n",
        "                except:\n",
        "                    l__[a + b + c] = [(a, b, c)]\n",
        "\n",
        "length = 0\n",
        "ind_ = 0\n",
        "\n",
        "for i in l__:\n",
        "    (length, ind_) = (\n",
        "        (len(l__[i]), i) if len(l__[i]) > length else (length, ind_)\n",
        "    )\n",
        "print(f\"{i} has {length} solution of {l__[ind_]}\")"
      ],
      "execution_count": 0,
      "outputs": [
        {
          "output_type": "stream",
          "text": [
            "980 has 8 solution of [(40, 399, 401), (56, 390, 394), (105, 360, 375), (120, 350, 370), (140, 336, 364), (168, 315, 357), (210, 280, 350), (240, 252, 348)]\n",
            "CPU times: user 19.3 s, sys: 4.13 ms, total: 19.3 s\n",
            "Wall time: 19.4 s\n"
          ],
          "name": "stdout"
        }
      ]
    },
    {
      "metadata": {
        "id": "cW0niTRC85si",
        "colab_type": "text"
      },
      "cell_type": "markdown",
      "source": [
        "<div id=\"content\">\n",
        "\n",
        "<h2>Champernowne's constant</h2><div id=\"problem_info\"><h3>Problem 40 </h3></div>\n",
        "<div class=\"problem_content\" role=\"problem\">\n",
        "<p>An irrational decimal fraction is created by concatenating the positive integers:</p>\n",
        "<p style=\"text-align:center;\">0.12345678910<span style=\"color:#dd0000;font-size:14pt;\">1</span>112131415161718192021...</p>\n",
        "<p>It can be seen that the 12<sup>th</sup> digit of the fractional part is 1.</p>\n",
        "<p>If <i>d</i><sub><i>n</i></sub> represents the <i>n</i><sup>th</sup> digit of the fractional part, find the value of the following expression.</p>\n",
        "<p style=\"text-align:center;\"><i>d</i><sub>1</sub> X <i>d</i><sub>10</sub> X <i>d</i><sub>100</sub> X <i>d</i><sub>1000</sub> X <i>d</i><sub>10000</sub> X <i>d</i><sub>100000</sub> X <i>d</i><sub>1000000</sub></p>\n",
        "\n",
        "</div><br>\n",
        "<br></div>"
      ]
    },
    {
      "metadata": {
        "trusted": true,
        "id": "yWpIGXIE85si",
        "colab_type": "code",
        "colab": {},
        "outputId": "21d60dce-9a90-4dad-a5f3-933c5b927c6f"
      },
      "cell_type": "code",
      "source": [
        "%%time\n",
        "\n",
        "\n",
        "def champ_gen():\n",
        "    for i in itertools.count():\n",
        "        for j in list(str(i)):\n",
        "            yield int(j)\n",
        "\n",
        "\n",
        "c = {}\n",
        "for i, n in enumerate(champ_gen()):\n",
        "    c[i] = n\n",
        "    if i > 1000000:\n",
        "        break\n",
        "print(c[1] * c[10] * c[100] * c[1000] * c[10000] * c[100000] * c[1000000])"
      ],
      "execution_count": 0,
      "outputs": [
        {
          "output_type": "stream",
          "text": [
            "210\n",
            "CPU times: user 760 ms, sys: 56 ms, total: 816 ms\n",
            "Wall time: 824 ms\n"
          ],
          "name": "stdout"
        }
      ]
    },
    {
      "metadata": {
        "trusted": true,
        "id": "YOjIVWLU85sk",
        "colab_type": "code",
        "colab": {},
        "outputId": "46ed5ccf-4202-43f3-db50-d1cc4786edb3"
      },
      "cell_type": "code",
      "source": [
        "%%time\n",
        "\n",
        "\n",
        "def cham_gen():\n",
        "    for i in itertools.count():\n",
        "        for j in str(i):  # string is a list\n",
        "            yield int(j)\n",
        "\n",
        "\n",
        "l = []\n",
        "for i, n in enumerate(cham_gen()):\n",
        "    if i > 1000000:\n",
        "        break\n",
        "    l += [n]\n",
        "print(l[1] * l[10] * l[100] * l[1000] * l[10000] * l[100000] * l[1000000])"
      ],
      "execution_count": 0,
      "outputs": [
        {
          "output_type": "stream",
          "text": [
            "210\n",
            "CPU times: user 757 ms, sys: 7.98 ms, total: 765 ms\n",
            "Wall time: 764 ms\n"
          ],
          "name": "stdout"
        }
      ]
    },
    {
      "metadata": {
        "id": "P6Gh9dvl85sn",
        "colab_type": "text"
      },
      "cell_type": "markdown",
      "source": [
        "there is no difference in the speed for dict and list"
      ]
    }
  ]
}