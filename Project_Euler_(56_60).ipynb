{
  "nbformat": 4,
  "nbformat_minor": 0,
  "metadata": {
    "colab": {
      "name": "Project Euler (56-60).ipynb",
      "version": "0.3.2",
      "provenance": [],
      "include_colab_link": true
    },
    "kernelspec": {
      "name": "python3",
      "display_name": "Python 3",
      "language": "python"
    }
  },
  "cells": [
    {
      "cell_type": "markdown",
      "metadata": {
        "id": "view-in-github",
        "colab_type": "text"
      },
      "source": [
        "<a href=\"https://colab.research.google.com/github/uremember809/Project-Euler/blob/master/Project_Euler_(56_60).ipynb\" target=\"_parent\"><img src=\"https://colab.research.google.com/assets/colab-badge.svg\" alt=\"Open In Colab\"/></a>"
      ]
    },
    {
      "metadata": {
        "id": "y03MnYgt1jOk",
        "colab_type": "code",
        "trusted": true,
        "colab": {}
      },
      "cell_type": "code",
      "source": [
        "%load_ext lab_black"
      ],
      "execution_count": 0,
      "outputs": []
    },
    {
      "metadata": {
        "id": "qgdT2iKs1jOt",
        "colab_type": "text"
      },
      "cell_type": "markdown",
      "source": [
        "<div id=\"content\">\n",
        "\n",
        "<h2>Powerful digit sum</h2><div id=\"problem_info\"><h3>Problem 56 </h3></div>\n",
        "<div class=\"problem_content\" role=\"problem\">\n",
        "\n",
        "<p>A googol (10<sup>100</sup>) is a massive number: one followed by one-hundred zeros; 100<sup>100</sup> is almost unimaginably large: one followed by two-hundred zeros. Despite their size, the sum of the digits in each number is only 1.</p>\n",
        "<p>Considering natural numbers of the form, <i>a<sup>b</sup></i>, where <i>a, b</i> &lt; 100, what is the maximum digital sum?</p>\n",
        "\n",
        "</div></div>"
      ]
    },
    {
      "metadata": {
        "id": "kzfQAqMh1jOu",
        "colab_type": "code",
        "trusted": true,
        "colab": {}
      },
      "cell_type": "code",
      "source": [
        "from itertools import product\n",
        "import itertools"
      ],
      "execution_count": 0,
      "outputs": []
    },
    {
      "metadata": {
        "id": "MK2dMs0D1jOz",
        "colab_type": "code",
        "outputId": "78a311e7-d706-4d3c-d3d7-0eeec38df496",
        "trusted": true,
        "colab": {}
      },
      "cell_type": "code",
      "source": [
        "%%time\n",
        "\n",
        "max_ = 0\n",
        "for a, b in product(range(1, 100), repeat=2):\n",
        "    ab = a ** b\n",
        "    sum_ab = sum(int(i) for i in list(str(ab)))\n",
        "    max_ = sum_ab if sum_ab > max_ else max_\n",
        "print(max_)"
      ],
      "execution_count": 0,
      "outputs": [
        {
          "output_type": "stream",
          "text": [
            "972\n",
            "CPU times: user 273 ms, sys: 336 µs, total: 274 ms\n",
            "Wall time: 273 ms\n"
          ],
          "name": "stdout"
        }
      ]
    },
    {
      "metadata": {
        "id": "-6y53Nui1jO2",
        "colab_type": "text"
      },
      "cell_type": "markdown",
      "source": [
        "<h2>Square root convergents</h2><div id=\"problem_info\"><h3>Problem 57</h3></div>\n",
        "<div class=\"problem_content\" role=\"problem\">\n",
        "<p>It is possible to show that the square root of two can be expressed as an infinite continued fraction.</p>\n",
        "<p style=\"text-align:center;\">$\\sqrt2$ = 1 + 1/(2 + 1/(2 + 1/(2 + ... ))) = 1.414213...</p>\n",
        "<p>By expanding this for the first four iterations, we get:</p>\n",
        "<p>1 + 1/2 = 3/2 = 1.5<br>\n",
        "1 + 1/(2 + 1/2) = 7/5 = 1.4<br>\n",
        "1 + 1/(2 + 1/(2 + 1/2)) = 17/12 = 1.41666...<br>\n",
        "1 + 1/(2 + 1/(2 + 1/(2 + 1/2))) = 41/29 = 1.41379...<br></p>\n",
        "<p>The next three expansions are 99/70, 239/169, and 577/408, but the eighth expansion, 1393/985, is the first example where the number of digits in the numerator exceeds the number of digits in the denominator.</p>\n",
        "<p>In the first one-thousand expansions, how many fractions contain a numerator with more digits than denominator?</p>\n",
        "\n",
        "</div>"
      ]
    },
    {
      "metadata": {
        "id": "YKSIIWsBjr5k",
        "colab_type": "code",
        "outputId": "4d813a2e-0b1e-4948-c77a-27304164fe4e",
        "trusted": true,
        "colab": {
          "base_uri": "https://localhost:8080/",
          "height": 35
        }
      },
      "cell_type": "code",
      "source": [
        "%%time\n",
        "\n",
        "\n",
        "def sr(n):\n",
        "    i, j = 1, 2\n",
        "    for a in range(n):\n",
        "        i, j = j, 2 * j + i\n",
        "    return (1 + i / j, i + j, j)\n",
        "\n",
        "\n",
        "n_ = 0\n",
        "for i in range(1000):\n",
        "    n, i, j = sr(i)\n",
        "    if len(str(i)) > len(str(j)):\n",
        "        n_ += 1\n",
        "print(n_)"
      ],
      "execution_count": 0,
      "outputs": [
        {
          "output_type": "stream",
          "text": [
            "153\n",
            "CPU times: user 104 ms, sys: 254 µs, total: 104 ms\n",
            "Wall time: 104 ms\n"
          ],
          "name": "stdout"
        }
      ]
    },
    {
      "metadata": {
        "id": "yA-6eO-K1jPD",
        "colab_type": "text"
      },
      "cell_type": "markdown",
      "source": [
        "<h2>Spiral primes</h2><div id=\"problem_info\"><h3>Problem 58</h3></div>\n",
        "<div class=\"problem_content\" role=\"problem\">\n",
        "<p>Starting with 1 and spiralling anticlockwise in the following way, a square spiral with side length 7 is formed.</p>\n",
        "<p style=\"text-align:center;font-family:'courier new';\"><span style=\"color:#ff0000;font-family:'courier new';\"><b>37</b></span> 36 35 34 33 32 <span style=\"color:#ff0000;font-family:'courier new';\"><b>31</b></span><br>\n",
        "38 <span style=\"color:#ff0000;font-family:'courier new';\"><b>17</b></span> 16 15 14 <span style=\"color:#ff0000;font-family:'courier new';\"><b>13</b></span> 30<br>\n",
        "39 18 <span style=\"color:#ff0000;font-family:'courier new';\">&nbsp;<b>5</b></span> &nbsp;4 <span style=\"color:#ff0000;font-family:'courier new';\">&nbsp;<b>3</b></span> 12 29<br>\n",
        "40 19 &nbsp;6 &nbsp;1 &nbsp;2 11 28<br>\n",
        "41 20 <span style=\"color:#ff0000;font-family:'courier new';\">&nbsp;<b>7</b></span> &nbsp;8 &nbsp;9 10 27<br>\n",
        "42 21 22 23 24 25 26<br><span style=\"color:#ff0000;font-family:'courier new';\"><b>43</b></span> 44 45 46 47 48 49</p>\n",
        "<p>It is interesting to note that the odd squares lie along the bottom right diagonal, but what is more interesting is that 8 out of the 13 numbers lying along both diagonals are prime; that is, a ratio of 8/13 = 62%.</p>\n",
        "<p>If one complete new layer is wrapped around the spiral above, a square spiral with side length 9 will be formed. If this process is continued, what is the side length of the square spiral for which the ratio of primes along both diagonals first falls below 10%?</p>\n",
        "\n",
        "</div>"
      ]
    },
    {
      "metadata": {
        "id": "wuwBw1kr1jPE",
        "colab_type": "code",
        "outputId": "a459c73a-7a99-412c-9d1d-9e6068cf0cc8",
        "trusted": true,
        "colab": {}
      },
      "cell_type": "code",
      "source": [
        "%%time\n",
        "\n",
        "\n",
        "def spiral():\n",
        "    # yield [1], 1\n",
        "    for i in itertools.count():\n",
        "        n = (2 * i + 1) ** 2\n",
        "        yield n - 6 * i, n - 4 * i, n - 2 * i, n\n",
        "\n",
        "\n",
        "import itertools\n",
        "\n",
        "\n",
        "def is_prime(n):\n",
        "    if n < 2:\n",
        "        return False\n",
        "    if n == 2:\n",
        "        return True\n",
        "    e = int(n ** .5) + 1\n",
        "    for i in range(2, e + 1):\n",
        "        if n % i == 0:\n",
        "            return False\n",
        "    else:\n",
        "        return True\n",
        "\n",
        "\n",
        "n_prime = 0\n",
        "n_num = -3\n",
        "\n",
        "for i in spiral():\n",
        "    n_num += 4\n",
        "    for j in range(4):\n",
        "        n_prime += is_prime(i[j])\n",
        "    # print(n_prime, n_num, n_prime / n_num)\n",
        "    r = n_prime / n_num\n",
        "    if r < .1 and r > 0:\n",
        "        print(i[1] - i[0] + 1)\n",
        "        break"
      ],
      "execution_count": 0,
      "outputs": [
        {
          "output_type": "stream",
          "text": [
            "26241\n",
            "CPU times: user 10.3 s, sys: 0 ns, total: 10.3 s\n",
            "Wall time: 10.4 s\n"
          ],
          "name": "stdout"
        }
      ]
    },
    {
      "metadata": {
        "id": "TRzhHxb-1jPH",
        "colab_type": "text"
      },
      "cell_type": "markdown",
      "source": [
        "<h2>XOR decryption</h2><div id=\"problem_info\"><h3>Problem 59</h3></div>\n",
        "<div class=\"problem_content\" role=\"problem\">\n",
        "<p>Each character on a computer is assigned a unique code and the preferred standard is ASCII (American Standard Code for Information Interchange). For example, uppercase A = 65, asterisk (*) = 42, and lowercase k = 107.</p>\n",
        "<p>A modern encryption method is to take a text file, convert the bytes to ASCII, then XOR each byte with a given value, taken from a secret key. The advantage with the XOR function is that using the same encryption key on the cipher text, restores the plain text; for example, 65 XOR 42 = 107, then 107 XOR 42 = 65.</p>\n",
        "<p>For unbreakable encryption, the key is the same length as the plain text message, and the key is made up of random bytes. The user would keep the encrypted message and the encryption key in different locations, and without both \"halves\", it is impossible to decrypt the message.</p>\n",
        "<p>Unfortunately, this method is impractical for most users, so the modified method is to use a password as a key. If the password is shorter than the message, which is likely, the key is repeated cyclically throughout the message. The balance for this method is using a sufficiently long password key for security, but short enough to be memorable.</p>\n",
        "<p>Your task has been made easy, as the encryption key consists of three lower case characters. Using <a href=\"https://projecteuler.net/project/resources/p059_cipher.txt\">cipher.txt</a> (right click and 'Save Link/Target As...'), a file containing the encrypted ASCII codes, and the knowledge that the plain text must contain common English words, decrypt the message and find the sum of the ASCII values in the original text.</p>\n",
        "\n",
        "</div>"
      ]
    },
    {
      "metadata": {
        "id": "Eg9LZp9b1jPL",
        "colab_type": "code",
        "outputId": "9e1a82a0-ab58-4080-fc35-4f52306bc3c7",
        "trusted": true,
        "colab": {}
      },
      "cell_type": "code",
      "source": [
        "%%time\n",
        "\n",
        "import requests\n",
        "\n",
        "file = requests.get(\n",
        "    \"https://projecteuler.net/project/resources/p059_cipher.txt\"\n",
        ")\n",
        "\n",
        "file = file.content.decode()\n",
        "\n",
        "word_list = file.split(\",\")\n",
        "\n",
        "key_list = [\n",
        "    [ord(key1), ord(key2), ord(key3)]\n",
        "    for (key1, key2, key3) in itertools.product(\n",
        "        \"abcdefghijklmnopqrstuvwxyz\", repeat=3\n",
        "    )\n",
        "]\n",
        "\n",
        "\n",
        "for key in key_list:\n",
        "    decode_map = list(zip((word_list), itertools.cycle(key)))\n",
        "    decoded = [int(c[0]) ^ int(c[1]) for c in decode_map]\n",
        "    decoded_chars = [chr(digits) for digits in decoded]\n",
        "    text = \"\".join(decoded_chars)\n",
        "    text = text.split()\n",
        "    if len(text) > 200:\n",
        "        key_ = \"\".join([chr(i) for i in key])\n",
        "        print(text, key_)"
      ],
      "execution_count": 0,
      "outputs": [
        {
          "output_type": "stream",
          "text": [
            "['(The', 'Gospel', 'of', 'John,', 'chapter', '1)', '1', 'In', 'the', 'beginning', 'the', 'Word', 'already', 'existed.', 'He', 'was', 'with', 'God,', 'and', 'he', 'was', 'God.', '2', 'He', 'was', 'in', 'the', 'beginning', 'with', 'God.', '3', 'He', 'created', 'everything', 'there', 'is.', 'Nothing', 'exists', 'that', 'he', \"didn't\", 'make.', '4', 'Life', 'itself', 'was', 'in', 'him,', 'and', 'this', 'life', 'gives', 'light', 'to', 'everyone.', '5', 'The', 'light', 'shines', 'through', 'the', 'darkness,', 'and', 'the', 'darkness', 'can', 'never', 'extinguish', 'it.', '6', 'God', 'sent', 'John', 'the', 'Baptist', '7', 'to', 'tell', 'everyone', 'about', 'the', 'light', 'so', 'that', 'everyone', 'might', 'believe', 'because', 'of', 'his', 'testimony.', '8', 'John', 'himself', 'was', 'not', 'the', 'light;', 'he', 'was', 'only', 'a', 'witness', 'to', 'the', 'light.', '9', 'The', 'one', 'who', 'is', 'the', 'true', 'light,', 'who', 'gives', 'light', 'to', 'everyone,', 'was', 'going', 'to', 'come', 'into', 'the', 'world.', '10', 'But', 'although', 'the', 'world', 'was', 'made', 'through', 'him,', 'the', 'world', \"didn't\", 'recognize', 'him', 'when', 'he', 'came.', '11', 'Even', 'in', 'his', 'own', 'land', 'and', 'among', 'his', 'own', 'people,', 'he', 'was', 'not', 'accepted.', '12', 'But', 'to', 'all', 'who', 'believed', 'him', 'and', 'accepted', 'him,', 'he', 'gave', 'the', 'right', 'to', 'become', 'children', 'of', 'God.', '13', 'They', 'are', 'reborn!', 'This', 'is', 'not', 'a', 'physical', 'birth', 'resulting', 'from', 'human', 'passion', 'or', 'plan,', 'this', 'rebirth', 'comes', 'from', 'God.14', 'So', 'the', 'Word', 'became', 'human', 'and', 'lived', 'here', 'on', 'earth', 'among', 'us.', 'He', 'was', 'full', 'of', 'unfailing', 'love', 'and', 'faithfulness.', 'And', 'we', 'have', 'seen', 'his', 'glory,', 'the', 'glory', 'of', 'the', 'only', 'Son', 'of', 'the', 'Father.'] god\n",
            "CPU times: user 14.6 s, sys: 39.9 ms, total: 14.7 s\n",
            "Wall time: 15.4 s\n"
          ],
          "name": "stdout"
        }
      ]
    },
    {
      "metadata": {
        "id": "7is4-ug51jPW",
        "colab_type": "text"
      },
      "cell_type": "markdown",
      "source": [
        "\n",
        "<h2>Prime pair sets</h2><div id=\"problem_info\"><h3>Problem 60 </h3></div>\n",
        "<div class=\"problem_content\" role=\"problem\">\n",
        "\n",
        "<p>The primes 3, 7, 109, and 673, are quite remarkable. By taking any two primes and concatenating them in any order the result will always be prime. For example, taking 7 and 109, both 7109 and 1097 are prime. The sum of these four primes, 792, represents the lowest sum for a set of four primes with this property.</p>\n",
        "<p>Find the lowest sum for a set of five primes for which any two primes concatenate to produce another prime.</p>\n",
        "\n",
        "</div>"
      ]
    },
    {
      "metadata": {
        "id": "OF_KQFRg1jPX",
        "colab_type": "code",
        "outputId": "68ebb1ee-62e5-4987-949d-06e076c212d8",
        "trusted": true,
        "colab": {}
      },
      "cell_type": "code",
      "source": [
        "%%time\n",
        "import itertools\n",
        "\n",
        "\n",
        "def prime():\n",
        "\n",
        "    yield 3\n",
        "    yield 7\n",
        "\n",
        "    for i in itertools.count(11, 2):\n",
        "        e = int(i ** .5) + 1\n",
        "        for j in range(2, e + 1):\n",
        "            if i % j == 0:\n",
        "                break\n",
        "        else:\n",
        "            yield i\n",
        "\n",
        "\n",
        "def is_prime(n):\n",
        "    if n < 2:\n",
        "        return False\n",
        "    if n == 2:\n",
        "        return True\n",
        "    e = int(n ** .5) + 1\n",
        "    for i in range(2, e + 1):\n",
        "        if n % i == 0:\n",
        "            return False\n",
        "    else:\n",
        "        return True\n",
        "\n",
        "\n",
        "two = []\n",
        "three = []\n",
        "four = []\n",
        "found = 0\n",
        "for i in prime():\n",
        "    if found:\n",
        "        break\n",
        "    try:\n",
        "        if i > sum_:\n",
        "            break\n",
        "    except:\n",
        "        pass\n",
        "    for j in prime():\n",
        "        if j >= i:  # try to find the lowest high value\n",
        "            break\n",
        "        if is_prime(int(str(i) + str(j))) and is_prime(int(str(j) + str(i))):\n",
        "            two += [[i, j]]\n",
        "            for _, k in two:\n",
        "                # print(_, k)\n",
        "                if _ >= i:\n",
        "                    break\n",
        "                if _ == j:\n",
        "                    for x in [i, j]:\n",
        "                        if (not is_prime(int(str(x) + str(k)))) or (\n",
        "                            not is_prime(int(str(k) + str(x)))\n",
        "                        ):\n",
        "                            break\n",
        "                    else:\n",
        "                        three += [[i, j, k]]\n",
        "                        for _, __, l in three:\n",
        "                            if _ >= i:\n",
        "                                break\n",
        "                            if _ == j and __ == k:\n",
        "\n",
        "                                for x in [i, j, k]:\n",
        "                                    if (not is_prime(int(str(x) + str(l)))) or (\n",
        "                                        not is_prime(int(str(l) + str(x)))\n",
        "                                    ):\n",
        "                                        break\n",
        "                                else:\n",
        "                                    four += [[i, j, k, l]]\n",
        "                                    # print(i, j, k, l)\n",
        "                                    for _, __, ___, m in four:\n",
        "                                        if _ >= i:\n",
        "                                            break\n",
        "                                        if _ == j and __ == k and ___ == l:\n",
        "                                            for x in [i, j, k, l]:\n",
        "                                                if (\n",
        "                                                    not is_prime(\n",
        "                                                        int(str(x) + str(m))\n",
        "                                                    )\n",
        "                                                ) or (\n",
        "                                                    not is_prime(\n",
        "                                                        int(str(m) + str(x))\n",
        "                                                    )\n",
        "                                                ):\n",
        "                                                    break\n",
        "                                            else:\n",
        "                                                a = [i, j, k, l, m]\n",
        "                                                try:\n",
        "                                                    if (\n",
        "                                                        sum(a) < sum_\n",
        "                                                    ):  # assign sum_ with the first value found\n",
        "                                                        sum_ = sum(a)\n",
        "                                                except:\n",
        "                                                    sum_ = sum(a)\n",
        "                                                print(\n",
        "                                                    f\"the result is {sum_}, the sum of [{i}, {j}, {k}, {l}, {m}]\"\n",
        "                                                )\n",
        "                                                if i > sum_:\n",
        "                                                    # if the first element checked is greater than the found sum, then we are sure we found it,\n",
        "                                                    # this is the only way we are sure we found it.\n",
        "                                                    # it took 1 and a hlf to find the first one, and confirm that after 42min.\n",
        "                                                    # my way is not fast, but what I practised here is to find the number without a guessed boundary\n",
        "                                                    found = 1"
      ],
      "execution_count": 0,
      "outputs": [
        {
          "output_type": "stream",
          "text": [
            "the result is 26033, the sum of [8389, 6733, 5701, 5197, 13]\n",
            "the result is 26033, the sum of [18433, 12409, 2341, 1237, 7]\n",
            "the result is 26033, the sum of [25253, 19793, 2099, 941, 467]\n",
            "CPU times: user 42min 50s, sys: 18.3 s, total: 43min 8s\n",
            "Wall time: 43min 14s\n"
          ],
          "name": "stdout"
        }
      ]
    }
  ]
}