{
  "nbformat": 4,
  "nbformat_minor": 0,
  "metadata": {
    "colab": {
      "name": "Project Euler (6-10).ipynb",
      "version": "0.3.2",
      "provenance": [],
      "collapsed_sections": [],
      "include_colab_link": true
    },
    "kernelspec": {
      "name": "python3",
      "display_name": "Python 3",
      "language": "python"
    }
  },
  "cells": [
    {
      "cell_type": "markdown",
      "metadata": {
        "id": "view-in-github",
        "colab_type": "text"
      },
      "source": [
        "<a href=\"https://colab.research.google.com/github/uremember809/Project-Euler/blob/master/Project_Euler_(6_10).ipynb\" target=\"_parent\"><img src=\"https://colab.research.google.com/assets/colab-badge.svg\" alt=\"Open In Colab\"/></a>"
      ]
    },
    {
      "metadata": {
        "id": "cG1SVWA4z8qb",
        "colab_type": "code",
        "trusted": true,
        "colab": {}
      },
      "cell_type": "code",
      "source": [
        "%load_ext lab_black"
      ],
      "execution_count": 0,
      "outputs": []
    },
    {
      "metadata": {
        "id": "P7f0c8i8817g",
        "colab_type": "text"
      },
      "cell_type": "markdown",
      "source": [
        "<div id=\"content\">\n",
        "\n",
        "<h2>Sum square difference</h2><div id=\"problem_info\"><h3>Problem 6 </h3></div>\n",
        "<div class=\"problem_content\" role=\"problem\">\n",
        "<p>The sum of the squares of the first ten natural numbers is,</p>\n",
        "<div style=\"text-align:center;\">1<sup>2</sup> + 2<sup>2</sup> + ... + 10<sup>2</sup> = 385</div>\n",
        "<p>The square of the sum of the first ten natural numbers is,</p>\n",
        "<div style=\"text-align:center;\">(1 + 2 + ... + 10)<sup>2</sup> = 55<sup>2</sup> = 3025</div>\n",
        "<p>Hence the difference between the sum of the squares of the first ten natural numbers and the square of the sum is 3025 -Â 385 = 2640.</p>\n",
        "<p>Find the difference between the sum of the squares of the first one hundred natural numbers and the square of the sum.</p>\n",
        "\n",
        "</div><br>\n",
        "<br></div>"
      ]
    },
    {
      "metadata": {
        "id": "pDO4W3lV85C5",
        "colab_type": "code",
        "trusted": true,
        "colab": {}
      },
      "cell_type": "code",
      "source": [
        "import numpy as np\n",
        "from functools import reduce"
      ],
      "execution_count": 0,
      "outputs": []
    },
    {
      "metadata": {
        "id": "zYd-NZAB9JnI",
        "colab_type": "code",
        "trusted": true,
        "colab": {}
      },
      "cell_type": "code",
      "source": [
        "list1 = [i for i in range(1, 101)]\n",
        "list2 = [i ** 2 for i in range(1, 101)]"
      ],
      "execution_count": 0,
      "outputs": []
    },
    {
      "metadata": {
        "id": "5nAPXWMX9h7f",
        "colab_type": "code",
        "outputId": "5da6ba9a-83d1-435d-b818-79875957c665",
        "trusted": true,
        "colab": {
          "base_uri": "https://localhost:8080/",
          "height": 51
        }
      },
      "cell_type": "code",
      "source": [
        "%time print(np.array(list1).sum()**2 - (np.array(list1)**2).sum())"
      ],
      "execution_count": 0,
      "outputs": [
        {
          "output_type": "stream",
          "text": [
            "25164150\n",
            "CPU times: user 195 µs, sys: 13 µs, total: 208 µs\n",
            "Wall time: 214 µs\n"
          ],
          "name": "stdout"
        }
      ]
    },
    {
      "metadata": {
        "id": "WVoUtiG8-a0W",
        "colab_type": "code",
        "outputId": "4c75b284-6cb6-4a90-8b01-9411c5752def",
        "trusted": true,
        "colab": {
          "base_uri": "https://localhost:8080/",
          "height": 34
        }
      },
      "cell_type": "code",
      "source": [
        "%time print((reduce((lambda x, y: x+y), list1))**2 -reduce((lambda x, y: x + y), list2))"
      ],
      "execution_count": 0,
      "outputs": [
        {
          "output_type": "stream",
          "text": [
            "25164150\n",
            "CPU times: user 132 µs, sys: 8 µs, total: 140 µs\n",
            "Wall time: 146 µs\n"
          ],
          "name": "stdout"
        }
      ]
    },
    {
      "metadata": {
        "id": "RBq-HaLY8Gzq",
        "colab_type": "text"
      },
      "cell_type": "markdown",
      "source": [
        "<div id=\"content\">\n",
        "\n",
        "<h2>10001st prime</h2><div id=\"problem_info\"><h3>Problem 7 </h3></div>\n",
        "<div class=\"problem_content\" role=\"problem\">\n",
        "<p>By listing the first six prime numbers: 2, 3, 5, 7, 11, and 13, we can see that the 6th prime is 13.</p>\n",
        "<p>What is the 10 001st prime number?</p>\n",
        "\n",
        "</div><br>\n",
        "<br></div>"
      ]
    },
    {
      "metadata": {
        "id": "N4OKbCj4_F72",
        "colab_type": "code",
        "trusted": true,
        "colab": {}
      },
      "cell_type": "code",
      "source": [
        "    def prime():\n",
        "\n",
        "\n",
        "      import itertools\n",
        "\n",
        "\n",
        "      yield 2\n",
        "\n",
        "      for i in itertools.count(3, 2):\n",
        "        \n",
        "          e = int(i**.5) + 1\n",
        "          for j in range(2, e+1):\n",
        "            if  i % j == 0:\n",
        "              break\n",
        "            #elif j < e:\n",
        "             # continue\n",
        "          else:\n",
        "              yield i\n",
        "\n"
      ],
      "execution_count": 0,
      "outputs": []
    },
    {
      "metadata": {
        "id": "sDI36I8bLX0_",
        "colab_type": "code",
        "trusted": true,
        "colab": {}
      },
      "cell_type": "code",
      "source": [
        "def nth_prime(n):\n",
        "\n",
        "    for i, pr in enumerate(prime()):\n",
        "        # if i < n:\n",
        "        # pass\n",
        "        # elif i == n:\n",
        "        # return pr\n",
        "        # else:\n",
        "        # break\n",
        "        if i == n:\n",
        "            return pr\n",
        "            break"
      ],
      "execution_count": 0,
      "outputs": []
    },
    {
      "metadata": {
        "id": "WmUyws87WetE",
        "colab_type": "code",
        "outputId": "7717c597-9c6c-4c70-c865-595e77546698",
        "trusted": true,
        "colab": {
          "base_uri": "https://localhost:8080/",
          "height": 77
        }
      },
      "cell_type": "code",
      "source": [
        "%time nth_prime(10001)"
      ],
      "execution_count": 0,
      "outputs": [
        {
          "output_type": "stream",
          "text": [
            "CPU times: user 218 ms, sys: 7.96 ms, total: 226 ms\n",
            "Wall time: 232 ms\n"
          ],
          "name": "stdout"
        },
        {
          "output_type": "execute_result",
          "data": {
            "text/plain": [
              "104759"
            ]
          },
          "metadata": {
            "tags": []
          },
          "execution_count": 8
        }
      ]
    },
    {
      "metadata": {
        "id": "f-dN-6Ip2Icv",
        "colab_type": "text"
      },
      "cell_type": "markdown",
      "source": [
        "<div id=\"content\">\n",
        "\n",
        "<h2>Largest product in a series</h2><div id=\"problem_info\"><h3>Problem 8</h3></div>\n",
        "<div class=\"problem_content\" role=\"problem\">\n",
        "<p>The four adjacent digits in the 1000-digit number that have the greatest product are 9 X 9 X 8 X 9 = 5832.</p>\n",
        "<p style=\"font-family:'courier new';text-align:center;\">\n",
        "73167176531330624919225119674426574742355349194934<br>\n",
        "96983520312774506326239578318016984801869478851843<br>\n",
        "85861560789112949495459501737958331952853208805511<br>\n",
        "12540698747158523863050715693290963295227443043557<br>\n",
        "66896648950445244523161731856403098711121722383113<br>\n",
        "62229893423380308135336276614282806444486645238749<br>\n",
        "30358907296290491560440772390713810515859307960866<br>\n",
        "70172427121883998797908792274921901699720888093776<br>\n",
        "65727333001053367881220235421809751254540594752243<br>\n",
        "52584907711670556013604839586446706324415722155397<br>\n",
        "53697817977846174064955149290862569321978468622482<br>\n",
        "83972241375657056057490261407972968652414535100474<br>\n",
        "82166370484403199890008895243450658541227588666881<br>\n",
        "16427171479924442928230863465674813919123162824586<br>\n",
        "17866458359124566529476545682848912883142607690042<br>\n",
        "24219022671055626321111109370544217506941658960408<br>\n",
        "07198403850962455444362981230987879927244284909188<br>\n",
        "84580156166097919133875499200524063689912560717606<br>\n",
        "05886116467109405077541002256983155200055935729725<br>\n",
        "71636269561882670428252483600823257530420752963450<br></p>\n",
        "<p>Find the thirteen adjacent digits in the 1000-digit number that have the greatest product. What is the value of this product?</p>\n",
        "</div><br>\n",
        "<br></div>"
      ]
    },
    {
      "metadata": {
        "id": "ji3CmqPWXOGy",
        "colab_type": "code",
        "trusted": true,
        "colab": {}
      },
      "cell_type": "code",
      "source": [
        "\n",
        "import numpy as np\n",
        "\n",
        "x = 7316717653133062491922511967442657474235534919493496983520312774506326239578318016984801869478851843858615607891129494954595017379583319528532088055111254069874715852386305071569329096329522744304355766896648950445244523161731856403098711121722383113622298934233803081353362766142828064444866452387493035890729629049156044077239071381051585930796086670172427121883998797908792274921901699720888093776657273330010533678812202354218097512545405947522435258490771167055601360483958644670632441572215539753697817977846174064955149290862569321978468622482839722413756570560574902614079729686524145351004748216637048440319989000889524345065854122758866688116427171479924442928230863465674813919123162824586178664583591245665294765456828489128831426076900422421902267105562632111110937054421750694165896040807198403850962455444362981230987879927244284909188845801561660979191338754992005240636899125607176060588611646710940507754100225698315520005593572972571636269561882670428252483600823257530420752963450\n",
        "list_n = list(str(x))\n",
        "list_n = [int(n) for n in list_n]\n",
        "array_n = np.array(list_n)\n",
        "n, a = 0, np.array([])"
      ],
      "execution_count": 0,
      "outputs": []
    },
    {
      "metadata": {
        "id": "bhOwcWbL2Zkj",
        "colab_type": "code",
        "outputId": "29e00892-19c6-4d5f-ca03-b419aba41b22",
        "trusted": true,
        "colab": {
          "base_uri": "https://localhost:8080/",
          "height": 35
        }
      },
      "cell_type": "code",
      "source": [
        "array_n[1010:1012]  # no key erro for slice"
      ],
      "execution_count": 0,
      "outputs": [
        {
          "output_type": "execute_result",
          "data": {
            "text/plain": [
              "array([], dtype=int64)"
            ]
          },
          "metadata": {
            "tags": []
          },
          "execution_count": 65
        }
      ]
    },
    {
      "metadata": {
        "id": "esyP7k023nz_",
        "colab_type": "code",
        "outputId": "aff94407-4b5d-4129-95fd-704ae63ba2ca",
        "trusted": true,
        "colab": {
          "base_uri": "https://localhost:8080/",
          "height": 91
        }
      },
      "cell_type": "code",
      "source": [
        "%%time\n",
        "for i in range(0, len(list_n)):\n",
        "    a_ = array_n[i : i + 13]\n",
        "    n_ = array_n[i : i + 13].prod()\n",
        "    if n_ > n:\n",
        "        n = n_\n",
        "        a = a_\n",
        "print(n, a)"
      ],
      "execution_count": 0,
      "outputs": [
        {
          "output_type": "stream",
          "text": [
            "23514624000 [5 5 7 6 6 8 9 6 6 4 8 9 5]\n",
            "CPU times: user 8.78 ms, sys: 40 µs, total: 8.82 ms\n",
            "Wall time: 8.35 ms\n"
          ],
          "name": "stdout"
        }
      ]
    },
    {
      "metadata": {
        "colab_type": "code",
        "id": "caOQS96h4Tlc",
        "outputId": "f537aaee-0edf-476e-d5a0-5a0b01070668",
        "trusted": true,
        "colab": {
          "base_uri": "https://localhost:8080/",
          "height": 68
        }
      },
      "cell_type": "code",
      "source": [
        "%%time\n",
        "\n",
        "n, a = 0, []\n",
        "\n",
        "while len(list_n) >= 13:\n",
        "    if reduce((lambda x, y: x * y), list_n[-13:]) > n:\n",
        "        n = reduce((lambda x, y: x * y), list_n[-13:])\n",
        "        a = list_n[-13:]\n",
        "    list_n.pop()\n",
        "\n",
        "print(n, a)"
      ],
      "execution_count": 0,
      "outputs": [
        {
          "output_type": "stream",
          "text": [
            "23514624000 [5, 5, 7, 6, 6, 8, 9, 6, 6, 4, 8, 9, 5]\n",
            "CPU times: user 5.59 ms, sys: 0 ns, total: 5.59 ms\n",
            "Wall time: 5.07 ms\n"
          ],
          "name": "stdout"
        }
      ]
    },
    {
      "metadata": {
        "id": "lutvbBNJ-brN",
        "colab_type": "code",
        "outputId": "0a28376c-5043-4687-dc15-410d6c40757a",
        "trusted": true,
        "colab": {
          "base_uri": "https://localhost:8080/",
          "height": 34
        }
      },
      "cell_type": "code",
      "source": [
        "list_n[-119:]  # no key erro"
      ],
      "execution_count": 0,
      "outputs": [
        {
          "output_type": "execute_result",
          "data": {
            "text/plain": [
              "[7, 3, 1, 6, 7, 1, 7, 6, 5, 3, 1, 3]"
            ]
          },
          "metadata": {
            "tags": []
          },
          "execution_count": 13
        }
      ]
    },
    {
      "metadata": {
        "id": "u5g5JFyEYOwL",
        "colab_type": "text"
      },
      "cell_type": "markdown",
      "source": [
        "<div id=\"content\">\n",
        "\n",
        "<h2>Special Pythagorean triplet</h2><div id=\"problem_info\"><h3>Problem 9</h3></div>\n",
        "<div class=\"problem_content\" role=\"problem\">\n",
        "<p>A Pythagorean triplet is a set of three natural numbers, <var>a</var> &lt; <var>b</var> &lt; <var>c</var>, for which,</p>\n",
        "<div style=\"text-align:center;\"> <var>a</var><sup>2</sup> + <var>b</var><sup>2</sup> = <var>c</var><sup>2</sup></div>\n",
        "<p>For example, 3<sup>2</sup> + 4<sup>2</sup> = 9 + 16 = 25 = 5<sup>2</sup>.</p>\n",
        "<p>There exists exactly one Pythagorean triplet for which <var>a</var> + <var>b</var> + <var>c</var> = 1000.<br>Find the product <var>abc</var>.</p>\n",
        "\n",
        "</div><br>\n",
        "<br></div>"
      ]
    },
    {
      "metadata": {
        "id": "-bIZdeYzBpb5",
        "colab_type": "code",
        "outputId": "1ae7efe5-b6aa-4f97-9b02-17b1333123b9",
        "trusted": true,
        "colab": {
          "base_uri": "https://localhost:8080/",
          "height": 85
        }
      },
      "cell_type": "code",
      "source": [
        "%%time\n",
        "\n",
        "for a in range(1, 334):\n",
        "    for b in range(a + 1, 500):\n",
        "        c = 1000 - a - b\n",
        "        if a ** 2 + b ** 2 == c ** 2:\n",
        "            print(a * b * c)\n",
        "            print(a, b, c)"
      ],
      "execution_count": 0,
      "outputs": [
        {
          "output_type": "stream",
          "text": [
            "31875000\n",
            "200 375 425\n",
            "CPU times: user 121 ms, sys: 4.01 ms, total: 125 ms\n",
            "Wall time: 123 ms\n"
          ],
          "name": "stdout"
        }
      ]
    },
    {
      "metadata": {
        "id": "Q0ulb_K7vtfm",
        "colab_type": "text"
      },
      "cell_type": "markdown",
      "source": [
        "<div id=\"content\">\n",
        "\n",
        "<h2>Summation of primes</h2><div id=\"problem_info\"><h3>Problem 10 </h3></div>\n",
        "<div class=\"problem_content\" role=\"problem\">\n",
        "<p>The sum of the primes below 10 is 2 + 3 + 5 + 7 = 17.</p>\n",
        "<p>Find the sum of all the primes below two million.</p>\n",
        "\n",
        "\n",
        "\n",
        "</div><br>\n",
        "<br></div>"
      ]
    },
    {
      "metadata": {
        "id": "aSOigD9TXXrw",
        "colab_type": "code",
        "outputId": "78312447-d456-43c9-fe72-ba22fb430cf5",
        "trusted": true,
        "colab": {
          "base_uri": "https://localhost:8080/",
          "height": 68
        }
      },
      "cell_type": "code",
      "source": [
        "%%time\n",
        "\n",
        "s = 0\n",
        "for i in prime():\n",
        "\n",
        "    # if i <= 2000000:\n",
        "    # s += i\n",
        "    # else:\n",
        "    # break  # infinite generator, we have to break to stop it\n",
        "\n",
        "    s += i\n",
        "    if i >= 2000000:\n",
        "        break\n",
        "\n",
        "print(s)"
      ],
      "execution_count": 0,
      "outputs": [
        {
          "output_type": "stream",
          "text": [
            "142915828925\n",
            "CPU times: user 14.5 s, sys: 0 ns, total: 14.5 s\n",
            "Wall time: 14.6 s\n"
          ],
          "name": "stdout"
        }
      ]
    },
    {
      "metadata": {
        "id": "3sm2m6jLxbh0",
        "colab_type": "code",
        "colab": {}
      },
      "cell_type": "code",
      "source": [
        ""
      ],
      "execution_count": 0,
      "outputs": []
    }
  ]
}