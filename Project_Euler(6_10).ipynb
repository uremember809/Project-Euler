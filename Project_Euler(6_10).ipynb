{
  "nbformat": 4,
  "nbformat_minor": 0,
  "metadata": {
    "colab": {
      "name": "Project Euler(6-10).ipynb",
      "version": "0.3.2",
      "provenance": [],
      "include_colab_link": true
    },
    "kernelspec": {
      "name": "python3",
      "display_name": "Python 3"
    }
  },
  "cells": [
    {
      "cell_type": "markdown",
      "metadata": {
        "id": "view-in-github",
        "colab_type": "text"
      },
      "source": [
        "<a href=\"https://colab.research.google.com/github/uremember809/Project-Euler/blob/master/Project_Euler(6_10).ipynb\" target=\"_parent\"><img src=\"https://colab.research.google.com/assets/colab-badge.svg\" alt=\"Open In Colab\"/></a>"
      ]
    },
    {
      "metadata": {
        "id": "P7f0c8i8817g",
        "colab_type": "text"
      },
      "cell_type": "markdown",
      "source": [
        "# Sum square difference\n",
        "## Problem 6 \n",
        "The sum of the squares of the first ten natural numbers is,\n",
        "\n",
        "12 + 22 + ... + 102 = 385\n",
        "The square of the sum of the first ten natural numbers is,\n",
        "\n",
        "(1 + 2 + ... + 10)2 = 552 = 3025\n",
        "Hence the difference between the sum of the squares of the first ten natural numbers and the square of the sum is 3025 − 385 = 2640.\n",
        "\n",
        "Find the difference between the sum of the squares of the first one hundred natural numbers and the square of the sum.\n",
        "\n"
      ]
    },
    {
      "metadata": {
        "id": "pDO4W3lV85C5",
        "colab_type": "code",
        "colab": {}
      },
      "cell_type": "code",
      "source": [
        "import numpy as np\n",
        "from functools import reduce"
      ],
      "execution_count": 0,
      "outputs": []
    },
    {
      "metadata": {
        "id": "zYd-NZAB9JnI",
        "colab_type": "code",
        "colab": {}
      },
      "cell_type": "code",
      "source": [
        "list1 = [i for i in range(1, 101)]\n",
        "list2 = [i**2 for i in range(1, 101)]"
      ],
      "execution_count": 0,
      "outputs": []
    },
    {
      "metadata": {
        "id": "5nAPXWMX9h7f",
        "colab_type": "code",
        "outputId": "5da6ba9a-83d1-435d-b818-79875957c665",
        "colab": {
          "base_uri": "https://localhost:8080/",
          "height": 51
        }
      },
      "cell_type": "code",
      "source": [
        "%timeit (np.array(list1).cumsum()**2 - (np.array(list1)**2).cumsum())[-1]"
      ],
      "execution_count": 3,
      "outputs": [
        {
          "output_type": "stream",
          "text": [
            "The slowest run took 7.96 times longer than the fastest. This could mean that an intermediate result is being cached.\n",
            "100000 loops, best of 3: 16.5 µs per loop\n"
          ],
          "name": "stdout"
        }
      ]
    },
    {
      "metadata": {
        "id": "WVoUtiG8-a0W",
        "colab_type": "code",
        "outputId": "4c75b284-6cb6-4a90-8b01-9411c5752def",
        "colab": {
          "base_uri": "https://localhost:8080/",
          "height": 34
        }
      },
      "cell_type": "code",
      "source": [
        "%timeit (reduce((lambda x, y: x+y), list1))**2 -reduce((lambda x, y: x + y), list2)"
      ],
      "execution_count": 4,
      "outputs": [
        {
          "output_type": "stream",
          "text": [
            "10000 loops, best of 3: 26.1 µs per loop\n"
          ],
          "name": "stdout"
        }
      ]
    },
    {
      "metadata": {
        "id": "RBq-HaLY8Gzq",
        "colab_type": "text"
      },
      "cell_type": "markdown",
      "source": [
        "# 10001st prime\n",
        "### Problem 7 \n",
        "By listing the first six prime numbers: 2, 3, 5, 7, 11, and 13, we can see that the 6th prime is 13.\n",
        "\n",
        "What is the 10 001st prime number?\n",
        "\n"
      ]
    },
    {
      "metadata": {
        "id": "N4OKbCj4_F72",
        "colab_type": "code",
        "colab": {}
      },
      "cell_type": "code",
      "source": [
        "    def prime():\n",
        "\n",
        "\n",
        "      import itertools\n",
        "\n",
        "\n",
        "      yield 2\n",
        "\n",
        "      for i in itertools.count(3, 2):\n",
        "        if i == 2:\n",
        "          yield 2\n",
        "        else:\n",
        "          e = int(i**.5) + 1\n",
        "          for j in range(2, e+1):\n",
        "            if  i % j == 0:\n",
        "              break\n",
        "            elif j < e:\n",
        "              continue\n",
        "            else:\n",
        "              yield i\n",
        "\n"
      ],
      "execution_count": 0,
      "outputs": []
    },
    {
      "metadata": {
        "id": "sDI36I8bLX0_",
        "colab_type": "code",
        "colab": {}
      },
      "cell_type": "code",
      "source": [
        "def nth_prime(n):\n",
        "  \n",
        "    for i, pr in enumerate(prime()):\n",
        "      if i < n:\n",
        "        pass\n",
        "      elif i == n:\n",
        "        return pr\n",
        "      else:\n",
        "        break\n",
        "        "
      ],
      "execution_count": 0,
      "outputs": []
    },
    {
      "metadata": {
        "id": "WmUyws87WetE",
        "colab_type": "code",
        "outputId": "8e9ada81-8900-4f88-b86e-c60a0143475c",
        "colab": {
          "base_uri": "https://localhost:8080/",
          "height": 68
        }
      },
      "cell_type": "code",
      "source": [
        "%time nth_prime(10001)"
      ],
      "execution_count": 7,
      "outputs": [
        {
          "output_type": "stream",
          "text": [
            "CPU times: user 378 ms, sys: 838 µs, total: 379 ms\n",
            "Wall time: 382 ms\n"
          ],
          "name": "stdout"
        },
        {
          "output_type": "execute_result",
          "data": {
            "text/plain": [
              "104759"
            ]
          },
          "metadata": {
            "tags": []
          },
          "execution_count": 7
        }
      ]
    },
    {
      "metadata": {
        "id": "f-dN-6Ip2Icv",
        "colab_type": "text"
      },
      "cell_type": "markdown",
      "source": [
        "# Largest product in a series\n",
        "## Problem 8 \n",
        "The four adjacent digits in the 1000-digit number that have the greatest product are 9 × 9 × 8 × 9 = 5832.\n",
        "\n",
        "73167176531330624919225119674426574742355349194934\n",
        "96983520312774506326239578318016984801869478851843\n",
        "85861560789112949495459501737958331952853208805511\n",
        "12540698747158523863050715693290963295227443043557\n",
        "66896648950445244523161731856403098711121722383113\n",
        "62229893423380308135336276614282806444486645238749\n",
        "30358907296290491560440772390713810515859307960866\n",
        "70172427121883998797908792274921901699720888093776\n",
        "65727333001053367881220235421809751254540594752243\n",
        "52584907711670556013604839586446706324415722155397\n",
        "53697817977846174064955149290862569321978468622482\n",
        "83972241375657056057490261407972968652414535100474\n",
        "82166370484403199890008895243450658541227588666881\n",
        "16427171479924442928230863465674813919123162824586\n",
        "17866458359124566529476545682848912883142607690042\n",
        "24219022671055626321111109370544217506941658960408\n",
        "07198403850962455444362981230987879927244284909188\n",
        "84580156166097919133875499200524063689912560717606\n",
        "05886116467109405077541002256983155200055935729725\n",
        "71636269561882670428252483600823257530420752963450\n",
        "\n",
        "Find the thirteen adjacent digits in the 1000-digit number that have the greatest product. What is the value of this product?\n",
        "\n"
      ]
    },
    {
      "metadata": {
        "id": "ji3CmqPWXOGy",
        "colab_type": "code",
        "outputId": "13ee8411-835e-4858-df2b-ec2709b47bd7",
        "colab": {
          "base_uri": "https://localhost:8080/",
          "height": 34
        }
      },
      "cell_type": "code",
      "source": [
        "import numpy as np\n",
        "x = 7316717653133062491922511967442657474235534919493496983520312774506326239578318016984801869478851843858615607891129494954595017379583319528532088055111254069874715852386305071569329096329522744304355766896648950445244523161731856403098711121722383113622298934233803081353362766142828064444866452387493035890729629049156044077239071381051585930796086670172427121883998797908792274921901699720888093776657273330010533678812202354218097512545405947522435258490771167055601360483958644670632441572215539753697817977846174064955149290862569321978468622482839722413756570560574902614079729686524145351004748216637048440319989000889524345065854122758866688116427171479924442928230863465674813919123162824586178664583591245665294765456828489128831426076900422421902267105562632111110937054421750694165896040807198403850962455444362981230987879927244284909188845801561660979191338754992005240636899125607176060588611646710940507754100225698315520005593572972571636269561882670428252483600823257530420752963450\n",
        "list_n = list(str(x))\n",
        "list_n =[int(n) for n in list_n]\n",
        "array_n = np.array(list_n)\n",
        "n, a = 0, np.array([])\n",
        "for i in range(0, len(list_n)):\n",
        "  if array_n[i: i+13].prod() > n:\n",
        "    n = array_n[i: i+13].prod()\n",
        "    a = array_n[i: i+13]\n",
        "print(n, a)"
      ],
      "execution_count": 8,
      "outputs": [
        {
          "output_type": "stream",
          "text": [
            "23514624000 [5 5 7 6 6 8 9 6 6 4 8 9 5]\n"
          ],
          "name": "stdout"
        }
      ]
    },
    {
      "metadata": {
        "id": "bhOwcWbL2Zkj",
        "colab_type": "code",
        "colab": {
          "base_uri": "https://localhost:8080/",
          "height": 34
        },
        "outputId": "6036442f-80ae-4fea-a5b0-e3720d4d08e4"
      },
      "cell_type": "code",
      "source": [
        "array_n[1010:1012]  # no key erro"
      ],
      "execution_count": 10,
      "outputs": [
        {
          "output_type": "execute_result",
          "data": {
            "text/plain": [
              "array([], dtype=int64)"
            ]
          },
          "metadata": {
            "tags": []
          },
          "execution_count": 10
        }
      ]
    },
    {
      "metadata": {
        "id": "esyP7k023nz_",
        "colab_type": "code",
        "colab": {
          "base_uri": "https://localhost:8080/",
          "height": 68
        },
        "outputId": "29e601d7-efdf-476a-958f-c557e36f155b"
      },
      "cell_type": "code",
      "source": [
        "%%time \n",
        "for i in range(0, len(list_n)):\n",
        "  if array_n[i: i+13].prod() > n:\n",
        "    n = array_n[i: i+13].prod()\n",
        "    a = array_n[i: i+13]\n",
        "print(n, a)"
      ],
      "execution_count": 11,
      "outputs": [
        {
          "output_type": "stream",
          "text": [
            "23514624000 [5 5 7 6 6 8 9 6 6 4 8 9 5]\n",
            "CPU times: user 5.57 ms, sys: 70 µs, total: 5.64 ms\n",
            "Wall time: 7.99 ms\n"
          ],
          "name": "stdout"
        }
      ]
    },
    {
      "metadata": {
        "colab_type": "code",
        "id": "caOQS96h4Tlc",
        "colab": {
          "base_uri": "https://localhost:8080/",
          "height": 68
        },
        "outputId": "f537aaee-0edf-476e-d5a0-5a0b01070668"
      },
      "cell_type": "code",
      "source": [
        "%%time\n",
        "\n",
        "n, a = 0, []\n",
        "\n",
        "while len(list_n) >= 13:\n",
        "  if reduce((lambda x, y: x*y), list_n[-13:]) > n:\n",
        "    n = reduce((lambda x, y: x*y), list_n[-13:])\n",
        "    a = list_n[-13:]\n",
        "  list_n.pop()\n",
        "               \n",
        "print(n, a)"
      ],
      "execution_count": 12,
      "outputs": [
        {
          "output_type": "stream",
          "text": [
            "23514624000 [5, 5, 7, 6, 6, 8, 9, 6, 6, 4, 8, 9, 5]\n",
            "CPU times: user 3 ms, sys: 1.05 ms, total: 4.04 ms\n",
            "Wall time: 5.21 ms\n"
          ],
          "name": "stdout"
        }
      ]
    },
    {
      "metadata": {
        "id": "lutvbBNJ-brN",
        "colab_type": "code",
        "colab": {
          "base_uri": "https://localhost:8080/",
          "height": 34
        },
        "outputId": "0a28376c-5043-4687-dc15-410d6c40757a"
      },
      "cell_type": "code",
      "source": [
        "list_n[-119:] # no key erro"
      ],
      "execution_count": 13,
      "outputs": [
        {
          "output_type": "execute_result",
          "data": {
            "text/plain": [
              "[7, 3, 1, 6, 7, 1, 7, 6, 5, 3, 1, 3]"
            ]
          },
          "metadata": {
            "tags": []
          },
          "execution_count": 13
        }
      ]
    },
    {
      "metadata": {
        "id": "u5g5JFyEYOwL",
        "colab_type": "text"
      },
      "cell_type": "markdown",
      "source": [
        "# Special Pythagorean triplet\n",
        "## Problem 9 \n",
        "A Pythagorean triplet is a set of three natural numbers, a < b < c, for which,\n",
        "\n",
        "a2 + b2 = c2\n",
        "For example, 32 + 42 = 9 + 16 = 25 = 52.\n",
        "\n",
        "There exists exactly one Pythagorean triplet for which a + b + c = 1000.\n",
        "Find the product abc.\n",
        "\n"
      ]
    },
    {
      "metadata": {
        "id": "-bIZdeYzBpb5",
        "colab_type": "code",
        "colab": {
          "base_uri": "https://localhost:8080/",
          "height": 85
        },
        "outputId": "1ae7efe5-b6aa-4f97-9b02-17b1333123b9"
      },
      "cell_type": "code",
      "source": [
        "%%time\n",
        "\n",
        "for a in range(1, 334):\n",
        "  for b in range(a+1, 500):\n",
        "    c = 1000 -a - b\n",
        "    if (a**2+b**2==c**2):\n",
        "      print(a*b*c)\n",
        "      print(a, b,c)"
      ],
      "execution_count": 14,
      "outputs": [
        {
          "output_type": "stream",
          "text": [
            "31875000\n",
            "200 375 425\n",
            "CPU times: user 117 ms, sys: 2.04 ms, total: 119 ms\n",
            "Wall time: 122 ms\n"
          ],
          "name": "stdout"
        }
      ]
    },
    {
      "metadata": {
        "id": "Q0ulb_K7vtfm",
        "colab_type": "text"
      },
      "cell_type": "markdown",
      "source": [
        "# Summation of primes\n",
        "### Problem 10 \n",
        "The sum of the primes below 10 is 2 + 3 + 5 + 7 = 17.\n",
        "\n",
        "Find the sum of all the primes below two million.\n",
        "\n"
      ]
    },
    {
      "metadata": {
        "id": "aSOigD9TXXrw",
        "colab_type": "code",
        "colab": {
          "base_uri": "https://localhost:8080/",
          "height": 68
        },
        "outputId": "78312447-d456-43c9-fe72-ba22fb430cf5"
      },
      "cell_type": "code",
      "source": [
        "%%time\n",
        "\n",
        "s = 0\n",
        "for i in prime():\n",
        "  if i <= 2000000:\n",
        "    s += i\n",
        "  else:\n",
        "    break         #infinite generator, we have to break to stop it\n",
        "\n",
        "print(s)"
      ],
      "execution_count": 15,
      "outputs": [
        {
          "output_type": "stream",
          "text": [
            "142913828922\n",
            "CPU times: user 22 s, sys: 6.81 ms, total: 22 s\n",
            "Wall time: 22.1 s\n"
          ],
          "name": "stdout"
        }
      ]
    }
  ]
}