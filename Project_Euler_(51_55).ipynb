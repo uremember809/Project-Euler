{
  "nbformat": 4,
  "nbformat_minor": 0,
  "metadata": {
    "colab": {
      "name": "Project Euler (51-55).ipynb",
      "version": "0.3.2",
      "provenance": [],
      "collapsed_sections": [],
      "include_colab_link": true
    },
    "kernelspec": {
      "name": "python3",
      "display_name": "Python 3",
      "language": "python"
    }
  },
  "cells": [
    {
      "cell_type": "markdown",
      "metadata": {
        "id": "view-in-github",
        "colab_type": "text"
      },
      "source": [
        "<a href=\"https://colab.research.google.com/github/uremember809/Project-Euler/blob/master/Project_Euler_(51_55).ipynb\" target=\"_parent\"><img src=\"https://colab.research.google.com/assets/colab-badge.svg\" alt=\"Open In Colab\"/></a>"
      ]
    },
    {
      "metadata": {
        "id": "ocSw10Bnmgc0",
        "colab_type": "code",
        "trusted": true,
        "colab": {}
      },
      "cell_type": "code",
      "source": [
        "%load_ext lab_black"
      ],
      "execution_count": 0,
      "outputs": []
    },
    {
      "metadata": {
        "id": "HdXkl4VAmgdP",
        "colab_type": "text"
      },
      "cell_type": "markdown",
      "source": [
        "<div id=\"content\">\n",
        "\n",
        "<h2>Prime digit replacements</h2><div id=\"problem_info\"><h3>Problem 51 </h3></div>\n",
        "<div class=\"problem_content\" role=\"problem\">\n",
        "\n",
        "<p>By replacing the 1<sup>st</sup> digit of the 2-digit number *3, it turns out that six of the nine possible values: 13, 23, 43, 53, 73, and 83, are all prime.</p>\n",
        "<p>By replacing the 3<sup>rd</sup> and 4<sup>th</sup> digits of 56**3 with the same digit, this 5-digit number is the first example having seven primes among the ten generated numbers, yielding the family: 56003, 56113, 56333, 56443, 56663, 56773, and 56993. Consequently 56003, being the first member of this family, is the smallest prime with this property.</p>\n",
        "<p>Find the smallest prime which, by replacing part of the number (not necessarily adjacent digits) with the same digit, is part of an eight prime value family.</p>\n",
        "\n",
        "</div><br>\n",
        "<br></div>"
      ]
    },
    {
      "metadata": {
        "id": "NmTmqALymgdV",
        "colab_type": "code",
        "trusted": true,
        "colab": {}
      },
      "cell_type": "code",
      "source": [
        "from prime import *\n",
        "import itertools"
      ],
      "execution_count": 0,
      "outputs": []
    },
    {
      "metadata": {
        "id": "eQLtFSDsmgdi",
        "colab_type": "code",
        "outputId": "badfe563-7448-44fb-d79a-cc3beb4cf812",
        "trusted": true,
        "colab": {}
      },
      "cell_type": "code",
      "source": [
        "%%time\n",
        "\n",
        "found = False\n",
        "\n",
        "for p in prime_gen():\n",
        "\n",
        "    if found == True:\n",
        "        break\n",
        "\n",
        "    if p > 1000:\n",
        "        list_it = list(str(p))\n",
        "        last = list_it.pop()\n",
        "        # the last digit won't swap because it will hit a even number\n",
        "        for i in [\"0\", \"1\", \"2\"]:  # only 0, 1, 2 can swap 7 times up\n",
        "            if list_it.count(i) > 1:  # repeated digit\n",
        "                num_list = [p]\n",
        "                for j in range(1, 10 - int(i)):\n",
        "                    # the times it can swap. for ex. '1' will swap 8 times until 9\n",
        "                    list_shift = [int(k) + j if k == i else k for k in list_it]\n",
        "                    # swap\n",
        "                    number_shift = \"\".join(str(m) for m in list_shift) + last\n",
        "                    # combine to one string\n",
        "                    if is_prime(int(number_shift)):\n",
        "                        num_list.append(int(number_shift))\n",
        "                        if len(num_list) > 7:\n",
        "                            print(num_list)\n",
        "                            found = True"
      ],
      "execution_count": 0,
      "outputs": [
        {
          "output_type": "stream",
          "text": [
            "[121313, 222323, 323333, 424343, 525353, 626363, 828383, 929393]\n",
            "CPU times: user 661 ms, sys: 344 µs, total: 661 ms\n",
            "Wall time: 661 ms\n"
          ],
          "name": "stdout"
        }
      ]
    },
    {
      "metadata": {
        "id": "kIm_L5IHmgd_",
        "colab_type": "text"
      },
      "cell_type": "markdown",
      "source": [
        "<div id=\"content\">\n",
        "\n",
        "<h2>Permuted multiples</h2><div id=\"problem_info\"><h3>Problem 52 </h3></div>\n",
        "<div class=\"problem_content\" role=\"problem\">\n",
        "\n",
        "<p>It can be seen that the number, 125874, and its double, 251748, contain exactly the same digits, but in a different order.</p>\n",
        "<p>Find the smallest positive integer, <i>x</i>, such that 2<i>x</i>, 3<i>x</i>, 4<i>x</i>, 5<i>x</i>, and 6<i>x</i>, contain the same digits.</p>\n",
        "\n",
        "</div></div>"
      ]
    },
    {
      "metadata": {
        "id": "0gRwux1JmgeB",
        "colab_type": "code",
        "outputId": "18ebfab6-b6c2-4352-ac17-2979088c6692",
        "trusted": true,
        "colab": {}
      },
      "cell_type": "code",
      "source": [
        "%%time\n",
        "def list_str(n):\n",
        "    return sorted(list(i for i in str(n)))\n",
        "\n",
        "\n",
        "for i in itertools.count(1):\n",
        "    a, b, c, d, e, f = [list_str(i * n) for n in range(1, 7)]\n",
        "    if a == b and b == c and c == d and d == e and e == f:\n",
        "        print(i)\n",
        "        break"
      ],
      "execution_count": 0,
      "outputs": [
        {
          "output_type": "stream",
          "text": [
            "142857\n",
            "CPU times: user 2.37 s, sys: 11.3 ms, total: 2.39 s\n",
            "Wall time: 2.38 s\n"
          ],
          "name": "stdout"
        }
      ]
    },
    {
      "metadata": {
        "id": "drwgjnjemgeQ",
        "colab_type": "text"
      },
      "cell_type": "markdown",
      "source": [
        "<div id=\"content\">\n",
        "\n",
        "<h2>Combinatoric selections</h2><div id=\"problem_info\"><h3>Problem 53 </h3></div>\n",
        "<div class=\"problem_content\" role=\"problem\">\n",
        "<p>There are exactly ten ways of selecting three from five, 12345:</p>\n",
        "<p style=\"text-align:center;\">123, 124, 125, 134, 135, 145, 234, 235, 245, and 345</p>\n",
        "<p>In combinatorics, we use the notation, <sup>5</sup>C<sub>3</sub> = 10.</p>\n",
        "<p>In general,</p>\n",
        "<div style=\"text-align:center;\">\n",
        "<sup><var>n</var></sup>C<sub><var>r</var></sub> =$\\frac{n!}{r!(n-r)!}$\n",
        "<td>,where <var>r</var> $\\le$  <var>n</var>, <var>n</var>! = <var>n</var>(<var>n</var>-1)...3x2x1, and 0! = 1.\n",
        "</tr></tbody></table></div>\n",
        "<p>It is not until <var>n</var> = 23, that a value exceeds one-million: <sup>23</sup>C<sub>10</sub> = 1144066.</p>\n",
        "<p>How many, not necessarily distinct, values of &nbsp;<sup><var>n</var></sup>C<sub><var>r</var></sub>, for $1\\le n \\le100$, are greater than one-million?</p>\n",
        "\n",
        "</div></div>"
      ]
    },
    {
      "metadata": {
        "id": "83znEvFXmgeS",
        "colab_type": "code",
        "trusted": true,
        "colab": {}
      },
      "cell_type": "code",
      "source": [
        "def frac(n):\n",
        "    l = [i for i in range(1, n + 1)]\n",
        "    from functools import reduce\n",
        "    from operator import mul\n",
        "\n",
        "    return reduce(mul, l, 1)"
      ],
      "execution_count": 0,
      "outputs": []
    },
    {
      "metadata": {
        "id": "bOul5pk3mgeZ",
        "colab_type": "code",
        "outputId": "9f5fafaa-c29d-4d46-890a-1904587af174",
        "trusted": true,
        "colab": {}
      },
      "cell_type": "code",
      "source": [
        "%%time\n",
        "cache = {}\n",
        "count_ = 0\n",
        "for n in range(1, 101):\n",
        "    for r in range(1, n + 1):\n",
        "        if n in cache:\n",
        "            f_n = cache[n]\n",
        "        else:\n",
        "            cache[n] = frac(n)\n",
        "            f_n = cache[n]\n",
        "\n",
        "        if r in cache:\n",
        "            f_r = cache[r]\n",
        "        else:\n",
        "            cache[r] = frac(r)\n",
        "            f_r = cache[r]\n",
        "\n",
        "        if n - r in cache:\n",
        "            f_nr = cache[n - r]\n",
        "        else:\n",
        "            cache[n - r] = frac(n - r)\n",
        "            f_nr = cache[n - r]\n",
        "\n",
        "        c = f_n / f_r / f_nr\n",
        "        if c > 1000000:\n",
        "            count_ += 1\n",
        "print(count_)"
      ],
      "execution_count": 0,
      "outputs": [
        {
          "output_type": "stream",
          "text": [
            "4075\n",
            "CPU times: user 10.1 ms, sys: 68 µs, total: 10.2 ms\n",
            "Wall time: 10.1 ms\n"
          ],
          "name": "stdout"
        }
      ]
    },
    {
      "metadata": {
        "id": "8AprDNu6mgei",
        "colab_type": "text"
      },
      "cell_type": "markdown",
      "source": [
        "<div id=\"content\">\n",
        "\n",
        "<h2>Poker hands</h2><div id=\"problem_info\"><h3>Problem 54</h3></div>\n",
        "<div class=\"problem_content\" role=\"problem\">\n",
        "<p>In the card game poker, a hand consists of five cards and are ranked, from lowest to highest, in the following way:</p>\n",
        "<ul><li><b>High Card</b>: Highest value card.</li>\n",
        "<li><b>One Pair</b>: Two cards of the same value.</li>\n",
        "<li><b>Two Pairs</b>: Two different pairs.</li>\n",
        "<li><b>Three of a Kind</b>: Three cards of the same value.</li>\n",
        "<li><b>Straight</b>: All cards are consecutive values.</li>\n",
        "<li><b>Flush</b>: All cards of the same suit.</li>\n",
        "<li><b>Full House</b>: Three of a kind and a pair.</li>\n",
        "<li><b>Four of a Kind</b>: Four cards of the same value.</li>\n",
        "<li><b>Straight Flush</b>: All cards are consecutive values of same suit.</li>\n",
        "<li><b>Royal Flush</b>: Ten, Jack, Queen, King, Ace, in same suit.</li>\n",
        "</ul><p>The cards are valued in the order:<br>2, 3, 4, 5, 6, 7, 8, 9, 10, Jack, Queen, King, Ace.</p>\n",
        "<p>If two players have the same ranked hands then the rank made up of the highest value wins; for example, a pair of eights beats a pair of fives (see example 1 below). But if two ranks tie, for example, both players have a pair of queens, then highest cards in each hand are compared (see example 4 below); if the highest cards tie then the next highest cards are compared, and so on.</p>\n",
        "<p>Consider the following five hands dealt to two players:</p>\n",
        "<div style=\"text-align:center;\">\n",
        "<table><tbody><tr><td><b>Hand</b></td><td>&nbsp;</td><td><b>Player 1</b></td><td>&nbsp;</td><td><b>Player 2</b></td><td>&nbsp;</td><td><b>Winner</b></td>\n",
        "</tr><tr><td style=\"vertical-align:top;\"><b>1</b></td><td>&nbsp;</td><td>5H 5C 6S 7S KD<br><div class=\"note\">Pair of Fives</div></td><td>&nbsp;</td><td>2C 3S 8S 8D TD<br><div class=\"note\">Pair of Eights</div></td><td>&nbsp;</td><td style=\"vertical-align:top;\">Player 2</td>\n",
        "</tr><tr><td style=\"vertical-align:top;\"><b>2</b></td><td>&nbsp;</td><td>5D 8C 9S JS AC<br><div class=\"note\">Highest card Ace</div></td><td>&nbsp;</td><td>2C 5C 7D 8S QH<br><div class=\"note\">Highest card Queen</div></td><td>&nbsp;</td><td style=\"vertical-align:top;\">Player 1</td>\n",
        "</tr><tr><td style=\"vertical-align:top;\"><b>3</b></td><td>&nbsp;</td><td>2D 9C AS AH AC<br><div class=\"note\">Three Aces</div></td><td>&nbsp;</td><td>3D 6D 7D TD QD<br><div class=\"note\">Flush  with Diamonds</div></td><td>&nbsp;</td><td style=\"vertical-align:top;\">Player 2</td>\n",
        "</tr><tr><td style=\"vertical-align:top;\"><b>4</b></td><td>&nbsp;</td><td>4D 6S 9H QH QC<br><div class=\"note\">Pair of Queens<br>Highest card Nine</div></td><td>&nbsp;</td><td>3D 6D 7H QD QS<br><div class=\"note\">Pair of Queens<br>Highest card Seven</div></td><td>&nbsp;</td><td style=\"vertical-align:top;\">Player 1</td>\n",
        "</tr><tr><td style=\"vertical-align:top;\"><b>5</b></td><td>&nbsp;</td><td>2H 2D 4C 4D 4S<br><div class=\"note\">Full House<br>With Three Fours</div></td><td>&nbsp;</td><td>3C 3D 3S 9S 9D<br><div class=\"note\">Full House<br>with Three Threes</div></td><td>&nbsp;</td><td style=\"vertical-align:top;\">Player 1</td>\n",
        "</tr></tbody></table></div>\n",
        "<p>The file, <a href=\"https://projecteuler.net/project/resources/p054_poker.txt\">poker.txt</a>, contains one-thousand random hands dealt to two players. Each line of the file contains ten cards (separated by a single space): the first five are Player 1's cards and the last five are Player 2's cards. You can assume that all hands are valid (no invalid characters or repeated cards), each player's hand is in no specific order, and in each hand there is a clear winner.</p>\n",
        "<p>How many hands does Player 1 win?</p>\n",
        "</div></div>"
      ]
    },
    {
      "metadata": {
        "id": "V9FeOpUxmgfL",
        "colab_type": "code",
        "outputId": "0c56ed8a-840d-47a5-d2cc-433d2d502ff8",
        "trusted": true,
        "colab": {
          "base_uri": "https://localhost:8080/",
          "height": 342
        }
      },
      "cell_type": "code",
      "source": [
        "%%time\n",
        "import requests\n",
        "\n",
        "high = {\n",
        "    i: j\n",
        "    for i, j in zip((list(str(\"23456789TJQKA\"))), [n for n in range(2, 15)])\n",
        "}\n",
        "# cards to number\n",
        "\n",
        "file = requests.get(\"https://projecteuler.net/project/resources/p054_poker.txt\")\n",
        "file = file.content.decode().split(\"\\n\")\n",
        "\n",
        "hands = [hands.split() for hands in file]  # lines to list\n",
        "hands.pop()  # pop the empty line at the end\n",
        "\n",
        "\n",
        "def hand(x):\n",
        "\n",
        "    # vectorize the cards to a tuple (rank, values in the rank, and remaining singles)\n",
        "\n",
        "    h = [list(i) for i in x]  # turn hands to list\n",
        "    value = sorted([high[h[i][0]] for i in range(5)])  # sort the card values\n",
        "    value.reverse()\n",
        "\n",
        "    # flush\n",
        "    if (\n",
        "        h[0][1] == h[1][1]\n",
        "        and h[0][1] == h[2][1]\n",
        "        and h[0][1] == h[3][1]\n",
        "        and h[0][1] == h[4][1]\n",
        "        and value[-1] - value[0] == 4\n",
        "    ):\n",
        "        return (900, max(value))  # straight flush\n",
        "    if (\n",
        "        h[0][1] == h[1][1]\n",
        "        and h[0][1] == h[2][1]\n",
        "        and h[0][1] == h[3][1]\n",
        "        and h[0][1] == h[4][1]\n",
        "    ):\n",
        "        return tuple([600] + value)\n",
        "\n",
        "    # four\n",
        "    if value[0] == value[3]:\n",
        "        return (800, value[0], value[4])\n",
        "    if value[1] == value[4]:\n",
        "        return (800, value[4], value[0])\n",
        "\n",
        "    # full house\n",
        "    if value[0] == value[2] and value[3] == value[4]:\n",
        "        return (700, value[0], value[4])\n",
        "    if value[0] == value[1] and value[2] == value[4]:\n",
        "        return (700, value[4], value[0])\n",
        "\n",
        "    # three\n",
        "    if value[0] == value[2] or value[1] == value[3] or value[2] == value[4]:\n",
        "        return (400, value[2])\n",
        "\n",
        "    # two pair\n",
        "    if value[0] == value[1] and value[2] == value[3]:\n",
        "        return (300, value[0], value[2], value[4])\n",
        "    if value[0] == value[1] and value[3] == value[4]:\n",
        "        return (300, value[0], value[3], value[2])\n",
        "    if value[1] == value[2] and value[3] == value[4]:\n",
        "        return (300, value[2], value[3], value[0])\n",
        "\n",
        "    # pair\n",
        "    if value[0] == value[1]:\n",
        "        return (200, value[0], value[2], value[3], value[4])\n",
        "    if value[1] == value[2]:\n",
        "        return (200, value[1], value[0], value[3], value[4])\n",
        "    if value[2] == value[3]:\n",
        "        return (200, value[2], value[0], value[1], value[4])\n",
        "    if value[3] == value[4]:\n",
        "        return (200, value[3], value[0], value[1], value[2])\n",
        "\n",
        "    # straight\n",
        "    if value[0] == value[-1] + 4:\n",
        "        return (500, value[0])\n",
        "\n",
        "    # high\n",
        "    return tuple([100] + value)\n",
        "\n",
        "\n",
        "def win(x, y):\n",
        "\n",
        "    x = hand(x)\n",
        "    y = hand(y)\n",
        "\n",
        "    if x[0] != y[0]:  # compare the rank\n",
        "        return 1 if x[0] > y[0] else 0\n",
        "    else:  # for same rank compare the rest from high to low\n",
        "        for i in range(1, 5):\n",
        "            try:\n",
        "                return 1 if x[i] > y[i] else 0\n",
        "            except:\n",
        "                pass\n",
        "\n",
        "\n",
        "n = 0\n",
        "for h in hands:\n",
        "    player1 = h[0:5]\n",
        "    player2 = h[5:11]\n",
        "    n += win(player1, player2)\n",
        "\n",
        "print(n)"
      ],
      "execution_count": 0,
      "outputs": [
        {
          "output_type": "stream",
          "text": [
            "376\n",
            "CPU times: user 158 ms, sys: 23.8 ms, total: 182 ms\n",
            "Wall time: 2.01 s\n"
          ],
          "name": "stdout"
        }
      ]
    },
    {
      "metadata": {
        "id": "nGGVjxsYhSIR",
        "colab_type": "text"
      },
      "cell_type": "markdown",
      "source": [
        "<h2>Lychrel numbers</h2><div id=\"problem_info\"><h3>Problem 55</h3></div>\n",
        "<div class=\"problem_content\" role=\"problem\">\n",
        "<p>If we take 47, reverse and add, 47 + 74 = 121, which is palindromic.</p>\n",
        "<p>Not all numbers produce palindromes so quickly. For example,</p>\n",
        "<p style=\"margin-left:50px;\">349 + 943 = 1292,<br>\n",
        "1292 + 2921 = 4213<br>\n",
        "4213 + 3124 = 7337</p>\n",
        "<p>That is, 349 took three iterations to arrive at a palindrome.</p>\n",
        "<p>Although no one has proved it yet, it is thought that some numbers, like 196, never produce a palindrome. A number that never forms a palindrome through the reverse and add process is called a Lychrel number. Due to the theoretical nature of these numbers, and for the purpose of this problem, we shall assume that a number is Lychrel until proven otherwise. In addition you are given that for every number below ten-thousand, it will either (i) become a palindrome in less than fifty iterations, or, (ii) no one, with all the computing power that exists, has managed so far to map it to a palindrome. In fact, 10677 is the first number to be shown to require over fifty iterations before producing a palindrome: 4668731596684224866951378664 (53 iterations, 28-digits).</p>\n",
        "<p>Surprisingly, there are palindromic numbers that are themselves Lychrel numbers; the first example is 4994.</p>\n",
        "<p>How many Lychrel numbers are there below ten-thousand?</p>\n",
        "<p class=\"note\">NOTE: Wording was modified slightly on 24 April 2007 to emphasise the theoretical nature of Lychrel numbers.</p>\n",
        "</div>"
      ]
    },
    {
      "metadata": {
        "trusted": true,
        "id": "tiZ1DD0ThSIR",
        "colab_type": "code",
        "colab": {},
        "outputId": "c3b4eb08-63b7-459d-d242-29e8d37a94d2"
      },
      "cell_type": "code",
      "source": [
        "%%time\n",
        "\n",
        "cache = {}  # my cache did not really save me time\n",
        "\n",
        "\n",
        "def lychrel(n):\n",
        "    # global cache\n",
        "    m = n\n",
        "    if n in cache:\n",
        "        return 0\n",
        "\n",
        "    for i in range(50):\n",
        "        n = n + int(\"\".join(list(str(n))[-1::-1]))\n",
        "        if n != int(\"\".join(list(str(n))[-1::-1])):\n",
        "            if n in cache:\n",
        "                return 0\n",
        "        if n == int(\"\".join(list(str(n))[-1::-1])):\n",
        "            cache[m] = 0\n",
        "            cache[\"\".join(list(str(m))[-1::-1])] = 0\n",
        "            return 0\n",
        "    else:\n",
        "        return 1\n",
        "\n",
        "\n",
        "num_ = 0\n",
        "for i in range(1, 10001):\n",
        "    num_ += lychrel(i)\n",
        "print(num_)"
      ],
      "execution_count": 0,
      "outputs": [
        {
          "output_type": "stream",
          "text": [
            "249\n",
            "CPU times: user 238 ms, sys: 205 µs, total: 238 ms\n",
            "Wall time: 238 ms\n"
          ],
          "name": "stdout"
        }
      ]
    },
    {
      "metadata": {
        "trusted": true,
        "id": "GIMn2Gf3hSIT",
        "colab_type": "code",
        "colab": {},
        "outputId": "fa4ac607-127f-4d92-ccc3-d1ce59fcdd86"
      },
      "cell_type": "code",
      "source": [
        "%%time\n",
        "def lychrel(n):\n",
        "\n",
        "    for i in range(50):\n",
        "        n = n + int(\"\".join(list(str(n))[-1::-1]))\n",
        "        if n != int(\"\".join(list(str(n))[-1::-1])):\n",
        "            pass\n",
        "        if n == int(\"\".join(list(str(n))[-1::-1])):\n",
        "            return 0\n",
        "    else:\n",
        "        return 1\n",
        "\n",
        "\n",
        "num_ = 0\n",
        "for i in range(1, 10001):\n",
        "    num_ += lychrel(i)\n",
        "print(num_)"
      ],
      "execution_count": 0,
      "outputs": [
        {
          "output_type": "stream",
          "text": [
            "249\n",
            "CPU times: user 219 ms, sys: 0 ns, total: 219 ms\n",
            "Wall time: 217 ms\n"
          ],
          "name": "stdout"
        }
      ]
    },
    {
      "metadata": {
        "id": "b6F5ueoMhSIe",
        "colab_type": "code",
        "colab": {}
      },
      "cell_type": "code",
      "source": [
        ""
      ],
      "execution_count": 0,
      "outputs": []
    }
  ]
}