{
  "nbformat": 4,
  "nbformat_minor": 0,
  "metadata": {
    "colab": {
      "name": "Project Euler (41-45).ipynb",
      "version": "0.3.2",
      "provenance": [],
      "collapsed_sections": [],
      "include_colab_link": true
    },
    "kernelspec": {
      "name": "python3",
      "display_name": "Python 3",
      "language": "python"
    }
  },
  "cells": [
    {
      "cell_type": "markdown",
      "metadata": {
        "id": "view-in-github",
        "colab_type": "text"
      },
      "source": [
        "<a href=\"https://colab.research.google.com/github/uremember809/Project-Euler/blob/master/Project_Euler_(41_45).ipynb\" target=\"_parent\"><img src=\"https://colab.research.google.com/assets/colab-badge.svg\" alt=\"Open In Colab\"/></a>"
      ]
    },
    {
      "metadata": {
        "id": "ZIGv9slpkEBm",
        "colab_type": "code",
        "trusted": true,
        "colab": {}
      },
      "cell_type": "code",
      "source": [
        "%load_ext lab_black"
      ],
      "execution_count": 0,
      "outputs": []
    },
    {
      "metadata": {
        "id": "WdFQq0kfo2NQ",
        "colab_type": "text"
      },
      "cell_type": "markdown",
      "source": [
        "<div id=\"content\">\n",
        "\n",
        "<h2>Pandigital prime</h2><div id=\"problem_info\"><h3>Problem 41</h3></div>\n",
        "<div class=\"problem_content\" role=\"problem\">\n",
        "\n",
        "<p>We shall say that an <i>n</i>-digit number is pandigital if it makes use of all the digits 1 to <i>n</i> exactly once. For example, 2143 is a 4-digit pandigital and is also prime.</p>\n",
        "<p>What is the largest <i>n</i>-digit pandigital prime that exists?</p>\n",
        "\n",
        "</div><br>\n",
        "<br></div>"
      ]
    },
    {
      "metadata": {
        "id": "2oNhWdVUeaJt",
        "colab_type": "code",
        "trusted": true,
        "colab": {}
      },
      "cell_type": "code",
      "source": [
        "import itertools"
      ],
      "execution_count": 0,
      "outputs": []
    },
    {
      "metadata": {
        "id": "aaIhwDiOHgfX",
        "colab_type": "code",
        "trusted": true,
        "colab": {}
      },
      "cell_type": "code",
      "source": [
        "def is_prime(n):\n",
        "    if n < 2:\n",
        "        return False\n",
        "    if n < 4:\n",
        "        return True\n",
        "    for i in range(2, int(n ** .5 + 1) + 1):\n",
        "        if n % i == 0:\n",
        "            return False\n",
        "            break\n",
        "    else:\n",
        "        return True"
      ],
      "execution_count": 0,
      "outputs": []
    },
    {
      "metadata": {
        "id": "YTspemQ1erbU",
        "colab_type": "code",
        "outputId": "7a5ee907-f87e-4c66-d7d8-2da4fe36b64f",
        "trusted": true,
        "colab": {
          "base_uri": "https://localhost:8080/",
          "height": 91
        }
      },
      "cell_type": "code",
      "source": [
        "%%time\n",
        "l = 0\n",
        "for i in range(9, 1, -1):\n",
        "    if is_prime(l):\n",
        "        break\n",
        "    for j in itertools.permutations(range(1, i + 1)):\n",
        "        l = \"\".join(list(str(k) for k in j))\n",
        "        l = int(l)\n",
        "        if is_prime(l):\n",
        "            try:\n",
        "                if l > max_:\n",
        "                    max_ = l\n",
        "            except:\n",
        "                max_ = l\n",
        "print(f\"the largest pan prime is {max_}\")"
      ],
      "execution_count": 0,
      "outputs": [
        {
          "output_type": "stream",
          "text": [
            "the largest pan prime is 7652413\n",
            "CPU times: user 2.53 s, sys: 0 ns, total: 2.53 s\n",
            "Wall time: 2.53 s\n"
          ],
          "name": "stdout"
        }
      ]
    },
    {
      "metadata": {
        "id": "XqjxxJ0Jo2RH",
        "colab_type": "text"
      },
      "cell_type": "markdown",
      "source": [
        "<div id=\"content\">\n",
        "\n",
        "<h2>Coded triangle numbers</h2><div id=\"problem_info\"><h3>Problem 42 </h3></div>\n",
        "<div class=\"problem_content\" role=\"problem\">\n",
        "<p>The <i>n</i><sup>th</sup> term of the sequence of triangle numbers is given by, <i>t<sub>n</sub></i> = ½<i>n</i>(<i>n</i>+1); so the first ten triangle numbers are:</p>\n",
        "<p style=\"text-align:center;\">1, 3, 6, 10, 15, 21, 28, 36, 45, 55, ...</p>\n",
        "<p>By converting each letter in a word to a number corresponding to its alphabetical position and adding these values we form a word value. For example, the word value for SKY is 19 + 11 + 25 = 55 = <i>t</i><sub>10</sub>. If the word value is a triangle number then we shall call the word a triangle word.</p>\n",
        "<p>Using <a href=\"https://projecteuler.net/project/resources/p042_words.txt\">words.txt</a> (right click and 'Save Link/Target As...'), a 16K text file containing nearly two-thousand common English words, how many are triangle words?</p>\n",
        "</div><br>\n",
        "<br></div>"
      ]
    },
    {
      "metadata": {
        "id": "nyLnlEcgqwmY",
        "colab_type": "code",
        "outputId": "419825dc-4823-4e89-bc09-673a66ab2f46",
        "trusted": true,
        "colab": {
          "base_uri": "https://localhost:8080/",
          "height": 2987
        }
      },
      "cell_type": "code",
      "source": [
        "%%time\n",
        "\n",
        "import requests\n",
        "\n",
        "dict_ = {\n",
        "    x: y\n",
        "    for x, y in zip(\n",
        "        list(\"ABCDEFGHIJKLMNOPQRSTUVWXYZ\"), [i for i in range(1, 27)]\n",
        "    )\n",
        "}\n",
        "\n",
        "\n",
        "def word_number(x):\n",
        "    d = [dict_[i] for i in list(x)]\n",
        "    return sum(d)\n",
        "\n",
        "\n",
        "file_ = requests.get(\n",
        "    \"https://projecteuler.net/project/resources/p042_words.txt\"\n",
        ")\n",
        "\n",
        "words_ = file_.content.decode().strip('\"').split('\",\"')\n",
        "\n",
        "num_list = list(\n",
        "    map(word_number, words_)\n",
        ")  # map is an object that has to convert to list\n",
        "\n",
        "max_ = max(num_list)\n",
        "\n",
        "tri_ = [n * (n + 1) // 2 for n in range(1, int(max(num_list) ** .5) * 2)]\n",
        "\n",
        "word_with_value_index = {num: word for num, word in zip(num_list, words_)}\n",
        "\n",
        "n = 0\n",
        "for num in num_list:\n",
        "    if num in tri_:  # a reverse function will be faster\n",
        "        n += 1\n",
        "        # print(num, word_with_value_index[num])\n",
        "\n",
        "print(f\"total {n} trangle words in the file\")"
      ],
      "execution_count": 0,
      "outputs": [
        {
          "output_type": "stream",
          "text": [
            "total 162 trangle words in the file\n",
            "CPU times: user 146 ms, sys: 23.8 ms, total: 170 ms\n",
            "Wall time: 769 ms\n"
          ],
          "name": "stdout"
        }
      ]
    },
    {
      "metadata": {
        "id": "bBPOWQr3kEDt",
        "colab_type": "text"
      },
      "cell_type": "markdown",
      "source": [
        "<div id=\"content\">\n",
        "\n",
        "<h2>Sub-string divisibility</h2><div id=\"problem_info\"><h3>Problem 43 </h3></div>\n",
        "<div class=\"problem_content\" role=\"problem\">\n",
        "<p>The number, 1406357289, is a 0 to 9 pandigital number because it is made up of each of the digits 0 to 9 in some order, but it also has a rather interesting sub-string divisibility property.</p>\n",
        "<p>Let <i>d</i><sub>1</sub> be the 1<sup>st</sup> digit, <i>d</i><sub>2</sub> be the 2<sup>nd</sup> digit, and so on. In this way, we note the following:</p>\n",
        "<ul><li><i>d</i><sub>2</sub><i>d</i><sub>3</sub><i>d</i><sub>4</sub>=406 is divisible by 2</li>\n",
        "<li><i>d</i><sub>3</sub><i>d</i><sub>4</sub><i>d</i><sub>5</sub>=063 is divisible by 3</li>\n",
        "<li><i>d</i><sub>4</sub><i>d</i><sub>5</sub><i>d</i><sub>6</sub>=635 is divisible by 5</li>\n",
        "<li><i>d</i><sub>5</sub><i>d</i><sub>6</sub><i>d</i><sub>7</sub>=357 is divisible by 7</li>\n",
        "<li><i>d</i><sub>6</sub><i>d</i><sub>7</sub><i>d</i><sub>8</sub>=572 is divisible by 11</li>\n",
        "<li><i>d</i><sub>7</sub><i>d</i><sub>8</sub><i>d</i><sub>9</sub>=728 is divisible by 13</li>\n",
        "<li><i>d</i><sub>8</sub><i>d</i><sub>9</sub><i>d</i><sub>10</sub>=289 is divisible by 17</li>\n",
        "</ul><p>Find the sum of all 0 to 9 pandigital numbers with this property.</p>\n",
        "\n",
        "</div><br>\n",
        "<br></div>"
      ]
    },
    {
      "metadata": {
        "id": "_d-B2JihkEDv",
        "colab_type": "code",
        "outputId": "3566cb6f-a986-4e2f-aae3-d98bc3d5f6d7",
        "trusted": true,
        "colab": {
          "base_uri": "https://localhost:8080/",
          "height": 199
        }
      },
      "cell_type": "code",
      "source": [
        "    %%time\n",
        "    for x in itertools.permutations(list('1234567890')):\n",
        "        for m, n in zip(range(1, 8), [2,3,5,7,11,13,17]):\n",
        "            if int(''.join(list(x[m:m+3])).lstrip('0')) % n != 0:\n",
        "                break\n",
        "        else: \n",
        "            number_ = int(''.join(list(x)))\n",
        "            print( f'{number_} has this property')\n",
        "            try: \n",
        "                total_sum += number_\n",
        "                total_num += 1\n",
        "            except: \n",
        "                total_sum = number_\n",
        "                total_num = 1\n",
        "    print(f'there are {total_num} numbers has this property, the total sum is {total_sum}')\n"
      ],
      "execution_count": 0,
      "outputs": [
        {
          "output_type": "stream",
          "text": [
            "1430952867 has this property\n",
            "1460357289 has this property\n",
            "1406357289 has this property\n",
            "4130952867 has this property\n",
            "4160357289 has this property\n",
            "4106357289 has this property\n",
            "there are 6 numbers has this property, the total sum is 16695334890\n",
            "CPU times: user 12.5 s, sys: 27.9 ms, total: 12.5 s\n",
            "Wall time: 12.6 s\n"
          ],
          "name": "stdout"
        }
      ]
    },
    {
      "metadata": {
        "id": "5HDyd8IRkED1",
        "colab_type": "text"
      },
      "cell_type": "markdown",
      "source": [
        "<div id=\"content\">\n",
        "\n",
        "<h2>Pentagon numbers</h2><div id=\"problem_info\"><h3>Problem 44 </h3></div>\n",
        "<div class=\"problem_content\" role=\"problem\">\n",
        "<p>Pentagonal numbers are generated by the formula, P<sub><var>n</var></sub>=<var>n</var>(3<var>n</var>1)/2. The first ten pentagonal numbers are:</p>\n",
        "<p style=\"text-align:center;\">1, 5, 12, 22, 35, 51, 70, 92, 117, 145, ...</p>\n",
        "<p>It can be seen that P<sub>4</sub> + P<sub>7</sub> = 22 + 70 = 92 = P<sub>8</sub>. However, their difference, 70 - 22 = 48, is not pentagonal.</p>\n",
        "<p>Find the pair of pentagonal numbers, P<sub><var>j</var></sub> and P<sub><var>k</var></sub>, for which their sum and difference are pentagonal and D = |P<sub><var>k</var></sub> - P<sub><var>j</var></sub>| is minimised; what is the value of D?</p>\n",
        "</div><br>\n",
        "<br></div>"
      ]
    },
    {
      "metadata": {
        "id": "ZtP0ym9XkED1",
        "colab_type": "code",
        "trusted": true,
        "colab": {}
      },
      "cell_type": "code",
      "source": [
        "def pentagon_gen():\n",
        "    for i in itertools.count(1):\n",
        "        yield i * (3 * i - 1) // 2"
      ],
      "execution_count": 0,
      "outputs": []
    },
    {
      "metadata": {
        "id": "7dycRmtfkED5",
        "colab_type": "code",
        "trusted": true,
        "colab": {}
      },
      "cell_type": "code",
      "source": [
        "def pentagon_under(n):\n",
        "    for i in range(1, n + 1):\n",
        "        if i < n:\n",
        "            yield i * (3 * i - 1) // 2"
      ],
      "execution_count": 0,
      "outputs": []
    },
    {
      "metadata": {
        "id": "d--HpHGtkED8",
        "colab_type": "code",
        "trusted": true,
        "colab": {}
      },
      "cell_type": "code",
      "source": [
        "def pentagon_less_than(n):\n",
        "    for i in range(1, n):\n",
        "        if i * (3 * i - 1) // 2 < n + 1:\n",
        "            yield i * (3 * i - 1) // 2"
      ],
      "execution_count": 0,
      "outputs": []
    },
    {
      "metadata": {
        "id": "VRBioooLXjMc",
        "colab_type": "code",
        "trusted": true,
        "colab": {}
      },
      "cell_type": "code",
      "source": [
        "def is_pent(n):\n",
        "    x = ((1 + 24 * n) ** .5 + 1) / 6\n",
        "    return int(x) == x"
      ],
      "execution_count": 0,
      "outputs": []
    },
    {
      "metadata": {
        "id": "BS7Mofaut06C",
        "colab_type": "code",
        "outputId": "c7e39f15-8abf-4e07-e61c-80f4c3b82a89",
        "trusted": true,
        "colab": {
          "base_uri": "https://localhost:8080/",
          "height": 127
        }
      },
      "cell_type": "code",
      "source": [
        "%%time\n",
        "l = []\n",
        "p = pentagon_gen()\n",
        "list_ = list(pentagon_less_than(8602841))\n",
        "while 1:\n",
        "    try:\n",
        "        if D > 0:\n",
        "            break\n",
        "    except:\n",
        "        pass\n",
        "\n",
        "    l.append(next(p))\n",
        "\n",
        "    for p1 in l[:-1]:\n",
        "\n",
        "        if (p1 + l[-1]) in list_ and (\n",
        "            abs(p1 - l[-1]) in list_\n",
        "        ):  # member checking is extremely slow compare to a reverse function\n",
        "            print(p1, l[-1], p1 + l[-1], abs(p1 - l[-1]))\n",
        "            D = abs(p1 - l[-1])"
      ],
      "execution_count": 0,
      "outputs": [
        {
          "output_type": "stream",
          "text": [
            "1560090 7042750 8602840 5482660\n",
            "CPU times: user 1min 25s, sys: 23.8 ms, total: 1min 25s\n",
            "Wall time: 1min 25s\n"
          ],
          "name": "stdout"
        }
      ]
    },
    {
      "metadata": {
        "trusted": true,
        "id": "3uDOC3Mjz_Pm",
        "colab_type": "code",
        "colab": {},
        "outputId": "9b2b65b5-733c-46a8-c618-b99cbf52af77"
      },
      "cell_type": "code",
      "source": [
        "%%time\n",
        "D = 0\n",
        "l = []\n",
        "p = pentagon_gen()\n",
        "while 1:\n",
        "    try:\n",
        "        if D > 0:\n",
        "            break\n",
        "    except:\n",
        "        pass\n",
        "\n",
        "    l.append(next(p))\n",
        "\n",
        "    for p1 in l[:-1]:\n",
        "\n",
        "        if is_pent(p1 + l[-1]) and is_pent(abs(p1 - l[-1])):\n",
        "            print(p1, l[-1], p1 + l[-1], abs(p1 - l[-1]))\n",
        "            D = abs(p1 - l[-1])\n",
        "            print(D)"
      ],
      "execution_count": 0,
      "outputs": [
        {
          "output_type": "stream",
          "text": [
            "1560090 7042750 8602840 5482660\n",
            "5482660\n",
            "CPU times: user 2.31 s, sys: 12 ms, total: 2.33 s\n",
            "Wall time: 2.34 s\n"
          ],
          "name": "stdout"
        }
      ]
    },
    {
      "metadata": {
        "id": "m2FFc7s7kEEu",
        "colab_type": "text"
      },
      "cell_type": "markdown",
      "source": [
        "<div id=\"content\">\n",
        "\n",
        "<h2>Triangular, pentagonal, and hexagonal</h2><div id=\"problem_info\"><h3>Problem 45 </h3></div>\n",
        "<div class=\"problem_content\" role=\"problem\">\n",
        "<p>Triangle, pentagonal, and hexagonal numbers are generated by the following formulae:</p>\n",
        "<table><tbody><tr><td>Triangle</td>\n",
        "<td>&nbsp;</td>\n",
        "<td>T<sub><i>n</i></sub>=<i>n</i>(<i>n</i>+1)/2</td>\n",
        "<td>&nbsp;</td>\n",
        "<td>1, 3, 6, 10, 15, ...</td>\n",
        "</tr><tr><td>Pentagonal</td>\n",
        "<td>&nbsp;</td>\n",
        "<td>P<sub><i>n</i></sub>=<i>n</i>(3<i>n</i>-1)/2</td>\n",
        "<td>&nbsp;</td>\n",
        "<td>1, 5, 12, 22, 35, ...</td>\n",
        "</tr><tr><td>Hexagonal</td>\n",
        "<td>&nbsp;</td>\n",
        "<td>H<sub><i>n</i></sub>=<i>n</i>(2<i>n</i>-1)</td>\n",
        "<td>&nbsp;</td>\n",
        "<td>1, 6, 15, 28, 45, ...</td>\n",
        "</tr></tbody></table><p>It can be verified that T<sub>285</sub> = P<sub>165</sub> = H<sub>143</sub> = 40755.</p>\n",
        "<p>Find the next triangle number that is also pentagonal and hexagonal.</p>\n",
        "\n",
        "</div><br>\n",
        "<br></div>"
      ]
    },
    {
      "metadata": {
        "id": "l1J6JPnukEE8",
        "colab_type": "code",
        "trusted": true,
        "colab": {}
      },
      "cell_type": "code",
      "source": [
        "def is_tri(n):\n",
        "    x = 2 + (1 + 8 * n) ** .5\n",
        "    return x == int(x)"
      ],
      "execution_count": 0,
      "outputs": []
    },
    {
      "metadata": {
        "id": "dVEo4hJikEFM",
        "colab_type": "code",
        "trusted": true,
        "colab": {}
      },
      "cell_type": "code",
      "source": [
        "def is_hex(n):\n",
        "    x = 1 / 4 + (1 + 8 * n) ** .5 / 4\n",
        "    return x == int(x)"
      ],
      "execution_count": 0,
      "outputs": []
    },
    {
      "metadata": {
        "id": "rzWOjlK6kEFP",
        "colab_type": "code",
        "outputId": "53b16c33-38ad-414a-bf1b-cd3adb826c6e",
        "trusted": true,
        "colab": {
          "base_uri": "https://localhost:8080/",
          "height": 42
        }
      },
      "cell_type": "code",
      "source": [
        "is_hex(45)"
      ],
      "execution_count": 0,
      "outputs": [
        {
          "output_type": "execute_result",
          "data": {
            "text/plain": [
              "True"
            ]
          },
          "metadata": {
            "tags": []
          },
          "execution_count": 15
        }
      ]
    },
    {
      "metadata": {
        "id": "vQFAG6gVkEFW",
        "colab_type": "code",
        "trusted": true,
        "colab": {}
      },
      "cell_type": "code",
      "source": [
        "def d_p_h():\n",
        "    for i in itertools.count(1):\n",
        "        if is_pent(i) and is_hex(i):\n",
        "            yield i"
      ],
      "execution_count": 0,
      "outputs": []
    },
    {
      "metadata": {
        "id": "2SWovhJ7kEFY",
        "colab_type": "code",
        "outputId": "97974d1f-7775-42c8-d247-960d6f219eab",
        "trusted": true,
        "colab": {
          "base_uri": "https://localhost:8080/",
          "height": 161
        }
      },
      "cell_type": "code",
      "source": [
        "%%time\n",
        "\n",
        "c_ = 0\n",
        "for i in (p * (2 * p - 1) for p in itertools.count(2)):\n",
        "\n",
        "    if c_ > 0:\n",
        "        break\n",
        "    if is_pent(i):\n",
        "        print(i)\n",
        "        if i > 40755:\n",
        "            c_ += 1"
      ],
      "execution_count": 0,
      "outputs": [
        {
          "output_type": "stream",
          "text": [
            "40755\n",
            "1533776805\n",
            "CPU times: user 38.5 ms, sys: 3.99 ms, total: 42.5 ms\n",
            "Wall time: 43.8 ms\n"
          ],
          "name": "stdout"
        }
      ]
    },
    {
      "metadata": {
        "id": "l26_7r61kEFc",
        "colab_type": "text"
      },
      "cell_type": "markdown",
      "source": [
        "<div id=\"content\">\n",
        "\n",
        "<h2>Goldbach's other conjecture</h2><div id=\"problem_info\"><h3>Problem 46</h3></div>\n",
        "<div class=\"problem_content\" role=\"problem\">\n",
        "<p>It was proposed by Christian Goldbach that every odd composite number can be written as the sum of a prime and twice a square.</p>\n",
        "<p style=\"margin-left:10px;\">9 = 7 + 2+1<sup>2</sup><br>\n",
        "15 = 7 + 2+2<sup>2</sup><br>\n",
        "21 = 3 + 2+3<sup>2</sup><br>\n",
        "25 = 7 + 2+3<sup>2</sup><br>\n",
        "27 = 19 + 2+2<sup>2</sup><br>\n",
        "33 = 31 + 2+1<sup>2</sup></p>\n",
        "<p>It turns out that the conjecture was false.</p>\n",
        "<p>What is the smallest odd composite that cannot be written as the sum of a prime and twice a square?</p>\n",
        "\n",
        "</div><br>\n",
        "<br></div>"
      ]
    },
    {
      "metadata": {
        "id": "tfl4ckiTkEFd",
        "colab_type": "code",
        "outputId": "12c3fdb6-f2f7-4f7d-a441-03b5c7cd7777",
        "trusted": true,
        "colab": {
          "base_uri": "https://localhost:8080/",
          "height": 153485
        }
      },
      "cell_type": "code",
      "source": [
        "def odd_composite_gen():\n",
        "    for i in itertools.count(9, 2):\n",
        "        e = int(i ** .5) + 1\n",
        "        for j in range(3, e + 1):\n",
        "            if i % j == 0:\n",
        "                yield i\n",
        "                break\n",
        "\n",
        "\n",
        "def prime_gen(n):\n",
        "    yield 2\n",
        "    for i in range(3, n + 1, 2):\n",
        "        e = int(i ** .5) + 1\n",
        "        for j in range(2, e + 1):\n",
        "            if i % j == 0:\n",
        "                break\n",
        "        else:\n",
        "            yield i\n",
        "\n",
        "\n",
        "def goldbach_conj():\n",
        "    for n in odd_composite_gen():\n",
        "        for p, s in itertools.product(prime_gen(n), range(1, int(n ** .5) + 2)):\n",
        "            # print(n, p, s)\n",
        "            if n == p + s ** 2 * 2:\n",
        "                # print(f\"{n} = {p} + ({s}**2)*2\")\n",
        "                yield n\n",
        "                break\n",
        "\n",
        "        else:\n",
        "            print(f\"got you: {n}\")\n",
        "            break\n",
        "\n",
        "\n",
        "for i in goldbach_conj():\n",
        "    pass  # print(i)"
      ],
      "execution_count": 0,
      "outputs": [
        {
          "output_type": "stream",
          "text": [
            "got you: 5777\n"
          ],
          "name": "stdout"
        }
      ]
    },
    {
      "metadata": {
        "id": "ydqj6WW8kEFg",
        "colab_type": "code",
        "colab": {}
      },
      "cell_type": "code",
      "source": [
        ""
      ],
      "execution_count": 0,
      "outputs": []
    }
  ]
}