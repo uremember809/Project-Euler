{
  "nbformat": 4,
  "nbformat_minor": 0,
  "metadata": {
    "colab": {
      "name": "Project Euler (31-35).ipynb",
      "version": "0.3.2",
      "provenance": [],
      "include_colab_link": true
    },
    "kernelspec": {
      "name": "python3",
      "display_name": "Python 3",
      "language": "python"
    }
  },
  "cells": [
    {
      "cell_type": "markdown",
      "metadata": {
        "id": "view-in-github",
        "colab_type": "text"
      },
      "source": [
        "<a href=\"https://colab.research.google.com/github/uremember809/Project-Euler/blob/master/Project_Euler_(31_35).ipynb\" target=\"_parent\"><img src=\"https://colab.research.google.com/assets/colab-badge.svg\" alt=\"Open In Colab\"/></a>"
      ]
    },
    {
      "metadata": {
        "trusted": true,
        "id": "EgIRIZSLC1h7",
        "colab_type": "code",
        "colab": {}
      },
      "cell_type": "code",
      "source": [
        "%load_ext lab_black"
      ],
      "execution_count": 0,
      "outputs": []
    },
    {
      "metadata": {
        "id": "g_CAWLqIztaY",
        "colab_type": "text"
      },
      "cell_type": "markdown",
      "source": [
        "<div id=\"content\">\n",
        "\n",
        "<h2>Coin sums</h2><div id=\"problem_info\"><h3>Problem 31</h3></div>\n",
        "<div class=\"problem_content\" role=\"problem\">\n",
        "\n",
        "<p>In England the currency is made up of pound, £, and pence, p, and there are eight coins in general circulation:</p>\n",
        "<blockquote>1p, 2p, 5p, 10p, 20p, 50p, £1 (100p) and £2 (200p).</blockquote>\n",
        "<p>It is possible to make £2 in the following way:</p>\n",
        "<blockquote>1X£1 + 1X50p + 2X20p + 1X5p + 1X2p + 3Xp</blockquote>\n",
        "<p>How many different ways can £2 be made using any number of coins?</p>\n",
        "\n",
        "</div><br>\n",
        "<br></div>"
      ]
    },
    {
      "metadata": {
        "id": "rF-Ur5R-0CWr",
        "colab_type": "code",
        "trusted": true,
        "colab": {}
      },
      "cell_type": "code",
      "source": [
        "def coin_sums(n):\n",
        "\n",
        "    comb = [0] * (n + 1)  # initial combination :all zeros\n",
        "    comb[0] = 1\n",
        "    # combination of 0 cent : always 1,that is none coins for any coins.\n",
        "    coins = [1, 2, 5, 10, 20, 50, 100, 200]\n",
        "\n",
        "    for coin in coins:\n",
        "        for i in range(coin, n + 1):\n",
        "            comb[i] += comb[i - coin]\n",
        "            # the combinations of any number always contain all the combinations of the number that exactly one coin less\n",
        "            # for example: the comination of 78 cents with 5 cents in it is all the combinations of 72 cents\n",
        "\n",
        "    return comb[n]"
      ],
      "execution_count": 0,
      "outputs": []
    },
    {
      "metadata": {
        "id": "rjFrKEsRzmQ1",
        "colab_type": "code",
        "outputId": "331343de-673e-44a2-bb21-1fca3f2e07fd",
        "trusted": true,
        "colab": {
          "base_uri": "https://localhost:8080/",
          "height": 98
        }
      },
      "cell_type": "code",
      "source": [
        "%%time\n",
        "\n",
        "coin_sums(200)"
      ],
      "execution_count": 0,
      "outputs": [
        {
          "output_type": "stream",
          "text": [
            "CPU times: user 322 µs, sys: 42 µs, total: 364 µs\n",
            "Wall time: 371 µs\n"
          ],
          "name": "stdout"
        },
        {
          "output_type": "execute_result",
          "data": {
            "text/plain": [
              "73682"
            ]
          },
          "metadata": {
            "tags": []
          },
          "execution_count": 3
        }
      ]
    },
    {
      "metadata": {
        "id": "81nuqViz5HsD",
        "colab_type": "text"
      },
      "cell_type": "markdown",
      "source": [
        "<div id=\"content\">\n",
        "\n",
        "<h2>Pandigital products</h2><div id=\"problem_info\"><h3>Problem 32</h3></div>\n",
        "<div class=\"problem_content\" role=\"problem\">\n",
        "<p>We shall say that an <var>n</var>-digit number is pandigital if it makes use of all the digits 1 to <var>n</var> exactly once; for example, the 5-digit number, 15234, is 1 through 5 pandigital.</p>\n",
        "\n",
        "<p>The product 7254 is unusual, as the identity, 39 X 186 = 7254, containing multiplicand, multiplier, and product is 1 through 9 pandigital.</p>\n",
        "\n",
        "<p>Find the sum of all products whose multiplicand/multiplier/product identity can be written as a 1 through 9 pandigital.</p>\n",
        "\n",
        "<div class=\"note\">HINT: Some products can be obtained in more than one way so be sure to only include it once in your sum.</div>\n",
        "\n",
        "</div><br>\n",
        "<br></div>"
      ]
    },
    {
      "metadata": {
        "id": "sJ8GJ_Sw3yD5",
        "colab_type": "code",
        "trusted": true,
        "colab": {}
      },
      "cell_type": "code",
      "source": [
        "import itertools"
      ],
      "execution_count": 0,
      "outputs": []
    },
    {
      "metadata": {
        "id": "kTbhosXCLiCf",
        "colab_type": "code",
        "outputId": "47c08a1a-c3cc-43e2-8fcd-38a23480c87e",
        "trusted": true,
        "colab": {
          "base_uri": "https://localhost:8080/",
          "height": 233
        }
      },
      "cell_type": "code",
      "source": [
        " %%time\n",
        "  \n",
        "  s = set()  # result set initialazation\n",
        "  \n",
        "  def list_num(x):  # function that turn number list back to number\n",
        "    return int(''.join(x))\n",
        "  \n",
        "  \n",
        "  for x in itertools.permutations(str(123456789)):  # permuation of 1 to 9, a number LIST\n",
        "    for i in range(0,2):\n",
        "      for j in range(i+1, 5):  # slice the numbers\n",
        "        d1 = x[:i+1]  # 1 or 2 digits\n",
        "        d2 = x[i+1:j+1]  # 2 or 3 digits\n",
        "        d3 = x[j+1:]  # 4 or 5 digits\n",
        "       # print(d1, d2, d3)\n",
        "        d1 = list_num(d1)  # back to numbers\n",
        "        d2 = list_num(d2)\n",
        "        d3 = list_num(d3)\n",
        "        \n",
        "        if d1 * d2 == d3:\n",
        "            print(f'{d1} X {d2} = {d3}')\n",
        "            s.add(d3)  # add to the set\n",
        "        \n",
        " \n",
        "  print(f'the sum of the products is: {sum(s)}')  \n",
        "  \n"
      ],
      "execution_count": 0,
      "outputs": [
        {
          "output_type": "stream",
          "text": [
            "12 X 483 = 5796\n",
            "18 X 297 = 5346\n",
            "27 X 198 = 5346\n",
            "28 X 157 = 4396\n",
            "39 X 186 = 7254\n",
            "4 X 1738 = 6952\n",
            "4 X 1963 = 7852\n",
            "42 X 138 = 5796\n",
            "48 X 159 = 7632\n",
            "the sum of the products is: 45228\n",
            "CPU times: user 7.64 s, sys: 7.41 ms, total: 7.65 s\n",
            "Wall time: 7.72 s\n"
          ],
          "name": "stdout"
        }
      ]
    },
    {
      "metadata": {
        "id": "QRNS6jKD5W8H",
        "colab_type": "text"
      },
      "cell_type": "markdown",
      "source": [
        "<div id=\"content\">\n",
        "\n",
        "<h2>Digit cancelling fractions</h2><div id=\"problem_info\"><h3>Problem 33 </h3></div>\n",
        "<div class=\"problem_content\" role=\"problem\">\n",
        "<p>The fraction <sup>49</sup>/<sub>98</sub> is a curious fraction, as an inexperienced mathematician in attempting to simplify it may incorrectly believe that <sup>49</sup>/<sub>98</sub> = <sup>4</sup>/<sub>8</sub>, which is correct, is obtained by cancelling the 9s.</p>\n",
        "<p>We shall consider fractions like, <sup>30</sup>/<sub>50</sub> = <sup>3</sup>/<sub>5</sub>, to be trivial examples.</p>\n",
        "<p>There are exactly four non-trivial examples of this type of fraction, less than one in value, and containing two digits in the numerator and denominator.</p>\n",
        "<p>If the product of these four fractions is given in its lowest common terms, find the value of the denominator.</p>\n",
        "\n",
        "</div><br>\n",
        "<br></div>"
      ]
    },
    {
      "metadata": {
        "id": "rzyMzEpOUA2p",
        "colab_type": "code",
        "trusted": true,
        "colab": {}
      },
      "cell_type": "code",
      "source": [
        "def digit_cancel():\n",
        "    import itertools\n",
        "\n",
        "    for i in range(10, 100):\n",
        "        for j in range(10, 100):  # loop throug 10 to 99\n",
        "            for d in str(i):\n",
        "                if d in str(j):  # check if the second number has the same digit\n",
        "                    l_i = list(str(i))\n",
        "                    l_j = list(str(j))\n",
        "                    l_i.remove(d)  # remove that digit from both numbers\n",
        "                    l_j.remove(d)\n",
        "                    d_i = int(\"\".join(l_i))\n",
        "                    d_j = int(\"\".join(l_j))\n",
        "                    if i < j and d_i < d_j and i % 10 != 0:\n",
        "                        # print(i, d_i, j, d_j)\n",
        "                        if i / j == d_i / d_j:  # check them again the condition\n",
        "                            print(i, j)"
      ],
      "execution_count": 0,
      "outputs": []
    },
    {
      "metadata": {
        "id": "8-N1c7G4jlVp",
        "colab_type": "code",
        "outputId": "ba986bba-68ca-477f-ed6d-16a6711d971d",
        "trusted": true,
        "colab": {
          "base_uri": "https://localhost:8080/",
          "height": 126
        }
      },
      "cell_type": "code",
      "source": [
        "%%time\n",
        "digit_cancel()"
      ],
      "execution_count": 0,
      "outputs": [
        {
          "output_type": "stream",
          "text": [
            "16 64\n",
            "19 95\n",
            "26 65\n",
            "49 98\n",
            "CPU times: user 19.8 ms, sys: 54 µs, total: 19.9 ms\n",
            "Wall time: 19.2 ms\n"
          ],
          "name": "stdout"
        }
      ]
    },
    {
      "metadata": {
        "id": "hHjTBHE6wyoB",
        "colab_type": "text"
      },
      "cell_type": "markdown",
      "source": [
        "<div id=\"content\">\n",
        "\n",
        "<h2>Digit factorials</h2><div id=\"problem_info\"><h3>Problem 34 </h3></div>\n",
        "<div class=\"problem_content\" role=\"problem\">\n",
        "\n",
        "<p>145 is a curious number, as 1! + 4! + 5! = 1 + 24 + 120 = 145.</p>\n",
        "<p>Find the sum of all numbers which are equal to the sum of the factorial of their digits.</p>\n",
        "<p class=\"info\">Note: as 1! = 1 and 2! = 2 are not sums they are not included.</p>\n",
        "\n",
        "</div><br>\n",
        "<br></div>"
      ]
    },
    {
      "metadata": {
        "id": "5XV9v-2KwyOR",
        "colab_type": "code",
        "trusted": true,
        "colab": {}
      },
      "cell_type": "code",
      "source": [
        "def fract(n):\n",
        "    from operator import mul\n",
        "    from functools import reduce\n",
        "\n",
        "    return reduce(mul, range(1, n + 1), 1)"
      ],
      "execution_count": 0,
      "outputs": []
    },
    {
      "metadata": {
        "trusted": true,
        "id": "CduEUhL9C1iX",
        "colab_type": "code",
        "colab": {},
        "outputId": "54fad4fd-41a7-41e4-f333-8086d7cc1c25"
      },
      "cell_type": "code",
      "source": [
        "fract(9) * 9"
      ],
      "execution_count": 0,
      "outputs": [
        {
          "output_type": "execute_result",
          "data": {
            "text/plain": [
              "3265920"
            ]
          },
          "metadata": {
            "tags": []
          },
          "execution_count": 9
        }
      ]
    },
    {
      "metadata": {
        "id": "vNp3_lDTowsN",
        "colab_type": "code",
        "trusted": true,
        "colab": {}
      },
      "cell_type": "code",
      "source": [
        "cache = {x: fract(x) for x in range(10)}\n",
        "\n",
        "\n",
        "def digital_fact():\n",
        "    s = 0\n",
        "    for i in range(11, fract(9) * 9):\n",
        "        num = [int(y) for y in str(i)]\n",
        "        f = [cache[n] for n in num]\n",
        "        if sum(f) == i:\n",
        "            print(i)\n",
        "            s += i\n",
        "    return s"
      ],
      "execution_count": 0,
      "outputs": []
    },
    {
      "metadata": {
        "id": "D_7wf42wo4x5",
        "colab_type": "code",
        "outputId": "da441bd7-4b7f-404b-da32-7c98071f544c",
        "trusted": true,
        "colab": {
          "base_uri": "https://localhost:8080/",
          "height": 152
        }
      },
      "cell_type": "code",
      "source": [
        "%%time\n",
        "digital_fact()"
      ],
      "execution_count": 0,
      "outputs": [
        {
          "output_type": "stream",
          "text": [
            "145\n",
            "40585\n",
            "CPU times: user 12.2 s, sys: 4.01 ms, total: 12.2 s\n",
            "Wall time: 12.3 s\n"
          ],
          "name": "stdout"
        },
        {
          "output_type": "execute_result",
          "data": {
            "text/plain": [
              "40730"
            ]
          },
          "metadata": {
            "tags": []
          },
          "execution_count": 11
        }
      ]
    },
    {
      "metadata": {
        "colab_type": "code",
        "id": "DcHNmkJF9yIn",
        "trusted": true,
        "colab": {}
      },
      "cell_type": "code",
      "source": [
        "def digital_fact1():\n",
        "    s = 0\n",
        "    for i in range(11, 2540161):\n",
        "        num = [fract(int(y)) for y in str(i)] # it is very slow without cache\n",
        "        if sum(num) == i:\n",
        "            print(i)\n",
        "            s += i\n",
        "    return s"
      ],
      "execution_count": 0,
      "outputs": []
    },
    {
      "metadata": {
        "id": "HGyEi_a3oeXR",
        "colab_type": "code",
        "outputId": "6da352fd-4096-4712-aeb1-351904cbe7a2",
        "trusted": true,
        "colab": {
          "base_uri": "https://localhost:8080/",
          "height": 162
        }
      },
      "cell_type": "code",
      "source": [
        "%%time\n",
        "\n",
        "digital_fact1()"
      ],
      "execution_count": 0,
      "outputs": [
        {
          "output_type": "stream",
          "text": [
            "145\n",
            "40585\n",
            "CPU times: user 1min 22s, sys: 51.9 ms, total: 1min 22s\n",
            "Wall time: 1min 22s\n"
          ],
          "name": "stdout"
        },
        {
          "output_type": "execute_result",
          "data": {
            "text/plain": [
              "40730"
            ]
          },
          "metadata": {
            "tags": []
          },
          "execution_count": 13
        }
      ]
    },
    {
      "metadata": {
        "id": "wXvKUtEbA9Ft",
        "colab_type": "text"
      },
      "cell_type": "markdown",
      "source": [
        "<div id=\"content\">\n",
        "\n",
        "<h2>Circular primes</h2><div id=\"problem_info\"><h3>Problem 35</h3></div>\n",
        "<div class=\"problem_content\" role=\"problem\">\n",
        "\n",
        "<p>The number, 197, is called a circular prime because all rotations of the digits: 197, 971, and 719, are themselves prime.</p>\n",
        "<p>There are thirteen such primes below 100: 2, 3, 5, 7, 11, 13, 17, 31, 37, 71, 73, 79, and 97.</p>\n",
        "<p>How many circular primes are there below one million?</p>\n",
        "\n",
        "</div><br>\n",
        "<br></div>"
      ]
    },
    {
      "metadata": {
        "id": "O-LknikM5ZcU",
        "colab_type": "code",
        "trusted": true,
        "colab": {}
      },
      "cell_type": "code",
      "source": [
        "def circular(x):  # a function that shift the digits\n",
        "    x = list(str(x))\n",
        "    x.append(x.pop(0))\n",
        "    x = int(\"\".join(x))\n",
        "    return x"
      ],
      "execution_count": 0,
      "outputs": []
    },
    {
      "metadata": {
        "id": "Z1xvaMOc4iYZ",
        "colab_type": "code",
        "trusted": true,
        "colab": {}
      },
      "cell_type": "code",
      "source": [
        "def prime_gen(x):\n",
        "\n",
        "    for i in range(2, x):\n",
        "        if i == 2:\n",
        "            yield 2\n",
        "        else:\n",
        "            e = int(i ** .5) + 1\n",
        "            for j in range(2, e + 1):\n",
        "                if i % j == 0:\n",
        "                    break\n",
        "                elif j < e:\n",
        "                    continue\n",
        "                else:\n",
        "                    yield i"
      ],
      "execution_count": 0,
      "outputs": []
    },
    {
      "metadata": {
        "id": "OBzhXye-WFVb",
        "colab_type": "code",
        "trusted": true,
        "colab": {}
      },
      "cell_type": "code",
      "source": [
        "def is_prime(n):\n",
        "\n",
        "    for i in range(2, int(n ** .5) + 1):\n",
        "        if n % i == 0:\n",
        "            return False\n",
        "    return True"
      ],
      "execution_count": 0,
      "outputs": []
    },
    {
      "metadata": {
        "id": "wcUulZhdufOP",
        "colab_type": "code",
        "trusted": true,
        "colab": {}
      },
      "cell_type": "code",
      "source": [
        "def pri_gen():\n",
        "\n",
        "    import itertools\n",
        "\n",
        "    yield 2\n",
        "    yield 3\n",
        "\n",
        "    for i in itertools.count(5, 2):\n",
        "        e = int(i ** .5) + 1\n",
        "        for j in range(3, e + 1):\n",
        "            if i % j == 0:\n",
        "                break\n",
        "            # elif j < e: pass\n",
        "        else:\n",
        "            yield i"
      ],
      "execution_count": 0,
      "outputs": []
    },
    {
      "metadata": {
        "colab_type": "code",
        "id": "b6RftxPar08Q",
        "outputId": "7d49f2a5-787e-450d-ed27-0e20d189ca25",
        "trusted": true,
        "colab": {
          "base_uri": "https://localhost:8080/",
          "height": 413
        }
      },
      "cell_type": "code",
      "source": [
        "%%time\n",
        "\n",
        "\n",
        "def circular_primes(n):\n",
        "\n",
        "    c_primes = []\n",
        "\n",
        "    for i in pri_gen():\n",
        "        s = str(i)\n",
        "        if i > n:\n",
        "            break\n",
        "        if (\n",
        "            i < n + 1\n",
        "            and (\"0\") not in s\n",
        "            and i not in c_primes\n",
        "            and \"4\" not in s\n",
        "            and \"6\" not in s\n",
        "            and \"8\" not in s\n",
        "        ):\n",
        "            c = [i]  # the list hold the prime and the shifted if it's a prime\n",
        "            while (\n",
        "                circular(i) not in c\n",
        "            ):  # run the checking only when shifted not in list\n",
        "                i = circular(i)\n",
        "                if is_prime(i):\n",
        "                    c.append(i)  # append if it's a prime\n",
        "                if not is_prime(i):\n",
        "                    del c\n",
        "                    break  # if it's not prime dump it and break\n",
        "            try:\n",
        "                c_primes += c  # put them in the result set\n",
        "                print(c)\n",
        "            except:\n",
        "                pass  # pass when erro occur variable erro ( c deleted none existing)\n",
        "\n",
        "    return len(c_primes)\n",
        "\n",
        "\n",
        "print(circular_primes(1000000))"
      ],
      "execution_count": 0,
      "outputs": [
        {
          "output_type": "stream",
          "text": [
            "[2]\n",
            "[3]\n",
            "[5]\n",
            "[7]\n",
            "[11]\n",
            "[13, 31]\n",
            "[17, 71]\n",
            "[37, 73]\n",
            "[79, 97]\n",
            "[113, 131, 311]\n",
            "[197, 971, 719]\n",
            "[199, 991, 919]\n",
            "[337, 373, 733]\n",
            "[1193, 1931, 9311, 3119]\n",
            "[3779, 7793, 7937, 9377]\n",
            "[11939, 19391, 93911, 39119, 91193]\n",
            "[19937, 99371, 93719, 37199, 71993]\n",
            "[193939, 939391, 393919, 939193, 391939, 919393]\n",
            "[199933, 999331, 993319, 933199, 331999, 319993]\n",
            "55\n",
            "CPU times: user 5.7 s, sys: 16 ms, total: 5.71 s\n",
            "Wall time: 5.71 s\n"
          ],
          "name": "stdout"
        }
      ]
    },
    {
      "metadata": {
        "id": "tqkYF4WXC1iz",
        "colab_type": "code",
        "colab": {}
      },
      "cell_type": "code",
      "source": [
        ""
      ],
      "execution_count": 0,
      "outputs": []
    }
  ]
}